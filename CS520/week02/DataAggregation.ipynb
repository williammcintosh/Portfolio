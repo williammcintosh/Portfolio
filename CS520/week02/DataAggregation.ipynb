{
  "nbformat": 4,
  "nbformat_minor": 0,
  "metadata": {
    "colab": {
      "provenance": [],
      "toc_visible": true,
      "authorship_tag": "ABX9TyNlVWzUQXkRjV+RToRF7sAi",
      "include_colab_link": true
    },
    "kernelspec": {
      "name": "python3",
      "display_name": "Python 3"
    },
    "language_info": {
      "name": "python"
    }
  },
  "cells": [
    {
      "cell_type": "markdown",
      "metadata": {
        "id": "view-in-github",
        "colab_type": "text"
      },
      "source": [
        "<a href=\"https://colab.research.google.com/github/williammcintosh/Portfolio/blob/master/CS520/week02/DataAggregation.ipynb\" target=\"_parent\"><img src=\"https://colab.research.google.com/assets/colab-badge.svg\" alt=\"Open In Colab\"/></a>"
      ]
    },
    {
      "cell_type": "code",
      "execution_count": null,
      "metadata": {
        "id": "N2Df6IsVc6eW"
      },
      "outputs": [],
      "source": [
        "import pandas as pd\n",
        "import numpy as np\n",
        "import matplotlib.pyplot as plt\n",
        "import seaborn as sns\n",
        "%matplotlib inline"
      ]
    },
    {
      "cell_type": "code",
      "source": [
        "from urllib.request import urlopen\n",
        "from bs4 import BeautifulSoup"
      ],
      "metadata": {
        "id": "CWYSHYI1dB4r"
      },
      "execution_count": null,
      "outputs": []
    },
    {
      "cell_type": "code",
      "source": [
        "url = \"http://www.hubertiming.com/results/2017GPTR10K\"\n",
        "html = urlopen(url)"
      ],
      "metadata": {
        "id": "_0ark4vwdIzQ"
      },
      "execution_count": null,
      "outputs": []
    },
    {
      "cell_type": "markdown",
      "source": [
        "# Data Gathering using Beautiful Soup"
      ],
      "metadata": {
        "id": "3Ho23XjoeWPo"
      }
    },
    {
      "cell_type": "markdown",
      "source": [
        "## Creating a Beautifuil Soup Object"
      ],
      "metadata": {
        "id": "zRHyneWveddi"
      }
    },
    {
      "cell_type": "markdown",
      "source": [
        "hubertiming.com is a husband/wife team in Bend, OR who provide timing and race result services to race organizers throughout the USA. They provide timing information for dozens of races each year.\n",
        "\n",
        "After you get the HTML page create a Beautiful Soup object from the html. This is done by passing the html to the BeautifulSoup() function. The Beautiful Soup package is used to parse the html, that is, take the raw html text and break it into Python objects. The second argument 'lxml' is the html parser, one of several such parsers available for use."
      ],
      "metadata": {
        "id": "YH0NldZyeSNX"
      }
    },
    {
      "cell_type": "code",
      "source": [
        "soup = BeautifulSoup(html, 'lxml')\n",
        "type(soup)"
      ],
      "metadata": {
        "colab": {
          "base_uri": "https://localhost:8080/"
        },
        "id": "hfwYtd1AdKnA",
        "outputId": "715f6ce3-b801-4965-9267-12c3f8d58061"
      },
      "execution_count": null,
      "outputs": [
        {
          "output_type": "execute_result",
          "data": {
            "text/plain": [
              "bs4.BeautifulSoup"
            ]
          },
          "metadata": {},
          "execution_count": 4
        }
      ]
    },
    {
      "cell_type": "markdown",
      "source": [
        "The soup object allows you to extract interesting information about the website such as the title of the page as shown below."
      ],
      "metadata": {
        "id": "Yi23YRsYePhT"
      }
    },
    {
      "cell_type": "code",
      "source": [
        "# Get the title\n",
        "title = soup.title\n",
        "print(title)"
      ],
      "metadata": {
        "colab": {
          "base_uri": "https://localhost:8080/"
        },
        "id": "SYTHxYLodNxf",
        "outputId": "e0cc5a88-abc5-4d9b-8640-f557e79dcb14"
      },
      "execution_count": null,
      "outputs": [
        {
          "output_type": "stream",
          "name": "stdout",
          "text": [
            "<title>Race results for the 2017 Intel Great Place to Run \\ Urban Clash Games!</title>\n"
          ]
        }
      ]
    },
    {
      "cell_type": "markdown",
      "source": [
        "## Getting Website Text"
      ],
      "metadata": {
        "id": "sclEWKFWeaN6"
      }
    },
    {
      "cell_type": "markdown",
      "source": [
        "You can also get the text of the webpage and quickly print it out to check if it is what you expect.\n"
      ],
      "metadata": {
        "id": "JLQd-O2eeNZv"
      }
    },
    {
      "cell_type": "code",
      "source": [
        "# print(soup.text)"
      ],
      "metadata": {
        "id": "3xdkIfxEdRa3"
      },
      "execution_count": null,
      "outputs": []
    },
    {
      "cell_type": "markdown",
      "source": [
        "Next, use the find_all() method of soup to extract useful html tags within a webpage. Examples of useful tags include < a > for hyperlinks, < table > for tables, < tr > for table rows, < th > for table headers, and < td > for table cells. The code below shows how to extract all the hyperlinks within the webpage."
      ],
      "metadata": {
        "id": "ZjUmUReReHKp"
      }
    },
    {
      "cell_type": "code",
      "source": [
        "soup.find_all('a')"
      ],
      "metadata": {
        "colab": {
          "base_uri": "https://localhost:8080/"
        },
        "id": "X7pnIV_rdXhh",
        "outputId": "62a82d48-5c26-476d-81d9-c01039bc8abe"
      },
      "execution_count": null,
      "outputs": [
        {
          "output_type": "execute_result",
          "data": {
            "text/plain": [
              "[<a href=\"mailto:timing@hubertiming.com\">timing@hubertiming.com</a>,\n",
              " <a href=\"https://www.hubertiming.com\">Huber Timing Home</a>,\n",
              " <a class=\"btn btn-primary btn-lg\" href=\"/results/2017GPTR\" role=\"button\" style=\"margin: 0px 0px 5px 5px\"><i aria-hidden=\"true\" class=\"fa fa-user\"></i> 5K Individual</a>,\n",
              " <a class=\"btn btn-primary btn-lg\" href=\"/results/team/2017GPTR\" role=\"button\" style=\"margin: 0px 0px 5px 5px\"><i aria-hidden=\"true\" class=\"fa fa-users\"></i> 5K Team</a>,\n",
              " <a class=\"btn btn-primary btn-lg\" href=\"/results/team/2017GPTR10K\" role=\"button\" style=\"margin: 0px 0px 5px 5px\"><i aria-hidden=\"true\" class=\"fa fa-users\"></i> 10K Team</a>,\n",
              " <a class=\"btn btn-primary btn-lg\" href=\"/results/summary/2017GPTR10K\" role=\"button\" style=\"margin: 0px 0px 5px 5px\"><i class=\"fa fa-stream\"></i> Summary</a>,\n",
              " <a id=\"individual\" name=\"individual\"></a>,\n",
              " <a data-url=\"/results/2017GPTR10K\" href=\"#tabs-1\" id=\"rootTab\" style=\"font-size: 18px\">10K Results</a>,\n",
              " <a href=\"https://www.hubertiming.com/\"><img height=\"65\" src=\"https://www.hubertiming.com//sites/all/themes/hubertiming/images/clockWithFinishSign_small.png\" width=\"50\"/>Huber Timing</a>,\n",
              " <a href=\"https://facebook.com/hubertiming/\"><img src=\"https://www.hubertiming.com/results/FB-f-Logo__blue_50.png\"/></a>,\n",
              " <a class=\"small\" id=\"bestFeatureEver\" style=\"color:#007bff\">Dark Mode</a>]"
            ]
          },
          "metadata": {},
          "execution_count": 7
        }
      ]
    },
    {
      "cell_type": "markdown",
      "source": [
        "As you can see from the output above, html tags sometimes come with attributes such as class, src, etc. These attributes provide additional information about html elements. You can use a for loop and the get('\"href\") method to extract and print out only hyperlinks."
      ],
      "metadata": {
        "id": "6ekw-OL9eEwi"
      }
    },
    {
      "cell_type": "code",
      "source": [
        "all_links = soup.find_all(\"a\")\n",
        "for link in all_links:\n",
        "    print(link.get(\"href\"))"
      ],
      "metadata": {
        "colab": {
          "base_uri": "https://localhost:8080/"
        },
        "id": "a6A2n6SzddXT",
        "outputId": "2e301b6b-2495-4529-8d65-16c45aa336cd"
      },
      "execution_count": null,
      "outputs": [
        {
          "output_type": "stream",
          "name": "stdout",
          "text": [
            "mailto:timing@hubertiming.com\n",
            "https://www.hubertiming.com\n",
            "/results/2017GPTR\n",
            "/results/team/2017GPTR\n",
            "/results/team/2017GPTR10K\n",
            "/results/summary/2017GPTR10K\n",
            "None\n",
            "#tabs-1\n",
            "https://www.hubertiming.com/\n",
            "https://facebook.com/hubertiming/\n",
            "None\n"
          ]
        }
      ]
    },
    {
      "cell_type": "markdown",
      "source": [
        "To print out table rows only, pass the 'tr' argument in soup.find_all().\n"
      ],
      "metadata": {
        "id": "4QZS_LI8eCK9"
      }
    },
    {
      "cell_type": "code",
      "source": [
        "# Print the first 10 rows for sanity check\n",
        "rows = soup.find_all('tr')\n",
        "# print(rows[:10])"
      ],
      "metadata": {
        "id": "0Irt-R1Udgu8"
      },
      "execution_count": null,
      "outputs": []
    },
    {
      "cell_type": "markdown",
      "source": [
        "One goal of this lab is to learn how to convert such table data to a Python Pandas dataframe for easier transformation and analysis. You should get all of the table’s rows in list form first and then convert that list into a pandas dataframe. Below is a for loop that iterates through table rows and prints out the cells of the rows. Again, BeautifulSoup helps you to process/access the data in ways that make sense for an HTML document with a call to find_all(‘td’). “td” is the tag used to delimit table cells."
      ],
      "metadata": {
        "id": "-NI_qUCsd-dt"
      }
    },
    {
      "cell_type": "code",
      "source": [
        "\n",
        "for row in rows:\n",
        "    row_td = row.find_all('td')\n",
        "print(row_td)\n",
        "type(row_td)"
      ],
      "metadata": {
        "colab": {
          "base_uri": "https://localhost:8080/"
        },
        "id": "2wNVzuF6dkHy",
        "outputId": "d48561db-8208-4bec-8b36-8ad6ebe094d9"
      },
      "execution_count": null,
      "outputs": [
        {
          "output_type": "stream",
          "name": "stdout",
          "text": [
            "[<td>577</td>, <td>443</td>, <td>\r\n",
            "\r\n",
            "                    LIBBY B MITCHELL\r\n",
            "\r\n",
            "                </td>, <td>F</td>, <td>HILLSBORO</td>, <td>OR</td>, <td>1:41:18</td>, <td>1:42:10</td>, <td></td>]\n"
          ]
        },
        {
          "output_type": "execute_result",
          "data": {
            "text/plain": [
              "bs4.element.ResultSet"
            ]
          },
          "metadata": {},
          "execution_count": 10
        }
      ]
    },
    {
      "cell_type": "markdown",
      "source": [
        "The output above shows that each row is printed with html tags embedded in each row. This is not what you want. You can remove the html tags using Beautiful Soup or regular expressions.\n",
        "\n",
        "To remove html tags using Beautiful Soup, pass the string of interest into BeautifulSoup() and use the get_text() method to extract the text without html tags.\n"
      ],
      "metadata": {
        "id": "HTf2M2Lfd8K6"
      }
    },
    {
      "cell_type": "code",
      "source": [
        "str_cells = str(row_td)\n",
        "cleantext = BeautifulSoup(str_cells, \"lxml\").get_text()\n",
        "print(cleantext)"
      ],
      "metadata": {
        "colab": {
          "base_uri": "https://localhost:8080/"
        },
        "id": "pjLy0FU5do4r",
        "outputId": "76d63fca-2cca-420f-8053-efeb0b9faaee"
      },
      "execution_count": null,
      "outputs": [
        {
          "output_type": "stream",
          "name": "stdout",
          "text": [
            "[577, 443, \r\n",
            "\r\n",
            "                    LIBBY B MITCHELL\r\n",
            "\r\n",
            "                , F, HILLSBORO, OR, 1:41:18, 1:42:10, ]\n"
          ]
        }
      ]
    },
    {
      "cell_type": "markdown",
      "source": [
        "## Regular Expressions"
      ],
      "metadata": {
        "id": "f9UPmnjeetX_"
      }
    },
    {
      "cell_type": "markdown",
      "source": [
        "To gain a better understanding of the problem, try doing the same extraction with regular expressions. Be sure to import the re (regular expressions) module in your python environment. The code below shows how to build a regular expression that finds all the characters inside the < td > html tags and replace them with an empty string for each table row.\n",
        "\n",
        "First, the code compiles a regular expression by passing the regex to re.compile(). Compilation is not required, but many python programming resources recommend compilation of regex to improve performance. This is especially the case if the same regex is to be used over many lines of input text.\n",
        "\n",
        "The '<.*?>' regex will match an opening angle bracket followed by anything and followed by a closing angle bracket. The ‘?’ character causes the regex to match text in a non-greedy fashion, that is, it matches the shortest possible string. If you omit the question mark, it will match all the text between the first opening angle bracket and the last closing angle bracket which would lead to confusing results.\n",
        "\n",
        "After compiling the regex, use the re.sub() method to find all the substrings where the regular expression matches and replace each with an empty string. The full code below generates an empty list, extracts text between html tags for each row, and appends it to the assigned list.\n"
      ],
      "metadata": {
        "id": "uURwXjzwd41C"
      }
    },
    {
      "cell_type": "code",
      "source": [
        "import re\n",
        "\n",
        "list_rows = []\n",
        "for row in rows:\n",
        "    cells = row.find_all('td')\n",
        "    str_cells = str(cells)\n",
        "    clean = re.compile('<.*?>')\n",
        "    clean2 = (re.sub(clean, '',str_cells))\n",
        "    list_rows.append(clean2)\n",
        "print(clean2)\n",
        "type(clean2)\n"
      ],
      "metadata": {
        "colab": {
          "base_uri": "https://localhost:8080/"
        },
        "id": "41KT_hAVdufS",
        "outputId": "26a4b4ac-009d-48f6-85af-371488f9b878"
      },
      "execution_count": null,
      "outputs": [
        {
          "output_type": "stream",
          "name": "stdout",
          "text": [
            "[577, 443, \r\n",
            "\r\n",
            "                    LIBBY B MITCHELL\r\n",
            "\r\n",
            "                , F, HILLSBORO, OR, 1:41:18, 1:42:10, ]\n"
          ]
        },
        {
          "output_type": "execute_result",
          "data": {
            "text/plain": [
              "str"
            ]
          },
          "metadata": {},
          "execution_count": 12
        }
      ]
    },
    {
      "cell_type": "markdown",
      "source": [
        "Using regex works well for this task, but I also hope that you can see what an advantage BeautifulSoup gives you for the specific job of parsing html documents! \n",
        "\n",
        "The next step is to convert the list into a pandas dataframe and get a quick view of the first 10 rows of data. Pandas is a wonderful tool for manipulating python data as tables. It’s almost like having a database server or google sheets within your python environment. We will use a couple of features in this lab (and throughout the DataEng course), but I encourage you to explore it much further, see the pandas wikipedia page for a start.\n"
      ],
      "metadata": {
        "id": "wD81vuuSe0xe"
      }
    },
    {
      "cell_type": "markdown",
      "source": [
        "## Creating a Pandas Dataframe"
      ],
      "metadata": {
        "id": "gJ1eczcRe46O"
      }
    },
    {
      "cell_type": "code",
      "source": [
        "df = pd.DataFrame(list_rows)\n",
        "df.head(10)"
      ],
      "metadata": {
        "colab": {
          "base_uri": "https://localhost:8080/",
          "height": 363
        },
        "id": "n14YcltwerHs",
        "outputId": "35e96463-c396-421c-9124-31d7127fa450"
      },
      "execution_count": null,
      "outputs": [
        {
          "output_type": "execute_result",
          "data": {
            "text/plain": [
              "                                                   0\n",
              "0                                                 []\n",
              "1                                  [Finishers:, 577]\n",
              "2                                       [Male:, 414]\n",
              "3                                     [Female:, 163]\n",
              "4                                                 []\n",
              "5  [1, 814, \\r\\n\\r\\n                    JARED WIL...\n",
              "6  [2, 573, \\r\\n\\r\\n                    NATHAN A ...\n",
              "7  [3, 687, \\r\\n\\r\\n                    FRANCISCO...\n",
              "8  [4, 623, \\r\\n\\r\\n                    PAUL MORR...\n",
              "9  [5, 569, \\r\\n\\r\\n                    DEREK G O..."
            ],
            "text/html": [
              "\n",
              "  <div id=\"df-9abd9fc6-5ce1-453e-9c3f-0eb4ef97ced3\">\n",
              "    <div class=\"colab-df-container\">\n",
              "      <div>\n",
              "<style scoped>\n",
              "    .dataframe tbody tr th:only-of-type {\n",
              "        vertical-align: middle;\n",
              "    }\n",
              "\n",
              "    .dataframe tbody tr th {\n",
              "        vertical-align: top;\n",
              "    }\n",
              "\n",
              "    .dataframe thead th {\n",
              "        text-align: right;\n",
              "    }\n",
              "</style>\n",
              "<table border=\"1\" class=\"dataframe\">\n",
              "  <thead>\n",
              "    <tr style=\"text-align: right;\">\n",
              "      <th></th>\n",
              "      <th>0</th>\n",
              "    </tr>\n",
              "  </thead>\n",
              "  <tbody>\n",
              "    <tr>\n",
              "      <th>0</th>\n",
              "      <td>[]</td>\n",
              "    </tr>\n",
              "    <tr>\n",
              "      <th>1</th>\n",
              "      <td>[Finishers:, 577]</td>\n",
              "    </tr>\n",
              "    <tr>\n",
              "      <th>2</th>\n",
              "      <td>[Male:, 414]</td>\n",
              "    </tr>\n",
              "    <tr>\n",
              "      <th>3</th>\n",
              "      <td>[Female:, 163]</td>\n",
              "    </tr>\n",
              "    <tr>\n",
              "      <th>4</th>\n",
              "      <td>[]</td>\n",
              "    </tr>\n",
              "    <tr>\n",
              "      <th>5</th>\n",
              "      <td>[1, 814, \\r\\n\\r\\n                    JARED WIL...</td>\n",
              "    </tr>\n",
              "    <tr>\n",
              "      <th>6</th>\n",
              "      <td>[2, 573, \\r\\n\\r\\n                    NATHAN A ...</td>\n",
              "    </tr>\n",
              "    <tr>\n",
              "      <th>7</th>\n",
              "      <td>[3, 687, \\r\\n\\r\\n                    FRANCISCO...</td>\n",
              "    </tr>\n",
              "    <tr>\n",
              "      <th>8</th>\n",
              "      <td>[4, 623, \\r\\n\\r\\n                    PAUL MORR...</td>\n",
              "    </tr>\n",
              "    <tr>\n",
              "      <th>9</th>\n",
              "      <td>[5, 569, \\r\\n\\r\\n                    DEREK G O...</td>\n",
              "    </tr>\n",
              "  </tbody>\n",
              "</table>\n",
              "</div>\n",
              "      <button class=\"colab-df-convert\" onclick=\"convertToInteractive('df-9abd9fc6-5ce1-453e-9c3f-0eb4ef97ced3')\"\n",
              "              title=\"Convert this dataframe to an interactive table.\"\n",
              "              style=\"display:none;\">\n",
              "        \n",
              "  <svg xmlns=\"http://www.w3.org/2000/svg\" height=\"24px\"viewBox=\"0 0 24 24\"\n",
              "       width=\"24px\">\n",
              "    <path d=\"M0 0h24v24H0V0z\" fill=\"none\"/>\n",
              "    <path d=\"M18.56 5.44l.94 2.06.94-2.06 2.06-.94-2.06-.94-.94-2.06-.94 2.06-2.06.94zm-11 1L8.5 8.5l.94-2.06 2.06-.94-2.06-.94L8.5 2.5l-.94 2.06-2.06.94zm10 10l.94 2.06.94-2.06 2.06-.94-2.06-.94-.94-2.06-.94 2.06-2.06.94z\"/><path d=\"M17.41 7.96l-1.37-1.37c-.4-.4-.92-.59-1.43-.59-.52 0-1.04.2-1.43.59L10.3 9.45l-7.72 7.72c-.78.78-.78 2.05 0 2.83L4 21.41c.39.39.9.59 1.41.59.51 0 1.02-.2 1.41-.59l7.78-7.78 2.81-2.81c.8-.78.8-2.07 0-2.86zM5.41 20L4 18.59l7.72-7.72 1.47 1.35L5.41 20z\"/>\n",
              "  </svg>\n",
              "      </button>\n",
              "      \n",
              "  <style>\n",
              "    .colab-df-container {\n",
              "      display:flex;\n",
              "      flex-wrap:wrap;\n",
              "      gap: 12px;\n",
              "    }\n",
              "\n",
              "    .colab-df-convert {\n",
              "      background-color: #E8F0FE;\n",
              "      border: none;\n",
              "      border-radius: 50%;\n",
              "      cursor: pointer;\n",
              "      display: none;\n",
              "      fill: #1967D2;\n",
              "      height: 32px;\n",
              "      padding: 0 0 0 0;\n",
              "      width: 32px;\n",
              "    }\n",
              "\n",
              "    .colab-df-convert:hover {\n",
              "      background-color: #E2EBFA;\n",
              "      box-shadow: 0px 1px 2px rgba(60, 64, 67, 0.3), 0px 1px 3px 1px rgba(60, 64, 67, 0.15);\n",
              "      fill: #174EA6;\n",
              "    }\n",
              "\n",
              "    [theme=dark] .colab-df-convert {\n",
              "      background-color: #3B4455;\n",
              "      fill: #D2E3FC;\n",
              "    }\n",
              "\n",
              "    [theme=dark] .colab-df-convert:hover {\n",
              "      background-color: #434B5C;\n",
              "      box-shadow: 0px 1px 3px 1px rgba(0, 0, 0, 0.15);\n",
              "      filter: drop-shadow(0px 1px 2px rgba(0, 0, 0, 0.3));\n",
              "      fill: #FFFFFF;\n",
              "    }\n",
              "  </style>\n",
              "\n",
              "      <script>\n",
              "        const buttonEl =\n",
              "          document.querySelector('#df-9abd9fc6-5ce1-453e-9c3f-0eb4ef97ced3 button.colab-df-convert');\n",
              "        buttonEl.style.display =\n",
              "          google.colab.kernel.accessAllowed ? 'block' : 'none';\n",
              "\n",
              "        async function convertToInteractive(key) {\n",
              "          const element = document.querySelector('#df-9abd9fc6-5ce1-453e-9c3f-0eb4ef97ced3');\n",
              "          const dataTable =\n",
              "            await google.colab.kernel.invokeFunction('convertToInteractive',\n",
              "                                                     [key], {});\n",
              "          if (!dataTable) return;\n",
              "\n",
              "          const docLinkHtml = 'Like what you see? Visit the ' +\n",
              "            '<a target=\"_blank\" href=https://colab.research.google.com/notebooks/data_table.ipynb>data table notebook</a>'\n",
              "            + ' to learn more about interactive tables.';\n",
              "          element.innerHTML = '';\n",
              "          dataTable['output_type'] = 'display_data';\n",
              "          await google.colab.output.renderOutput(dataTable, element);\n",
              "          const docLink = document.createElement('div');\n",
              "          docLink.innerHTML = docLinkHtml;\n",
              "          element.appendChild(docLink);\n",
              "        }\n",
              "      </script>\n",
              "    </div>\n",
              "  </div>\n",
              "  "
            ]
          },
          "metadata": {},
          "execution_count": 13
        }
      ]
    },
    {
      "cell_type": "markdown",
      "source": [
        "# Data Transformation"
      ],
      "metadata": {
        "id": "6dEtavDGfBym"
      }
    },
    {
      "cell_type": "markdown",
      "source": [
        "Our topic this week is “Data Gathering”, and in a sense, you are done with the gathering. But to make things interesting you should continue on and use the data that you gathered. Next we need to transform the data into something more meaningful.\n",
        "\n",
        "The dataframe is not in the format we want. To clean it up, split the \"0\" column into multiple columns at the comma position. Use the str.split() method.\n"
      ],
      "metadata": {
        "id": "U0ePRu7WfN8P"
      }
    },
    {
      "cell_type": "code",
      "source": [
        "df1 = df[0].str.split(',', expand=True)\n",
        "df1.head(10)"
      ],
      "metadata": {
        "colab": {
          "base_uri": "https://localhost:8080/",
          "height": 363
        },
        "id": "8yiWZQ6re6k8",
        "outputId": "1fe0e579-b99e-4cb3-b1fa-aa252e45d394"
      },
      "execution_count": null,
      "outputs": [
        {
          "output_type": "execute_result",
          "data": {
            "text/plain": [
              "             0      1                                                  2  \\\n",
              "0           []   None                                               None   \n",
              "1  [Finishers:   577]                                               None   \n",
              "2       [Male:   414]                                               None   \n",
              "3     [Female:   163]                                               None   \n",
              "4           []   None                                               None   \n",
              "5           [1    814   \\r\\n\\r\\n                    JARED WILSON\\r\\n\\...   \n",
              "6           [2    573   \\r\\n\\r\\n                    NATHAN A SUSTERSI...   \n",
              "7           [3    687   \\r\\n\\r\\n                    FRANCISCO MAYA\\r\\...   \n",
              "8           [4    623   \\r\\n\\r\\n                    PAUL MORROW\\r\\n\\r...   \n",
              "9           [5    569   \\r\\n\\r\\n                    DEREK G OSBORNE\\r...   \n",
              "\n",
              "      3           4     5       6       7  \\\n",
              "0  None        None  None    None    None   \n",
              "1  None        None  None    None    None   \n",
              "2  None        None  None    None    None   \n",
              "3  None        None  None    None    None   \n",
              "4  None        None  None    None    None   \n",
              "5     M      TIGARD    OR   36:21   36:24   \n",
              "6     M    PORTLAND    OR   36:42   36:45   \n",
              "7     M    PORTLAND    OR   37:44   37:48   \n",
              "8     M   BEAVERTON    OR   38:34   38:37   \n",
              "9     M   HILLSBORO    OR   39:21   39:24   \n",
              "\n",
              "                                                   8  \n",
              "0                                               None  \n",
              "1                                               None  \n",
              "2                                               None  \n",
              "3                                               None  \n",
              "4                                               None  \n",
              "5                                                  ]  \n",
              "6   \\n\\r\\n                            INTEL TEAM ...  \n",
              "7                                                  ]  \n",
              "8                                                  ]  \n",
              "9   \\n\\r\\n                            INTEL TEAM ...  "
            ],
            "text/html": [
              "\n",
              "  <div id=\"df-83d851ab-2fd5-477b-8b23-ae39f00b90c9\">\n",
              "    <div class=\"colab-df-container\">\n",
              "      <div>\n",
              "<style scoped>\n",
              "    .dataframe tbody tr th:only-of-type {\n",
              "        vertical-align: middle;\n",
              "    }\n",
              "\n",
              "    .dataframe tbody tr th {\n",
              "        vertical-align: top;\n",
              "    }\n",
              "\n",
              "    .dataframe thead th {\n",
              "        text-align: right;\n",
              "    }\n",
              "</style>\n",
              "<table border=\"1\" class=\"dataframe\">\n",
              "  <thead>\n",
              "    <tr style=\"text-align: right;\">\n",
              "      <th></th>\n",
              "      <th>0</th>\n",
              "      <th>1</th>\n",
              "      <th>2</th>\n",
              "      <th>3</th>\n",
              "      <th>4</th>\n",
              "      <th>5</th>\n",
              "      <th>6</th>\n",
              "      <th>7</th>\n",
              "      <th>8</th>\n",
              "    </tr>\n",
              "  </thead>\n",
              "  <tbody>\n",
              "    <tr>\n",
              "      <th>0</th>\n",
              "      <td>[]</td>\n",
              "      <td>None</td>\n",
              "      <td>None</td>\n",
              "      <td>None</td>\n",
              "      <td>None</td>\n",
              "      <td>None</td>\n",
              "      <td>None</td>\n",
              "      <td>None</td>\n",
              "      <td>None</td>\n",
              "    </tr>\n",
              "    <tr>\n",
              "      <th>1</th>\n",
              "      <td>[Finishers:</td>\n",
              "      <td>577]</td>\n",
              "      <td>None</td>\n",
              "      <td>None</td>\n",
              "      <td>None</td>\n",
              "      <td>None</td>\n",
              "      <td>None</td>\n",
              "      <td>None</td>\n",
              "      <td>None</td>\n",
              "    </tr>\n",
              "    <tr>\n",
              "      <th>2</th>\n",
              "      <td>[Male:</td>\n",
              "      <td>414]</td>\n",
              "      <td>None</td>\n",
              "      <td>None</td>\n",
              "      <td>None</td>\n",
              "      <td>None</td>\n",
              "      <td>None</td>\n",
              "      <td>None</td>\n",
              "      <td>None</td>\n",
              "    </tr>\n",
              "    <tr>\n",
              "      <th>3</th>\n",
              "      <td>[Female:</td>\n",
              "      <td>163]</td>\n",
              "      <td>None</td>\n",
              "      <td>None</td>\n",
              "      <td>None</td>\n",
              "      <td>None</td>\n",
              "      <td>None</td>\n",
              "      <td>None</td>\n",
              "      <td>None</td>\n",
              "    </tr>\n",
              "    <tr>\n",
              "      <th>4</th>\n",
              "      <td>[]</td>\n",
              "      <td>None</td>\n",
              "      <td>None</td>\n",
              "      <td>None</td>\n",
              "      <td>None</td>\n",
              "      <td>None</td>\n",
              "      <td>None</td>\n",
              "      <td>None</td>\n",
              "      <td>None</td>\n",
              "    </tr>\n",
              "    <tr>\n",
              "      <th>5</th>\n",
              "      <td>[1</td>\n",
              "      <td>814</td>\n",
              "      <td>\\r\\n\\r\\n                    JARED WILSON\\r\\n\\...</td>\n",
              "      <td>M</td>\n",
              "      <td>TIGARD</td>\n",
              "      <td>OR</td>\n",
              "      <td>36:21</td>\n",
              "      <td>36:24</td>\n",
              "      <td>]</td>\n",
              "    </tr>\n",
              "    <tr>\n",
              "      <th>6</th>\n",
              "      <td>[2</td>\n",
              "      <td>573</td>\n",
              "      <td>\\r\\n\\r\\n                    NATHAN A SUSTERSI...</td>\n",
              "      <td>M</td>\n",
              "      <td>PORTLAND</td>\n",
              "      <td>OR</td>\n",
              "      <td>36:42</td>\n",
              "      <td>36:45</td>\n",
              "      <td>\\n\\r\\n                            INTEL TEAM ...</td>\n",
              "    </tr>\n",
              "    <tr>\n",
              "      <th>7</th>\n",
              "      <td>[3</td>\n",
              "      <td>687</td>\n",
              "      <td>\\r\\n\\r\\n                    FRANCISCO MAYA\\r\\...</td>\n",
              "      <td>M</td>\n",
              "      <td>PORTLAND</td>\n",
              "      <td>OR</td>\n",
              "      <td>37:44</td>\n",
              "      <td>37:48</td>\n",
              "      <td>]</td>\n",
              "    </tr>\n",
              "    <tr>\n",
              "      <th>8</th>\n",
              "      <td>[4</td>\n",
              "      <td>623</td>\n",
              "      <td>\\r\\n\\r\\n                    PAUL MORROW\\r\\n\\r...</td>\n",
              "      <td>M</td>\n",
              "      <td>BEAVERTON</td>\n",
              "      <td>OR</td>\n",
              "      <td>38:34</td>\n",
              "      <td>38:37</td>\n",
              "      <td>]</td>\n",
              "    </tr>\n",
              "    <tr>\n",
              "      <th>9</th>\n",
              "      <td>[5</td>\n",
              "      <td>569</td>\n",
              "      <td>\\r\\n\\r\\n                    DEREK G OSBORNE\\r...</td>\n",
              "      <td>M</td>\n",
              "      <td>HILLSBORO</td>\n",
              "      <td>OR</td>\n",
              "      <td>39:21</td>\n",
              "      <td>39:24</td>\n",
              "      <td>\\n\\r\\n                            INTEL TEAM ...</td>\n",
              "    </tr>\n",
              "  </tbody>\n",
              "</table>\n",
              "</div>\n",
              "      <button class=\"colab-df-convert\" onclick=\"convertToInteractive('df-83d851ab-2fd5-477b-8b23-ae39f00b90c9')\"\n",
              "              title=\"Convert this dataframe to an interactive table.\"\n",
              "              style=\"display:none;\">\n",
              "        \n",
              "  <svg xmlns=\"http://www.w3.org/2000/svg\" height=\"24px\"viewBox=\"0 0 24 24\"\n",
              "       width=\"24px\">\n",
              "    <path d=\"M0 0h24v24H0V0z\" fill=\"none\"/>\n",
              "    <path d=\"M18.56 5.44l.94 2.06.94-2.06 2.06-.94-2.06-.94-.94-2.06-.94 2.06-2.06.94zm-11 1L8.5 8.5l.94-2.06 2.06-.94-2.06-.94L8.5 2.5l-.94 2.06-2.06.94zm10 10l.94 2.06.94-2.06 2.06-.94-2.06-.94-.94-2.06-.94 2.06-2.06.94z\"/><path d=\"M17.41 7.96l-1.37-1.37c-.4-.4-.92-.59-1.43-.59-.52 0-1.04.2-1.43.59L10.3 9.45l-7.72 7.72c-.78.78-.78 2.05 0 2.83L4 21.41c.39.39.9.59 1.41.59.51 0 1.02-.2 1.41-.59l7.78-7.78 2.81-2.81c.8-.78.8-2.07 0-2.86zM5.41 20L4 18.59l7.72-7.72 1.47 1.35L5.41 20z\"/>\n",
              "  </svg>\n",
              "      </button>\n",
              "      \n",
              "  <style>\n",
              "    .colab-df-container {\n",
              "      display:flex;\n",
              "      flex-wrap:wrap;\n",
              "      gap: 12px;\n",
              "    }\n",
              "\n",
              "    .colab-df-convert {\n",
              "      background-color: #E8F0FE;\n",
              "      border: none;\n",
              "      border-radius: 50%;\n",
              "      cursor: pointer;\n",
              "      display: none;\n",
              "      fill: #1967D2;\n",
              "      height: 32px;\n",
              "      padding: 0 0 0 0;\n",
              "      width: 32px;\n",
              "    }\n",
              "\n",
              "    .colab-df-convert:hover {\n",
              "      background-color: #E2EBFA;\n",
              "      box-shadow: 0px 1px 2px rgba(60, 64, 67, 0.3), 0px 1px 3px 1px rgba(60, 64, 67, 0.15);\n",
              "      fill: #174EA6;\n",
              "    }\n",
              "\n",
              "    [theme=dark] .colab-df-convert {\n",
              "      background-color: #3B4455;\n",
              "      fill: #D2E3FC;\n",
              "    }\n",
              "\n",
              "    [theme=dark] .colab-df-convert:hover {\n",
              "      background-color: #434B5C;\n",
              "      box-shadow: 0px 1px 3px 1px rgba(0, 0, 0, 0.15);\n",
              "      filter: drop-shadow(0px 1px 2px rgba(0, 0, 0, 0.3));\n",
              "      fill: #FFFFFF;\n",
              "    }\n",
              "  </style>\n",
              "\n",
              "      <script>\n",
              "        const buttonEl =\n",
              "          document.querySelector('#df-83d851ab-2fd5-477b-8b23-ae39f00b90c9 button.colab-df-convert');\n",
              "        buttonEl.style.display =\n",
              "          google.colab.kernel.accessAllowed ? 'block' : 'none';\n",
              "\n",
              "        async function convertToInteractive(key) {\n",
              "          const element = document.querySelector('#df-83d851ab-2fd5-477b-8b23-ae39f00b90c9');\n",
              "          const dataTable =\n",
              "            await google.colab.kernel.invokeFunction('convertToInteractive',\n",
              "                                                     [key], {});\n",
              "          if (!dataTable) return;\n",
              "\n",
              "          const docLinkHtml = 'Like what you see? Visit the ' +\n",
              "            '<a target=\"_blank\" href=https://colab.research.google.com/notebooks/data_table.ipynb>data table notebook</a>'\n",
              "            + ' to learn more about interactive tables.';\n",
              "          element.innerHTML = '';\n",
              "          dataTable['output_type'] = 'display_data';\n",
              "          await google.colab.output.renderOutput(dataTable, element);\n",
              "          const docLink = document.createElement('div');\n",
              "          docLink.innerHTML = docLinkHtml;\n",
              "          element.appendChild(docLink);\n",
              "        }\n",
              "      </script>\n",
              "    </div>\n",
              "  </div>\n",
              "  "
            ]
          },
          "metadata": {},
          "execution_count": 14
        }
      ]
    },
    {
      "cell_type": "markdown",
      "source": [
        "This looks much better, but there is still work to do. The dataframe has unwanted square brackets surrounding each row. Use the strip() method to remove the opening square bracket on column \"0.\""
      ],
      "metadata": {
        "id": "WFpJzQSIfk1m"
      }
    },
    {
      "cell_type": "code",
      "source": [
        "df1[0] = df1[0].str.strip('[')\n",
        "df1.head(10)"
      ],
      "metadata": {
        "colab": {
          "base_uri": "https://localhost:8080/",
          "height": 363
        },
        "id": "n-0TeLtjfhc-",
        "outputId": "4c442aa8-fad4-4021-a740-90947369ec28"
      },
      "execution_count": null,
      "outputs": [
        {
          "output_type": "execute_result",
          "data": {
            "text/plain": [
              "            0      1                                                  2     3  \\\n",
              "0           ]   None                                               None  None   \n",
              "1  Finishers:   577]                                               None  None   \n",
              "2       Male:   414]                                               None  None   \n",
              "3     Female:   163]                                               None  None   \n",
              "4           ]   None                                               None  None   \n",
              "5           1    814   \\r\\n\\r\\n                    JARED WILSON\\r\\n\\...     M   \n",
              "6           2    573   \\r\\n\\r\\n                    NATHAN A SUSTERSI...     M   \n",
              "7           3    687   \\r\\n\\r\\n                    FRANCISCO MAYA\\r\\...     M   \n",
              "8           4    623   \\r\\n\\r\\n                    PAUL MORROW\\r\\n\\r...     M   \n",
              "9           5    569   \\r\\n\\r\\n                    DEREK G OSBORNE\\r...     M   \n",
              "\n",
              "            4     5       6       7  \\\n",
              "0        None  None    None    None   \n",
              "1        None  None    None    None   \n",
              "2        None  None    None    None   \n",
              "3        None  None    None    None   \n",
              "4        None  None    None    None   \n",
              "5      TIGARD    OR   36:21   36:24   \n",
              "6    PORTLAND    OR   36:42   36:45   \n",
              "7    PORTLAND    OR   37:44   37:48   \n",
              "8   BEAVERTON    OR   38:34   38:37   \n",
              "9   HILLSBORO    OR   39:21   39:24   \n",
              "\n",
              "                                                   8  \n",
              "0                                               None  \n",
              "1                                               None  \n",
              "2                                               None  \n",
              "3                                               None  \n",
              "4                                               None  \n",
              "5                                                  ]  \n",
              "6   \\n\\r\\n                            INTEL TEAM ...  \n",
              "7                                                  ]  \n",
              "8                                                  ]  \n",
              "9   \\n\\r\\n                            INTEL TEAM ...  "
            ],
            "text/html": [
              "\n",
              "  <div id=\"df-6d58f43d-ee44-4055-be60-fb7bc5507fb4\">\n",
              "    <div class=\"colab-df-container\">\n",
              "      <div>\n",
              "<style scoped>\n",
              "    .dataframe tbody tr th:only-of-type {\n",
              "        vertical-align: middle;\n",
              "    }\n",
              "\n",
              "    .dataframe tbody tr th {\n",
              "        vertical-align: top;\n",
              "    }\n",
              "\n",
              "    .dataframe thead th {\n",
              "        text-align: right;\n",
              "    }\n",
              "</style>\n",
              "<table border=\"1\" class=\"dataframe\">\n",
              "  <thead>\n",
              "    <tr style=\"text-align: right;\">\n",
              "      <th></th>\n",
              "      <th>0</th>\n",
              "      <th>1</th>\n",
              "      <th>2</th>\n",
              "      <th>3</th>\n",
              "      <th>4</th>\n",
              "      <th>5</th>\n",
              "      <th>6</th>\n",
              "      <th>7</th>\n",
              "      <th>8</th>\n",
              "    </tr>\n",
              "  </thead>\n",
              "  <tbody>\n",
              "    <tr>\n",
              "      <th>0</th>\n",
              "      <td>]</td>\n",
              "      <td>None</td>\n",
              "      <td>None</td>\n",
              "      <td>None</td>\n",
              "      <td>None</td>\n",
              "      <td>None</td>\n",
              "      <td>None</td>\n",
              "      <td>None</td>\n",
              "      <td>None</td>\n",
              "    </tr>\n",
              "    <tr>\n",
              "      <th>1</th>\n",
              "      <td>Finishers:</td>\n",
              "      <td>577]</td>\n",
              "      <td>None</td>\n",
              "      <td>None</td>\n",
              "      <td>None</td>\n",
              "      <td>None</td>\n",
              "      <td>None</td>\n",
              "      <td>None</td>\n",
              "      <td>None</td>\n",
              "    </tr>\n",
              "    <tr>\n",
              "      <th>2</th>\n",
              "      <td>Male:</td>\n",
              "      <td>414]</td>\n",
              "      <td>None</td>\n",
              "      <td>None</td>\n",
              "      <td>None</td>\n",
              "      <td>None</td>\n",
              "      <td>None</td>\n",
              "      <td>None</td>\n",
              "      <td>None</td>\n",
              "    </tr>\n",
              "    <tr>\n",
              "      <th>3</th>\n",
              "      <td>Female:</td>\n",
              "      <td>163]</td>\n",
              "      <td>None</td>\n",
              "      <td>None</td>\n",
              "      <td>None</td>\n",
              "      <td>None</td>\n",
              "      <td>None</td>\n",
              "      <td>None</td>\n",
              "      <td>None</td>\n",
              "    </tr>\n",
              "    <tr>\n",
              "      <th>4</th>\n",
              "      <td>]</td>\n",
              "      <td>None</td>\n",
              "      <td>None</td>\n",
              "      <td>None</td>\n",
              "      <td>None</td>\n",
              "      <td>None</td>\n",
              "      <td>None</td>\n",
              "      <td>None</td>\n",
              "      <td>None</td>\n",
              "    </tr>\n",
              "    <tr>\n",
              "      <th>5</th>\n",
              "      <td>1</td>\n",
              "      <td>814</td>\n",
              "      <td>\\r\\n\\r\\n                    JARED WILSON\\r\\n\\...</td>\n",
              "      <td>M</td>\n",
              "      <td>TIGARD</td>\n",
              "      <td>OR</td>\n",
              "      <td>36:21</td>\n",
              "      <td>36:24</td>\n",
              "      <td>]</td>\n",
              "    </tr>\n",
              "    <tr>\n",
              "      <th>6</th>\n",
              "      <td>2</td>\n",
              "      <td>573</td>\n",
              "      <td>\\r\\n\\r\\n                    NATHAN A SUSTERSI...</td>\n",
              "      <td>M</td>\n",
              "      <td>PORTLAND</td>\n",
              "      <td>OR</td>\n",
              "      <td>36:42</td>\n",
              "      <td>36:45</td>\n",
              "      <td>\\n\\r\\n                            INTEL TEAM ...</td>\n",
              "    </tr>\n",
              "    <tr>\n",
              "      <th>7</th>\n",
              "      <td>3</td>\n",
              "      <td>687</td>\n",
              "      <td>\\r\\n\\r\\n                    FRANCISCO MAYA\\r\\...</td>\n",
              "      <td>M</td>\n",
              "      <td>PORTLAND</td>\n",
              "      <td>OR</td>\n",
              "      <td>37:44</td>\n",
              "      <td>37:48</td>\n",
              "      <td>]</td>\n",
              "    </tr>\n",
              "    <tr>\n",
              "      <th>8</th>\n",
              "      <td>4</td>\n",
              "      <td>623</td>\n",
              "      <td>\\r\\n\\r\\n                    PAUL MORROW\\r\\n\\r...</td>\n",
              "      <td>M</td>\n",
              "      <td>BEAVERTON</td>\n",
              "      <td>OR</td>\n",
              "      <td>38:34</td>\n",
              "      <td>38:37</td>\n",
              "      <td>]</td>\n",
              "    </tr>\n",
              "    <tr>\n",
              "      <th>9</th>\n",
              "      <td>5</td>\n",
              "      <td>569</td>\n",
              "      <td>\\r\\n\\r\\n                    DEREK G OSBORNE\\r...</td>\n",
              "      <td>M</td>\n",
              "      <td>HILLSBORO</td>\n",
              "      <td>OR</td>\n",
              "      <td>39:21</td>\n",
              "      <td>39:24</td>\n",
              "      <td>\\n\\r\\n                            INTEL TEAM ...</td>\n",
              "    </tr>\n",
              "  </tbody>\n",
              "</table>\n",
              "</div>\n",
              "      <button class=\"colab-df-convert\" onclick=\"convertToInteractive('df-6d58f43d-ee44-4055-be60-fb7bc5507fb4')\"\n",
              "              title=\"Convert this dataframe to an interactive table.\"\n",
              "              style=\"display:none;\">\n",
              "        \n",
              "  <svg xmlns=\"http://www.w3.org/2000/svg\" height=\"24px\"viewBox=\"0 0 24 24\"\n",
              "       width=\"24px\">\n",
              "    <path d=\"M0 0h24v24H0V0z\" fill=\"none\"/>\n",
              "    <path d=\"M18.56 5.44l.94 2.06.94-2.06 2.06-.94-2.06-.94-.94-2.06-.94 2.06-2.06.94zm-11 1L8.5 8.5l.94-2.06 2.06-.94-2.06-.94L8.5 2.5l-.94 2.06-2.06.94zm10 10l.94 2.06.94-2.06 2.06-.94-2.06-.94-.94-2.06-.94 2.06-2.06.94z\"/><path d=\"M17.41 7.96l-1.37-1.37c-.4-.4-.92-.59-1.43-.59-.52 0-1.04.2-1.43.59L10.3 9.45l-7.72 7.72c-.78.78-.78 2.05 0 2.83L4 21.41c.39.39.9.59 1.41.59.51 0 1.02-.2 1.41-.59l7.78-7.78 2.81-2.81c.8-.78.8-2.07 0-2.86zM5.41 20L4 18.59l7.72-7.72 1.47 1.35L5.41 20z\"/>\n",
              "  </svg>\n",
              "      </button>\n",
              "      \n",
              "  <style>\n",
              "    .colab-df-container {\n",
              "      display:flex;\n",
              "      flex-wrap:wrap;\n",
              "      gap: 12px;\n",
              "    }\n",
              "\n",
              "    .colab-df-convert {\n",
              "      background-color: #E8F0FE;\n",
              "      border: none;\n",
              "      border-radius: 50%;\n",
              "      cursor: pointer;\n",
              "      display: none;\n",
              "      fill: #1967D2;\n",
              "      height: 32px;\n",
              "      padding: 0 0 0 0;\n",
              "      width: 32px;\n",
              "    }\n",
              "\n",
              "    .colab-df-convert:hover {\n",
              "      background-color: #E2EBFA;\n",
              "      box-shadow: 0px 1px 2px rgba(60, 64, 67, 0.3), 0px 1px 3px 1px rgba(60, 64, 67, 0.15);\n",
              "      fill: #174EA6;\n",
              "    }\n",
              "\n",
              "    [theme=dark] .colab-df-convert {\n",
              "      background-color: #3B4455;\n",
              "      fill: #D2E3FC;\n",
              "    }\n",
              "\n",
              "    [theme=dark] .colab-df-convert:hover {\n",
              "      background-color: #434B5C;\n",
              "      box-shadow: 0px 1px 3px 1px rgba(0, 0, 0, 0.15);\n",
              "      filter: drop-shadow(0px 1px 2px rgba(0, 0, 0, 0.3));\n",
              "      fill: #FFFFFF;\n",
              "    }\n",
              "  </style>\n",
              "\n",
              "      <script>\n",
              "        const buttonEl =\n",
              "          document.querySelector('#df-6d58f43d-ee44-4055-be60-fb7bc5507fb4 button.colab-df-convert');\n",
              "        buttonEl.style.display =\n",
              "          google.colab.kernel.accessAllowed ? 'block' : 'none';\n",
              "\n",
              "        async function convertToInteractive(key) {\n",
              "          const element = document.querySelector('#df-6d58f43d-ee44-4055-be60-fb7bc5507fb4');\n",
              "          const dataTable =\n",
              "            await google.colab.kernel.invokeFunction('convertToInteractive',\n",
              "                                                     [key], {});\n",
              "          if (!dataTable) return;\n",
              "\n",
              "          const docLinkHtml = 'Like what you see? Visit the ' +\n",
              "            '<a target=\"_blank\" href=https://colab.research.google.com/notebooks/data_table.ipynb>data table notebook</a>'\n",
              "            + ' to learn more about interactive tables.';\n",
              "          element.innerHTML = '';\n",
              "          dataTable['output_type'] = 'display_data';\n",
              "          await google.colab.output.renderOutput(dataTable, element);\n",
              "          const docLink = document.createElement('div');\n",
              "          docLink.innerHTML = docLinkHtml;\n",
              "          element.appendChild(docLink);\n",
              "        }\n",
              "      </script>\n",
              "    </div>\n",
              "  </div>\n",
              "  "
            ]
          },
          "metadata": {},
          "execution_count": 15
        }
      ]
    },
    {
      "cell_type": "markdown",
      "source": [
        "Note that column 13 also has some ugly ‘]’ characters. We could strip these as well, but for demonstration purposes we will do that later when we show how pandas lets us refer to that column in a symbolic way instead of using the mysterious number 13.\n",
        "\n",
        "The table is missing table headers. So go back to BeautifulSoup and use its find_all() method to get the table headers.\n"
      ],
      "metadata": {
        "id": "elQ9wRspf23G"
      }
    },
    {
      "cell_type": "code",
      "source": [
        "col_labels = soup.find_all('th')"
      ],
      "metadata": {
        "id": "D6G9ap87fmal"
      },
      "execution_count": null,
      "outputs": []
    },
    {
      "cell_type": "markdown",
      "source": [
        "Similar to table rows, you can use Beautiful Soup to extract text in between html tags for table headers."
      ],
      "metadata": {
        "id": "hmRBVnE-f9G5"
      }
    },
    {
      "cell_type": "code",
      "source": [
        "\n",
        "all_header = []\n",
        "col_str = str(col_labels)\n",
        "cleantext2 = BeautifulSoup(col_str, \"lxml\").get_text()\n",
        "all_header.append(cleantext2)\n",
        "print(all_header)\n"
      ],
      "metadata": {
        "colab": {
          "base_uri": "https://localhost:8080/"
        },
        "id": "rwY8R1I1f7wD",
        "outputId": "f6a35722-f8e2-45c4-ab35-3f7f15caa5f8"
      },
      "execution_count": null,
      "outputs": [
        {
          "output_type": "stream",
          "name": "stdout",
          "text": [
            "['[Place, Bib, Name, Gender, City, State, Time, Gun Time, Team]']\n"
          ]
        }
      ]
    },
    {
      "cell_type": "markdown",
      "source": [
        "Next convert the table headers to a new pandas dataframe."
      ],
      "metadata": {
        "id": "6-4suFTLgBrv"
      }
    },
    {
      "cell_type": "code",
      "source": [
        "\n",
        "df2 = pd.DataFrame(all_header)\n",
        "df2.head()\n"
      ],
      "metadata": {
        "colab": {
          "base_uri": "https://localhost:8080/",
          "height": 81
        },
        "id": "S6s7NoMXf_Oj",
        "outputId": "af3e17de-fd8f-4674-b9fc-f6ffe361b7f8"
      },
      "execution_count": null,
      "outputs": [
        {
          "output_type": "execute_result",
          "data": {
            "text/plain": [
              "                                                   0\n",
              "0  [Place, Bib, Name, Gender, City, State, Time, ..."
            ],
            "text/html": [
              "\n",
              "  <div id=\"df-c7d3e409-9d43-4e33-8170-ed0e8b8237ef\">\n",
              "    <div class=\"colab-df-container\">\n",
              "      <div>\n",
              "<style scoped>\n",
              "    .dataframe tbody tr th:only-of-type {\n",
              "        vertical-align: middle;\n",
              "    }\n",
              "\n",
              "    .dataframe tbody tr th {\n",
              "        vertical-align: top;\n",
              "    }\n",
              "\n",
              "    .dataframe thead th {\n",
              "        text-align: right;\n",
              "    }\n",
              "</style>\n",
              "<table border=\"1\" class=\"dataframe\">\n",
              "  <thead>\n",
              "    <tr style=\"text-align: right;\">\n",
              "      <th></th>\n",
              "      <th>0</th>\n",
              "    </tr>\n",
              "  </thead>\n",
              "  <tbody>\n",
              "    <tr>\n",
              "      <th>0</th>\n",
              "      <td>[Place, Bib, Name, Gender, City, State, Time, ...</td>\n",
              "    </tr>\n",
              "  </tbody>\n",
              "</table>\n",
              "</div>\n",
              "      <button class=\"colab-df-convert\" onclick=\"convertToInteractive('df-c7d3e409-9d43-4e33-8170-ed0e8b8237ef')\"\n",
              "              title=\"Convert this dataframe to an interactive table.\"\n",
              "              style=\"display:none;\">\n",
              "        \n",
              "  <svg xmlns=\"http://www.w3.org/2000/svg\" height=\"24px\"viewBox=\"0 0 24 24\"\n",
              "       width=\"24px\">\n",
              "    <path d=\"M0 0h24v24H0V0z\" fill=\"none\"/>\n",
              "    <path d=\"M18.56 5.44l.94 2.06.94-2.06 2.06-.94-2.06-.94-.94-2.06-.94 2.06-2.06.94zm-11 1L8.5 8.5l.94-2.06 2.06-.94-2.06-.94L8.5 2.5l-.94 2.06-2.06.94zm10 10l.94 2.06.94-2.06 2.06-.94-2.06-.94-.94-2.06-.94 2.06-2.06.94z\"/><path d=\"M17.41 7.96l-1.37-1.37c-.4-.4-.92-.59-1.43-.59-.52 0-1.04.2-1.43.59L10.3 9.45l-7.72 7.72c-.78.78-.78 2.05 0 2.83L4 21.41c.39.39.9.59 1.41.59.51 0 1.02-.2 1.41-.59l7.78-7.78 2.81-2.81c.8-.78.8-2.07 0-2.86zM5.41 20L4 18.59l7.72-7.72 1.47 1.35L5.41 20z\"/>\n",
              "  </svg>\n",
              "      </button>\n",
              "      \n",
              "  <style>\n",
              "    .colab-df-container {\n",
              "      display:flex;\n",
              "      flex-wrap:wrap;\n",
              "      gap: 12px;\n",
              "    }\n",
              "\n",
              "    .colab-df-convert {\n",
              "      background-color: #E8F0FE;\n",
              "      border: none;\n",
              "      border-radius: 50%;\n",
              "      cursor: pointer;\n",
              "      display: none;\n",
              "      fill: #1967D2;\n",
              "      height: 32px;\n",
              "      padding: 0 0 0 0;\n",
              "      width: 32px;\n",
              "    }\n",
              "\n",
              "    .colab-df-convert:hover {\n",
              "      background-color: #E2EBFA;\n",
              "      box-shadow: 0px 1px 2px rgba(60, 64, 67, 0.3), 0px 1px 3px 1px rgba(60, 64, 67, 0.15);\n",
              "      fill: #174EA6;\n",
              "    }\n",
              "\n",
              "    [theme=dark] .colab-df-convert {\n",
              "      background-color: #3B4455;\n",
              "      fill: #D2E3FC;\n",
              "    }\n",
              "\n",
              "    [theme=dark] .colab-df-convert:hover {\n",
              "      background-color: #434B5C;\n",
              "      box-shadow: 0px 1px 3px 1px rgba(0, 0, 0, 0.15);\n",
              "      filter: drop-shadow(0px 1px 2px rgba(0, 0, 0, 0.3));\n",
              "      fill: #FFFFFF;\n",
              "    }\n",
              "  </style>\n",
              "\n",
              "      <script>\n",
              "        const buttonEl =\n",
              "          document.querySelector('#df-c7d3e409-9d43-4e33-8170-ed0e8b8237ef button.colab-df-convert');\n",
              "        buttonEl.style.display =\n",
              "          google.colab.kernel.accessAllowed ? 'block' : 'none';\n",
              "\n",
              "        async function convertToInteractive(key) {\n",
              "          const element = document.querySelector('#df-c7d3e409-9d43-4e33-8170-ed0e8b8237ef');\n",
              "          const dataTable =\n",
              "            await google.colab.kernel.invokeFunction('convertToInteractive',\n",
              "                                                     [key], {});\n",
              "          if (!dataTable) return;\n",
              "\n",
              "          const docLinkHtml = 'Like what you see? Visit the ' +\n",
              "            '<a target=\"_blank\" href=https://colab.research.google.com/notebooks/data_table.ipynb>data table notebook</a>'\n",
              "            + ' to learn more about interactive tables.';\n",
              "          element.innerHTML = '';\n",
              "          dataTable['output_type'] = 'display_data';\n",
              "          await google.colab.output.renderOutput(dataTable, element);\n",
              "          const docLink = document.createElement('div');\n",
              "          docLink.innerHTML = docLinkHtml;\n",
              "          element.appendChild(docLink);\n",
              "        }\n",
              "      </script>\n",
              "    </div>\n",
              "  </div>\n",
              "  "
            ]
          },
          "metadata": {},
          "execution_count": 18
        }
      ]
    },
    {
      "cell_type": "code",
      "source": [
        "\n",
        "\n",
        "df3 = df2[0].str.split(',', expand=True)\n",
        "df3.head()\n"
      ],
      "metadata": {
        "colab": {
          "base_uri": "https://localhost:8080/",
          "height": 81
        },
        "id": "c_oWT1w0gDk2",
        "outputId": "55daf46f-4a5f-4887-b4d8-2a3c86c45226"
      },
      "execution_count": null,
      "outputs": [
        {
          "output_type": "execute_result",
          "data": {
            "text/plain": [
              "        0     1      2        3      4       5      6          7       8\n",
              "0  [Place   Bib   Name   Gender   City   State   Time   Gun Time   Team]"
            ],
            "text/html": [
              "\n",
              "  <div id=\"df-4406cc7d-e33e-4827-9c8b-61b41b7ebab5\">\n",
              "    <div class=\"colab-df-container\">\n",
              "      <div>\n",
              "<style scoped>\n",
              "    .dataframe tbody tr th:only-of-type {\n",
              "        vertical-align: middle;\n",
              "    }\n",
              "\n",
              "    .dataframe tbody tr th {\n",
              "        vertical-align: top;\n",
              "    }\n",
              "\n",
              "    .dataframe thead th {\n",
              "        text-align: right;\n",
              "    }\n",
              "</style>\n",
              "<table border=\"1\" class=\"dataframe\">\n",
              "  <thead>\n",
              "    <tr style=\"text-align: right;\">\n",
              "      <th></th>\n",
              "      <th>0</th>\n",
              "      <th>1</th>\n",
              "      <th>2</th>\n",
              "      <th>3</th>\n",
              "      <th>4</th>\n",
              "      <th>5</th>\n",
              "      <th>6</th>\n",
              "      <th>7</th>\n",
              "      <th>8</th>\n",
              "    </tr>\n",
              "  </thead>\n",
              "  <tbody>\n",
              "    <tr>\n",
              "      <th>0</th>\n",
              "      <td>[Place</td>\n",
              "      <td>Bib</td>\n",
              "      <td>Name</td>\n",
              "      <td>Gender</td>\n",
              "      <td>City</td>\n",
              "      <td>State</td>\n",
              "      <td>Time</td>\n",
              "      <td>Gun Time</td>\n",
              "      <td>Team]</td>\n",
              "    </tr>\n",
              "  </tbody>\n",
              "</table>\n",
              "</div>\n",
              "      <button class=\"colab-df-convert\" onclick=\"convertToInteractive('df-4406cc7d-e33e-4827-9c8b-61b41b7ebab5')\"\n",
              "              title=\"Convert this dataframe to an interactive table.\"\n",
              "              style=\"display:none;\">\n",
              "        \n",
              "  <svg xmlns=\"http://www.w3.org/2000/svg\" height=\"24px\"viewBox=\"0 0 24 24\"\n",
              "       width=\"24px\">\n",
              "    <path d=\"M0 0h24v24H0V0z\" fill=\"none\"/>\n",
              "    <path d=\"M18.56 5.44l.94 2.06.94-2.06 2.06-.94-2.06-.94-.94-2.06-.94 2.06-2.06.94zm-11 1L8.5 8.5l.94-2.06 2.06-.94-2.06-.94L8.5 2.5l-.94 2.06-2.06.94zm10 10l.94 2.06.94-2.06 2.06-.94-2.06-.94-.94-2.06-.94 2.06-2.06.94z\"/><path d=\"M17.41 7.96l-1.37-1.37c-.4-.4-.92-.59-1.43-.59-.52 0-1.04.2-1.43.59L10.3 9.45l-7.72 7.72c-.78.78-.78 2.05 0 2.83L4 21.41c.39.39.9.59 1.41.59.51 0 1.02-.2 1.41-.59l7.78-7.78 2.81-2.81c.8-.78.8-2.07 0-2.86zM5.41 20L4 18.59l7.72-7.72 1.47 1.35L5.41 20z\"/>\n",
              "  </svg>\n",
              "      </button>\n",
              "      \n",
              "  <style>\n",
              "    .colab-df-container {\n",
              "      display:flex;\n",
              "      flex-wrap:wrap;\n",
              "      gap: 12px;\n",
              "    }\n",
              "\n",
              "    .colab-df-convert {\n",
              "      background-color: #E8F0FE;\n",
              "      border: none;\n",
              "      border-radius: 50%;\n",
              "      cursor: pointer;\n",
              "      display: none;\n",
              "      fill: #1967D2;\n",
              "      height: 32px;\n",
              "      padding: 0 0 0 0;\n",
              "      width: 32px;\n",
              "    }\n",
              "\n",
              "    .colab-df-convert:hover {\n",
              "      background-color: #E2EBFA;\n",
              "      box-shadow: 0px 1px 2px rgba(60, 64, 67, 0.3), 0px 1px 3px 1px rgba(60, 64, 67, 0.15);\n",
              "      fill: #174EA6;\n",
              "    }\n",
              "\n",
              "    [theme=dark] .colab-df-convert {\n",
              "      background-color: #3B4455;\n",
              "      fill: #D2E3FC;\n",
              "    }\n",
              "\n",
              "    [theme=dark] .colab-df-convert:hover {\n",
              "      background-color: #434B5C;\n",
              "      box-shadow: 0px 1px 3px 1px rgba(0, 0, 0, 0.15);\n",
              "      filter: drop-shadow(0px 1px 2px rgba(0, 0, 0, 0.3));\n",
              "      fill: #FFFFFF;\n",
              "    }\n",
              "  </style>\n",
              "\n",
              "      <script>\n",
              "        const buttonEl =\n",
              "          document.querySelector('#df-4406cc7d-e33e-4827-9c8b-61b41b7ebab5 button.colab-df-convert');\n",
              "        buttonEl.style.display =\n",
              "          google.colab.kernel.accessAllowed ? 'block' : 'none';\n",
              "\n",
              "        async function convertToInteractive(key) {\n",
              "          const element = document.querySelector('#df-4406cc7d-e33e-4827-9c8b-61b41b7ebab5');\n",
              "          const dataTable =\n",
              "            await google.colab.kernel.invokeFunction('convertToInteractive',\n",
              "                                                     [key], {});\n",
              "          if (!dataTable) return;\n",
              "\n",
              "          const docLinkHtml = 'Like what you see? Visit the ' +\n",
              "            '<a target=\"_blank\" href=https://colab.research.google.com/notebooks/data_table.ipynb>data table notebook</a>'\n",
              "            + ' to learn more about interactive tables.';\n",
              "          element.innerHTML = '';\n",
              "          dataTable['output_type'] = 'display_data';\n",
              "          await google.colab.output.renderOutput(dataTable, element);\n",
              "          const docLink = document.createElement('div');\n",
              "          docLink.innerHTML = docLinkHtml;\n",
              "          element.appendChild(docLink);\n",
              "        }\n",
              "      </script>\n",
              "    </div>\n",
              "  </div>\n",
              "  "
            ]
          },
          "metadata": {},
          "execution_count": 19
        }
      ]
    },
    {
      "cell_type": "markdown",
      "source": [
        "Next, concatenate the two dataframes into one using the concat() method.\n"
      ],
      "metadata": {
        "id": "2fwFkphvgUXM"
      }
    },
    {
      "cell_type": "code",
      "source": [
        "\n",
        "frames = [df3, df1]\n",
        "\n",
        "df4 = pd.concat(frames)\n",
        "df4.head(10)"
      ],
      "metadata": {
        "colab": {
          "base_uri": "https://localhost:8080/",
          "height": 363
        },
        "id": "z20d1gOxgR0l",
        "outputId": "cb4630a8-db00-424d-9bd4-29d97ab4294a"
      },
      "execution_count": null,
      "outputs": [
        {
          "output_type": "execute_result",
          "data": {
            "text/plain": [
              "            0      1                                                  2  \\\n",
              "0      [Place    Bib                                               Name   \n",
              "0           ]   None                                               None   \n",
              "1  Finishers:   577]                                               None   \n",
              "2       Male:   414]                                               None   \n",
              "3     Female:   163]                                               None   \n",
              "4           ]   None                                               None   \n",
              "5           1    814   \\r\\n\\r\\n                    JARED WILSON\\r\\n\\...   \n",
              "6           2    573   \\r\\n\\r\\n                    NATHAN A SUSTERSI...   \n",
              "7           3    687   \\r\\n\\r\\n                    FRANCISCO MAYA\\r\\...   \n",
              "8           4    623   \\r\\n\\r\\n                    PAUL MORROW\\r\\n\\r...   \n",
              "\n",
              "         3           4       5       6          7  \\\n",
              "0   Gender        City   State    Time   Gun Time   \n",
              "0     None        None    None    None       None   \n",
              "1     None        None    None    None       None   \n",
              "2     None        None    None    None       None   \n",
              "3     None        None    None    None       None   \n",
              "4     None        None    None    None       None   \n",
              "5        M      TIGARD      OR   36:21      36:24   \n",
              "6        M    PORTLAND      OR   36:42      36:45   \n",
              "7        M    PORTLAND      OR   37:44      37:48   \n",
              "8        M   BEAVERTON      OR   38:34      38:37   \n",
              "\n",
              "                                                   8  \n",
              "0                                              Team]  \n",
              "0                                               None  \n",
              "1                                               None  \n",
              "2                                               None  \n",
              "3                                               None  \n",
              "4                                               None  \n",
              "5                                                  ]  \n",
              "6   \\n\\r\\n                            INTEL TEAM ...  \n",
              "7                                                  ]  \n",
              "8                                                  ]  "
            ],
            "text/html": [
              "\n",
              "  <div id=\"df-1df4302a-2bbe-467c-a2b6-26a5994046de\">\n",
              "    <div class=\"colab-df-container\">\n",
              "      <div>\n",
              "<style scoped>\n",
              "    .dataframe tbody tr th:only-of-type {\n",
              "        vertical-align: middle;\n",
              "    }\n",
              "\n",
              "    .dataframe tbody tr th {\n",
              "        vertical-align: top;\n",
              "    }\n",
              "\n",
              "    .dataframe thead th {\n",
              "        text-align: right;\n",
              "    }\n",
              "</style>\n",
              "<table border=\"1\" class=\"dataframe\">\n",
              "  <thead>\n",
              "    <tr style=\"text-align: right;\">\n",
              "      <th></th>\n",
              "      <th>0</th>\n",
              "      <th>1</th>\n",
              "      <th>2</th>\n",
              "      <th>3</th>\n",
              "      <th>4</th>\n",
              "      <th>5</th>\n",
              "      <th>6</th>\n",
              "      <th>7</th>\n",
              "      <th>8</th>\n",
              "    </tr>\n",
              "  </thead>\n",
              "  <tbody>\n",
              "    <tr>\n",
              "      <th>0</th>\n",
              "      <td>[Place</td>\n",
              "      <td>Bib</td>\n",
              "      <td>Name</td>\n",
              "      <td>Gender</td>\n",
              "      <td>City</td>\n",
              "      <td>State</td>\n",
              "      <td>Time</td>\n",
              "      <td>Gun Time</td>\n",
              "      <td>Team]</td>\n",
              "    </tr>\n",
              "    <tr>\n",
              "      <th>0</th>\n",
              "      <td>]</td>\n",
              "      <td>None</td>\n",
              "      <td>None</td>\n",
              "      <td>None</td>\n",
              "      <td>None</td>\n",
              "      <td>None</td>\n",
              "      <td>None</td>\n",
              "      <td>None</td>\n",
              "      <td>None</td>\n",
              "    </tr>\n",
              "    <tr>\n",
              "      <th>1</th>\n",
              "      <td>Finishers:</td>\n",
              "      <td>577]</td>\n",
              "      <td>None</td>\n",
              "      <td>None</td>\n",
              "      <td>None</td>\n",
              "      <td>None</td>\n",
              "      <td>None</td>\n",
              "      <td>None</td>\n",
              "      <td>None</td>\n",
              "    </tr>\n",
              "    <tr>\n",
              "      <th>2</th>\n",
              "      <td>Male:</td>\n",
              "      <td>414]</td>\n",
              "      <td>None</td>\n",
              "      <td>None</td>\n",
              "      <td>None</td>\n",
              "      <td>None</td>\n",
              "      <td>None</td>\n",
              "      <td>None</td>\n",
              "      <td>None</td>\n",
              "    </tr>\n",
              "    <tr>\n",
              "      <th>3</th>\n",
              "      <td>Female:</td>\n",
              "      <td>163]</td>\n",
              "      <td>None</td>\n",
              "      <td>None</td>\n",
              "      <td>None</td>\n",
              "      <td>None</td>\n",
              "      <td>None</td>\n",
              "      <td>None</td>\n",
              "      <td>None</td>\n",
              "    </tr>\n",
              "    <tr>\n",
              "      <th>4</th>\n",
              "      <td>]</td>\n",
              "      <td>None</td>\n",
              "      <td>None</td>\n",
              "      <td>None</td>\n",
              "      <td>None</td>\n",
              "      <td>None</td>\n",
              "      <td>None</td>\n",
              "      <td>None</td>\n",
              "      <td>None</td>\n",
              "    </tr>\n",
              "    <tr>\n",
              "      <th>5</th>\n",
              "      <td>1</td>\n",
              "      <td>814</td>\n",
              "      <td>\\r\\n\\r\\n                    JARED WILSON\\r\\n\\...</td>\n",
              "      <td>M</td>\n",
              "      <td>TIGARD</td>\n",
              "      <td>OR</td>\n",
              "      <td>36:21</td>\n",
              "      <td>36:24</td>\n",
              "      <td>]</td>\n",
              "    </tr>\n",
              "    <tr>\n",
              "      <th>6</th>\n",
              "      <td>2</td>\n",
              "      <td>573</td>\n",
              "      <td>\\r\\n\\r\\n                    NATHAN A SUSTERSI...</td>\n",
              "      <td>M</td>\n",
              "      <td>PORTLAND</td>\n",
              "      <td>OR</td>\n",
              "      <td>36:42</td>\n",
              "      <td>36:45</td>\n",
              "      <td>\\n\\r\\n                            INTEL TEAM ...</td>\n",
              "    </tr>\n",
              "    <tr>\n",
              "      <th>7</th>\n",
              "      <td>3</td>\n",
              "      <td>687</td>\n",
              "      <td>\\r\\n\\r\\n                    FRANCISCO MAYA\\r\\...</td>\n",
              "      <td>M</td>\n",
              "      <td>PORTLAND</td>\n",
              "      <td>OR</td>\n",
              "      <td>37:44</td>\n",
              "      <td>37:48</td>\n",
              "      <td>]</td>\n",
              "    </tr>\n",
              "    <tr>\n",
              "      <th>8</th>\n",
              "      <td>4</td>\n",
              "      <td>623</td>\n",
              "      <td>\\r\\n\\r\\n                    PAUL MORROW\\r\\n\\r...</td>\n",
              "      <td>M</td>\n",
              "      <td>BEAVERTON</td>\n",
              "      <td>OR</td>\n",
              "      <td>38:34</td>\n",
              "      <td>38:37</td>\n",
              "      <td>]</td>\n",
              "    </tr>\n",
              "  </tbody>\n",
              "</table>\n",
              "</div>\n",
              "      <button class=\"colab-df-convert\" onclick=\"convertToInteractive('df-1df4302a-2bbe-467c-a2b6-26a5994046de')\"\n",
              "              title=\"Convert this dataframe to an interactive table.\"\n",
              "              style=\"display:none;\">\n",
              "        \n",
              "  <svg xmlns=\"http://www.w3.org/2000/svg\" height=\"24px\"viewBox=\"0 0 24 24\"\n",
              "       width=\"24px\">\n",
              "    <path d=\"M0 0h24v24H0V0z\" fill=\"none\"/>\n",
              "    <path d=\"M18.56 5.44l.94 2.06.94-2.06 2.06-.94-2.06-.94-.94-2.06-.94 2.06-2.06.94zm-11 1L8.5 8.5l.94-2.06 2.06-.94-2.06-.94L8.5 2.5l-.94 2.06-2.06.94zm10 10l.94 2.06.94-2.06 2.06-.94-2.06-.94-.94-2.06-.94 2.06-2.06.94z\"/><path d=\"M17.41 7.96l-1.37-1.37c-.4-.4-.92-.59-1.43-.59-.52 0-1.04.2-1.43.59L10.3 9.45l-7.72 7.72c-.78.78-.78 2.05 0 2.83L4 21.41c.39.39.9.59 1.41.59.51 0 1.02-.2 1.41-.59l7.78-7.78 2.81-2.81c.8-.78.8-2.07 0-2.86zM5.41 20L4 18.59l7.72-7.72 1.47 1.35L5.41 20z\"/>\n",
              "  </svg>\n",
              "      </button>\n",
              "      \n",
              "  <style>\n",
              "    .colab-df-container {\n",
              "      display:flex;\n",
              "      flex-wrap:wrap;\n",
              "      gap: 12px;\n",
              "    }\n",
              "\n",
              "    .colab-df-convert {\n",
              "      background-color: #E8F0FE;\n",
              "      border: none;\n",
              "      border-radius: 50%;\n",
              "      cursor: pointer;\n",
              "      display: none;\n",
              "      fill: #1967D2;\n",
              "      height: 32px;\n",
              "      padding: 0 0 0 0;\n",
              "      width: 32px;\n",
              "    }\n",
              "\n",
              "    .colab-df-convert:hover {\n",
              "      background-color: #E2EBFA;\n",
              "      box-shadow: 0px 1px 2px rgba(60, 64, 67, 0.3), 0px 1px 3px 1px rgba(60, 64, 67, 0.15);\n",
              "      fill: #174EA6;\n",
              "    }\n",
              "\n",
              "    [theme=dark] .colab-df-convert {\n",
              "      background-color: #3B4455;\n",
              "      fill: #D2E3FC;\n",
              "    }\n",
              "\n",
              "    [theme=dark] .colab-df-convert:hover {\n",
              "      background-color: #434B5C;\n",
              "      box-shadow: 0px 1px 3px 1px rgba(0, 0, 0, 0.15);\n",
              "      filter: drop-shadow(0px 1px 2px rgba(0, 0, 0, 0.3));\n",
              "      fill: #FFFFFF;\n",
              "    }\n",
              "  </style>\n",
              "\n",
              "      <script>\n",
              "        const buttonEl =\n",
              "          document.querySelector('#df-1df4302a-2bbe-467c-a2b6-26a5994046de button.colab-df-convert');\n",
              "        buttonEl.style.display =\n",
              "          google.colab.kernel.accessAllowed ? 'block' : 'none';\n",
              "\n",
              "        async function convertToInteractive(key) {\n",
              "          const element = document.querySelector('#df-1df4302a-2bbe-467c-a2b6-26a5994046de');\n",
              "          const dataTable =\n",
              "            await google.colab.kernel.invokeFunction('convertToInteractive',\n",
              "                                                     [key], {});\n",
              "          if (!dataTable) return;\n",
              "\n",
              "          const docLinkHtml = 'Like what you see? Visit the ' +\n",
              "            '<a target=\"_blank\" href=https://colab.research.google.com/notebooks/data_table.ipynb>data table notebook</a>'\n",
              "            + ' to learn more about interactive tables.';\n",
              "          element.innerHTML = '';\n",
              "          dataTable['output_type'] = 'display_data';\n",
              "          await google.colab.output.renderOutput(dataTable, element);\n",
              "          const docLink = document.createElement('div');\n",
              "          docLink.innerHTML = docLinkHtml;\n",
              "          element.appendChild(docLink);\n",
              "        }\n",
              "      </script>\n",
              "    </div>\n",
              "  </div>\n",
              "  "
            ]
          },
          "metadata": {},
          "execution_count": 20
        }
      ]
    },
    {
      "cell_type": "markdown",
      "source": [
        "Next, re-configure the data frame so that the first row is the table header.\n"
      ],
      "metadata": {
        "id": "A1XGtPPVgYOK"
      }
    },
    {
      "cell_type": "code",
      "source": [
        "\n",
        "df5 = df4.rename(columns=df4.iloc[0])\n",
        "df5.head()\n"
      ],
      "metadata": {
        "colab": {
          "base_uri": "https://localhost:8080/",
          "height": 206
        },
        "id": "aoVag3QfgWXM",
        "outputId": "49a0c8bf-f640-4f5a-e1b1-cb802def7fff"
      },
      "execution_count": null,
      "outputs": [
        {
          "output_type": "execute_result",
          "data": {
            "text/plain": [
              "       [Place    Bib   Name   Gender   City   State   Time   Gun Time   Team]\n",
              "0      [Place    Bib   Name   Gender   City   State   Time   Gun Time   Team]\n",
              "0           ]   None   None     None   None    None   None       None    None\n",
              "1  Finishers:   577]   None     None   None    None   None       None    None\n",
              "2       Male:   414]   None     None   None    None   None       None    None\n",
              "3     Female:   163]   None     None   None    None   None       None    None"
            ],
            "text/html": [
              "\n",
              "  <div id=\"df-09ec08d0-da71-4f84-b4d5-454e36af73ca\">\n",
              "    <div class=\"colab-df-container\">\n",
              "      <div>\n",
              "<style scoped>\n",
              "    .dataframe tbody tr th:only-of-type {\n",
              "        vertical-align: middle;\n",
              "    }\n",
              "\n",
              "    .dataframe tbody tr th {\n",
              "        vertical-align: top;\n",
              "    }\n",
              "\n",
              "    .dataframe thead th {\n",
              "        text-align: right;\n",
              "    }\n",
              "</style>\n",
              "<table border=\"1\" class=\"dataframe\">\n",
              "  <thead>\n",
              "    <tr style=\"text-align: right;\">\n",
              "      <th></th>\n",
              "      <th>[Place</th>\n",
              "      <th>Bib</th>\n",
              "      <th>Name</th>\n",
              "      <th>Gender</th>\n",
              "      <th>City</th>\n",
              "      <th>State</th>\n",
              "      <th>Time</th>\n",
              "      <th>Gun Time</th>\n",
              "      <th>Team]</th>\n",
              "    </tr>\n",
              "  </thead>\n",
              "  <tbody>\n",
              "    <tr>\n",
              "      <th>0</th>\n",
              "      <td>[Place</td>\n",
              "      <td>Bib</td>\n",
              "      <td>Name</td>\n",
              "      <td>Gender</td>\n",
              "      <td>City</td>\n",
              "      <td>State</td>\n",
              "      <td>Time</td>\n",
              "      <td>Gun Time</td>\n",
              "      <td>Team]</td>\n",
              "    </tr>\n",
              "    <tr>\n",
              "      <th>0</th>\n",
              "      <td>]</td>\n",
              "      <td>None</td>\n",
              "      <td>None</td>\n",
              "      <td>None</td>\n",
              "      <td>None</td>\n",
              "      <td>None</td>\n",
              "      <td>None</td>\n",
              "      <td>None</td>\n",
              "      <td>None</td>\n",
              "    </tr>\n",
              "    <tr>\n",
              "      <th>1</th>\n",
              "      <td>Finishers:</td>\n",
              "      <td>577]</td>\n",
              "      <td>None</td>\n",
              "      <td>None</td>\n",
              "      <td>None</td>\n",
              "      <td>None</td>\n",
              "      <td>None</td>\n",
              "      <td>None</td>\n",
              "      <td>None</td>\n",
              "    </tr>\n",
              "    <tr>\n",
              "      <th>2</th>\n",
              "      <td>Male:</td>\n",
              "      <td>414]</td>\n",
              "      <td>None</td>\n",
              "      <td>None</td>\n",
              "      <td>None</td>\n",
              "      <td>None</td>\n",
              "      <td>None</td>\n",
              "      <td>None</td>\n",
              "      <td>None</td>\n",
              "    </tr>\n",
              "    <tr>\n",
              "      <th>3</th>\n",
              "      <td>Female:</td>\n",
              "      <td>163]</td>\n",
              "      <td>None</td>\n",
              "      <td>None</td>\n",
              "      <td>None</td>\n",
              "      <td>None</td>\n",
              "      <td>None</td>\n",
              "      <td>None</td>\n",
              "      <td>None</td>\n",
              "    </tr>\n",
              "  </tbody>\n",
              "</table>\n",
              "</div>\n",
              "      <button class=\"colab-df-convert\" onclick=\"convertToInteractive('df-09ec08d0-da71-4f84-b4d5-454e36af73ca')\"\n",
              "              title=\"Convert this dataframe to an interactive table.\"\n",
              "              style=\"display:none;\">\n",
              "        \n",
              "  <svg xmlns=\"http://www.w3.org/2000/svg\" height=\"24px\"viewBox=\"0 0 24 24\"\n",
              "       width=\"24px\">\n",
              "    <path d=\"M0 0h24v24H0V0z\" fill=\"none\"/>\n",
              "    <path d=\"M18.56 5.44l.94 2.06.94-2.06 2.06-.94-2.06-.94-.94-2.06-.94 2.06-2.06.94zm-11 1L8.5 8.5l.94-2.06 2.06-.94-2.06-.94L8.5 2.5l-.94 2.06-2.06.94zm10 10l.94 2.06.94-2.06 2.06-.94-2.06-.94-.94-2.06-.94 2.06-2.06.94z\"/><path d=\"M17.41 7.96l-1.37-1.37c-.4-.4-.92-.59-1.43-.59-.52 0-1.04.2-1.43.59L10.3 9.45l-7.72 7.72c-.78.78-.78 2.05 0 2.83L4 21.41c.39.39.9.59 1.41.59.51 0 1.02-.2 1.41-.59l7.78-7.78 2.81-2.81c.8-.78.8-2.07 0-2.86zM5.41 20L4 18.59l7.72-7.72 1.47 1.35L5.41 20z\"/>\n",
              "  </svg>\n",
              "      </button>\n",
              "      \n",
              "  <style>\n",
              "    .colab-df-container {\n",
              "      display:flex;\n",
              "      flex-wrap:wrap;\n",
              "      gap: 12px;\n",
              "    }\n",
              "\n",
              "    .colab-df-convert {\n",
              "      background-color: #E8F0FE;\n",
              "      border: none;\n",
              "      border-radius: 50%;\n",
              "      cursor: pointer;\n",
              "      display: none;\n",
              "      fill: #1967D2;\n",
              "      height: 32px;\n",
              "      padding: 0 0 0 0;\n",
              "      width: 32px;\n",
              "    }\n",
              "\n",
              "    .colab-df-convert:hover {\n",
              "      background-color: #E2EBFA;\n",
              "      box-shadow: 0px 1px 2px rgba(60, 64, 67, 0.3), 0px 1px 3px 1px rgba(60, 64, 67, 0.15);\n",
              "      fill: #174EA6;\n",
              "    }\n",
              "\n",
              "    [theme=dark] .colab-df-convert {\n",
              "      background-color: #3B4455;\n",
              "      fill: #D2E3FC;\n",
              "    }\n",
              "\n",
              "    [theme=dark] .colab-df-convert:hover {\n",
              "      background-color: #434B5C;\n",
              "      box-shadow: 0px 1px 3px 1px rgba(0, 0, 0, 0.15);\n",
              "      filter: drop-shadow(0px 1px 2px rgba(0, 0, 0, 0.3));\n",
              "      fill: #FFFFFF;\n",
              "    }\n",
              "  </style>\n",
              "\n",
              "      <script>\n",
              "        const buttonEl =\n",
              "          document.querySelector('#df-09ec08d0-da71-4f84-b4d5-454e36af73ca button.colab-df-convert');\n",
              "        buttonEl.style.display =\n",
              "          google.colab.kernel.accessAllowed ? 'block' : 'none';\n",
              "\n",
              "        async function convertToInteractive(key) {\n",
              "          const element = document.querySelector('#df-09ec08d0-da71-4f84-b4d5-454e36af73ca');\n",
              "          const dataTable =\n",
              "            await google.colab.kernel.invokeFunction('convertToInteractive',\n",
              "                                                     [key], {});\n",
              "          if (!dataTable) return;\n",
              "\n",
              "          const docLinkHtml = 'Like what you see? Visit the ' +\n",
              "            '<a target=\"_blank\" href=https://colab.research.google.com/notebooks/data_table.ipynb>data table notebook</a>'\n",
              "            + ' to learn more about interactive tables.';\n",
              "          element.innerHTML = '';\n",
              "          dataTable['output_type'] = 'display_data';\n",
              "          await google.colab.output.renderOutput(dataTable, element);\n",
              "          const docLink = document.createElement('div');\n",
              "          docLink.innerHTML = docLinkHtml;\n",
              "          element.appendChild(docLink);\n",
              "        }\n",
              "      </script>\n",
              "    </div>\n",
              "  </div>\n",
              "  "
            ]
          },
          "metadata": {},
          "execution_count": 21
        }
      ]
    },
    {
      "cell_type": "markdown",
      "source": [
        "Behold all of the progress that you have made! At this point, the table is almost properly formatted. For analysis, start by getting an overview of the data as shown below.\n"
      ],
      "metadata": {
        "id": "ntEtHMrRgbXt"
      }
    },
    {
      "cell_type": "code",
      "source": [
        "print(df5.shape)\n",
        "df5.info()"
      ],
      "metadata": {
        "colab": {
          "base_uri": "https://localhost:8080/"
        },
        "id": "d0MrUExkgZm2",
        "outputId": "456f3c19-cd0b-496b-ad3d-72984574c02a"
      },
      "execution_count": null,
      "outputs": [
        {
          "output_type": "stream",
          "name": "stdout",
          "text": [
            "(583, 9)\n",
            "<class 'pandas.core.frame.DataFrame'>\n",
            "Int64Index: 583 entries, 0 to 581\n",
            "Data columns (total 9 columns):\n",
            " #   Column     Non-Null Count  Dtype \n",
            "---  ------     --------------  ----- \n",
            " 0   [Place     583 non-null    object\n",
            " 1    Bib       581 non-null    object\n",
            " 2    Name      578 non-null    object\n",
            " 3    Gender    578 non-null    object\n",
            " 4    City      578 non-null    object\n",
            " 5    State     578 non-null    object\n",
            " 6    Time      578 non-null    object\n",
            " 7    Gun Time  578 non-null    object\n",
            " 8    Team]     578 non-null    object\n",
            "dtypes: object(9)\n",
            "memory usage: 45.5+ KB\n"
          ]
        }
      ]
    },
    {
      "cell_type": "code",
      "source": [
        "df5.head()"
      ],
      "metadata": {
        "colab": {
          "base_uri": "https://localhost:8080/",
          "height": 206
        },
        "id": "gYPu11W_jHLC",
        "outputId": "ded7e28b-84ba-4c49-ea62-59c71d10ee75"
      },
      "execution_count": null,
      "outputs": [
        {
          "output_type": "execute_result",
          "data": {
            "text/plain": [
              "       [Place    Bib   Name   Gender   City   State   Time   Gun Time   Team]\n",
              "0      [Place    Bib   Name   Gender   City   State   Time   Gun Time   Team]\n",
              "0           ]   None   None     None   None    None   None       None    None\n",
              "1  Finishers:   577]   None     None   None    None   None       None    None\n",
              "2       Male:   414]   None     None   None    None   None       None    None\n",
              "3     Female:   163]   None     None   None    None   None       None    None"
            ],
            "text/html": [
              "\n",
              "  <div id=\"df-f4cbbc07-6bfb-4abc-afb7-b8e450b742a2\">\n",
              "    <div class=\"colab-df-container\">\n",
              "      <div>\n",
              "<style scoped>\n",
              "    .dataframe tbody tr th:only-of-type {\n",
              "        vertical-align: middle;\n",
              "    }\n",
              "\n",
              "    .dataframe tbody tr th {\n",
              "        vertical-align: top;\n",
              "    }\n",
              "\n",
              "    .dataframe thead th {\n",
              "        text-align: right;\n",
              "    }\n",
              "</style>\n",
              "<table border=\"1\" class=\"dataframe\">\n",
              "  <thead>\n",
              "    <tr style=\"text-align: right;\">\n",
              "      <th></th>\n",
              "      <th>[Place</th>\n",
              "      <th>Bib</th>\n",
              "      <th>Name</th>\n",
              "      <th>Gender</th>\n",
              "      <th>City</th>\n",
              "      <th>State</th>\n",
              "      <th>Time</th>\n",
              "      <th>Gun Time</th>\n",
              "      <th>Team]</th>\n",
              "    </tr>\n",
              "  </thead>\n",
              "  <tbody>\n",
              "    <tr>\n",
              "      <th>0</th>\n",
              "      <td>[Place</td>\n",
              "      <td>Bib</td>\n",
              "      <td>Name</td>\n",
              "      <td>Gender</td>\n",
              "      <td>City</td>\n",
              "      <td>State</td>\n",
              "      <td>Time</td>\n",
              "      <td>Gun Time</td>\n",
              "      <td>Team]</td>\n",
              "    </tr>\n",
              "    <tr>\n",
              "      <th>0</th>\n",
              "      <td>]</td>\n",
              "      <td>None</td>\n",
              "      <td>None</td>\n",
              "      <td>None</td>\n",
              "      <td>None</td>\n",
              "      <td>None</td>\n",
              "      <td>None</td>\n",
              "      <td>None</td>\n",
              "      <td>None</td>\n",
              "    </tr>\n",
              "    <tr>\n",
              "      <th>1</th>\n",
              "      <td>Finishers:</td>\n",
              "      <td>577]</td>\n",
              "      <td>None</td>\n",
              "      <td>None</td>\n",
              "      <td>None</td>\n",
              "      <td>None</td>\n",
              "      <td>None</td>\n",
              "      <td>None</td>\n",
              "      <td>None</td>\n",
              "    </tr>\n",
              "    <tr>\n",
              "      <th>2</th>\n",
              "      <td>Male:</td>\n",
              "      <td>414]</td>\n",
              "      <td>None</td>\n",
              "      <td>None</td>\n",
              "      <td>None</td>\n",
              "      <td>None</td>\n",
              "      <td>None</td>\n",
              "      <td>None</td>\n",
              "      <td>None</td>\n",
              "    </tr>\n",
              "    <tr>\n",
              "      <th>3</th>\n",
              "      <td>Female:</td>\n",
              "      <td>163]</td>\n",
              "      <td>None</td>\n",
              "      <td>None</td>\n",
              "      <td>None</td>\n",
              "      <td>None</td>\n",
              "      <td>None</td>\n",
              "      <td>None</td>\n",
              "      <td>None</td>\n",
              "    </tr>\n",
              "  </tbody>\n",
              "</table>\n",
              "</div>\n",
              "      <button class=\"colab-df-convert\" onclick=\"convertToInteractive('df-f4cbbc07-6bfb-4abc-afb7-b8e450b742a2')\"\n",
              "              title=\"Convert this dataframe to an interactive table.\"\n",
              "              style=\"display:none;\">\n",
              "        \n",
              "  <svg xmlns=\"http://www.w3.org/2000/svg\" height=\"24px\"viewBox=\"0 0 24 24\"\n",
              "       width=\"24px\">\n",
              "    <path d=\"M0 0h24v24H0V0z\" fill=\"none\"/>\n",
              "    <path d=\"M18.56 5.44l.94 2.06.94-2.06 2.06-.94-2.06-.94-.94-2.06-.94 2.06-2.06.94zm-11 1L8.5 8.5l.94-2.06 2.06-.94-2.06-.94L8.5 2.5l-.94 2.06-2.06.94zm10 10l.94 2.06.94-2.06 2.06-.94-2.06-.94-.94-2.06-.94 2.06-2.06.94z\"/><path d=\"M17.41 7.96l-1.37-1.37c-.4-.4-.92-.59-1.43-.59-.52 0-1.04.2-1.43.59L10.3 9.45l-7.72 7.72c-.78.78-.78 2.05 0 2.83L4 21.41c.39.39.9.59 1.41.59.51 0 1.02-.2 1.41-.59l7.78-7.78 2.81-2.81c.8-.78.8-2.07 0-2.86zM5.41 20L4 18.59l7.72-7.72 1.47 1.35L5.41 20z\"/>\n",
              "  </svg>\n",
              "      </button>\n",
              "      \n",
              "  <style>\n",
              "    .colab-df-container {\n",
              "      display:flex;\n",
              "      flex-wrap:wrap;\n",
              "      gap: 12px;\n",
              "    }\n",
              "\n",
              "    .colab-df-convert {\n",
              "      background-color: #E8F0FE;\n",
              "      border: none;\n",
              "      border-radius: 50%;\n",
              "      cursor: pointer;\n",
              "      display: none;\n",
              "      fill: #1967D2;\n",
              "      height: 32px;\n",
              "      padding: 0 0 0 0;\n",
              "      width: 32px;\n",
              "    }\n",
              "\n",
              "    .colab-df-convert:hover {\n",
              "      background-color: #E2EBFA;\n",
              "      box-shadow: 0px 1px 2px rgba(60, 64, 67, 0.3), 0px 1px 3px 1px rgba(60, 64, 67, 0.15);\n",
              "      fill: #174EA6;\n",
              "    }\n",
              "\n",
              "    [theme=dark] .colab-df-convert {\n",
              "      background-color: #3B4455;\n",
              "      fill: #D2E3FC;\n",
              "    }\n",
              "\n",
              "    [theme=dark] .colab-df-convert:hover {\n",
              "      background-color: #434B5C;\n",
              "      box-shadow: 0px 1px 3px 1px rgba(0, 0, 0, 0.15);\n",
              "      filter: drop-shadow(0px 1px 2px rgba(0, 0, 0, 0.3));\n",
              "      fill: #FFFFFF;\n",
              "    }\n",
              "  </style>\n",
              "\n",
              "      <script>\n",
              "        const buttonEl =\n",
              "          document.querySelector('#df-f4cbbc07-6bfb-4abc-afb7-b8e450b742a2 button.colab-df-convert');\n",
              "        buttonEl.style.display =\n",
              "          google.colab.kernel.accessAllowed ? 'block' : 'none';\n",
              "\n",
              "        async function convertToInteractive(key) {\n",
              "          const element = document.querySelector('#df-f4cbbc07-6bfb-4abc-afb7-b8e450b742a2');\n",
              "          const dataTable =\n",
              "            await google.colab.kernel.invokeFunction('convertToInteractive',\n",
              "                                                     [key], {});\n",
              "          if (!dataTable) return;\n",
              "\n",
              "          const docLinkHtml = 'Like what you see? Visit the ' +\n",
              "            '<a target=\"_blank\" href=https://colab.research.google.com/notebooks/data_table.ipynb>data table notebook</a>'\n",
              "            + ' to learn more about interactive tables.';\n",
              "          element.innerHTML = '';\n",
              "          dataTable['output_type'] = 'display_data';\n",
              "          await google.colab.output.renderOutput(dataTable, element);\n",
              "          const docLink = document.createElement('div');\n",
              "          docLink.innerHTML = docLinkHtml;\n",
              "          element.appendChild(docLink);\n",
              "        }\n",
              "      </script>\n",
              "    </div>\n",
              "  </div>\n",
              "  "
            ]
          },
          "metadata": {},
          "execution_count": 30
        }
      ]
    },
    {
      "cell_type": "markdown",
      "source": [
        "The table has 597 rows and 14 columns. One statement that you will hear me say over and over throughout the course is, “if you did not validate the data then it’s probably wrong”, and this data is no exception. How do we know? Because it has 597 rows, but the various columns have varying numbers of “non-null object” values. So transform it again to drop all rows with any missing values."
      ],
      "metadata": {
        "id": "YejW_tdqgfej"
      }
    },
    {
      "cell_type": "code",
      "source": [
        "\n",
        "df6 = df5.dropna(axis=0, how='any')\n",
        "df6.info()\n",
        "df6.shape\n"
      ],
      "metadata": {
        "colab": {
          "base_uri": "https://localhost:8080/"
        },
        "id": "M1WQjARygdOI",
        "outputId": "71944d25-2895-4d81-b323-c1a44b6386ab"
      },
      "execution_count": null,
      "outputs": [
        {
          "output_type": "stream",
          "name": "stdout",
          "text": [
            "<class 'pandas.core.frame.DataFrame'>\n",
            "Int64Index: 578 entries, 0 to 581\n",
            "Data columns (total 9 columns):\n",
            " #   Column     Non-Null Count  Dtype \n",
            "---  ------     --------------  ----- \n",
            " 0   [Place     578 non-null    object\n",
            " 1    Bib       578 non-null    object\n",
            " 2    Name      578 non-null    object\n",
            " 3    Gender    578 non-null    object\n",
            " 4    City      578 non-null    object\n",
            " 5    State     578 non-null    object\n",
            " 6    Time      578 non-null    object\n",
            " 7    Gun Time  578 non-null    object\n",
            " 8    Team]     578 non-null    object\n",
            "dtypes: object(9)\n",
            "memory usage: 45.2+ KB\n"
          ]
        },
        {
          "output_type": "execute_result",
          "data": {
            "text/plain": [
              "(578, 9)"
            ]
          },
          "metadata": {},
          "execution_count": 23
        }
      ]
    },
    {
      "cell_type": "markdown",
      "source": [
        "Wasn’t that easy? When I say “pandas is useful”, this is one example of what I mean. You can do the same type of thing within a relational database, but by keeping all of the data in memory within our python program we can accomplish this type of transformation task much more quickly and cleanly.\n",
        "\n",
        "In a real data engineering project probably we would validate the data thoroughly by devising predicates for every aspect of the data. But to keep the focus on data gathering we will instead move forward with the data we have.\n",
        "\n",
        "Notice how the table header is replicated as the first row in df5 and df6. Drop this redundant row like this:\n"
      ],
      "metadata": {
        "id": "TFda_woCgjyL"
      }
    },
    {
      "cell_type": "code",
      "source": [
        "\n",
        "df7 = df6.drop(df6.index[0])\n",
        "df7.head()\n"
      ],
      "metadata": {
        "colab": {
          "base_uri": "https://localhost:8080/",
          "height": 206
        },
        "id": "4mKdRas5giDz",
        "outputId": "a3ca92f9-7a44-4cb8-c5c0-7ff54f51fffc"
      },
      "execution_count": null,
      "outputs": [
        {
          "output_type": "execute_result",
          "data": {
            "text/plain": [
              "  [Place   Bib                                               Name  Gender  \\\n",
              "5      1   814   \\r\\n\\r\\n                    JARED WILSON\\r\\n\\...       M   \n",
              "6      2   573   \\r\\n\\r\\n                    NATHAN A SUSTERSI...       M   \n",
              "7      3   687   \\r\\n\\r\\n                    FRANCISCO MAYA\\r\\...       M   \n",
              "8      4   623   \\r\\n\\r\\n                    PAUL MORROW\\r\\n\\r...       M   \n",
              "9      5   569   \\r\\n\\r\\n                    DEREK G OSBORNE\\r...       M   \n",
              "\n",
              "         City  State    Time  Gun Time  \\\n",
              "5      TIGARD     OR   36:21     36:24   \n",
              "6    PORTLAND     OR   36:42     36:45   \n",
              "7    PORTLAND     OR   37:44     37:48   \n",
              "8   BEAVERTON     OR   38:34     38:37   \n",
              "9   HILLSBORO     OR   39:21     39:24   \n",
              "\n",
              "                                               Team]  \n",
              "5                                                  ]  \n",
              "6   \\n\\r\\n                            INTEL TEAM ...  \n",
              "7                                                  ]  \n",
              "8                                                  ]  \n",
              "9   \\n\\r\\n                            INTEL TEAM ...  "
            ],
            "text/html": [
              "\n",
              "  <div id=\"df-a26feb80-4260-4364-ba7e-d6f66164855c\">\n",
              "    <div class=\"colab-df-container\">\n",
              "      <div>\n",
              "<style scoped>\n",
              "    .dataframe tbody tr th:only-of-type {\n",
              "        vertical-align: middle;\n",
              "    }\n",
              "\n",
              "    .dataframe tbody tr th {\n",
              "        vertical-align: top;\n",
              "    }\n",
              "\n",
              "    .dataframe thead th {\n",
              "        text-align: right;\n",
              "    }\n",
              "</style>\n",
              "<table border=\"1\" class=\"dataframe\">\n",
              "  <thead>\n",
              "    <tr style=\"text-align: right;\">\n",
              "      <th></th>\n",
              "      <th>[Place</th>\n",
              "      <th>Bib</th>\n",
              "      <th>Name</th>\n",
              "      <th>Gender</th>\n",
              "      <th>City</th>\n",
              "      <th>State</th>\n",
              "      <th>Time</th>\n",
              "      <th>Gun Time</th>\n",
              "      <th>Team]</th>\n",
              "    </tr>\n",
              "  </thead>\n",
              "  <tbody>\n",
              "    <tr>\n",
              "      <th>5</th>\n",
              "      <td>1</td>\n",
              "      <td>814</td>\n",
              "      <td>\\r\\n\\r\\n                    JARED WILSON\\r\\n\\...</td>\n",
              "      <td>M</td>\n",
              "      <td>TIGARD</td>\n",
              "      <td>OR</td>\n",
              "      <td>36:21</td>\n",
              "      <td>36:24</td>\n",
              "      <td>]</td>\n",
              "    </tr>\n",
              "    <tr>\n",
              "      <th>6</th>\n",
              "      <td>2</td>\n",
              "      <td>573</td>\n",
              "      <td>\\r\\n\\r\\n                    NATHAN A SUSTERSI...</td>\n",
              "      <td>M</td>\n",
              "      <td>PORTLAND</td>\n",
              "      <td>OR</td>\n",
              "      <td>36:42</td>\n",
              "      <td>36:45</td>\n",
              "      <td>\\n\\r\\n                            INTEL TEAM ...</td>\n",
              "    </tr>\n",
              "    <tr>\n",
              "      <th>7</th>\n",
              "      <td>3</td>\n",
              "      <td>687</td>\n",
              "      <td>\\r\\n\\r\\n                    FRANCISCO MAYA\\r\\...</td>\n",
              "      <td>M</td>\n",
              "      <td>PORTLAND</td>\n",
              "      <td>OR</td>\n",
              "      <td>37:44</td>\n",
              "      <td>37:48</td>\n",
              "      <td>]</td>\n",
              "    </tr>\n",
              "    <tr>\n",
              "      <th>8</th>\n",
              "      <td>4</td>\n",
              "      <td>623</td>\n",
              "      <td>\\r\\n\\r\\n                    PAUL MORROW\\r\\n\\r...</td>\n",
              "      <td>M</td>\n",
              "      <td>BEAVERTON</td>\n",
              "      <td>OR</td>\n",
              "      <td>38:34</td>\n",
              "      <td>38:37</td>\n",
              "      <td>]</td>\n",
              "    </tr>\n",
              "    <tr>\n",
              "      <th>9</th>\n",
              "      <td>5</td>\n",
              "      <td>569</td>\n",
              "      <td>\\r\\n\\r\\n                    DEREK G OSBORNE\\r...</td>\n",
              "      <td>M</td>\n",
              "      <td>HILLSBORO</td>\n",
              "      <td>OR</td>\n",
              "      <td>39:21</td>\n",
              "      <td>39:24</td>\n",
              "      <td>\\n\\r\\n                            INTEL TEAM ...</td>\n",
              "    </tr>\n",
              "  </tbody>\n",
              "</table>\n",
              "</div>\n",
              "      <button class=\"colab-df-convert\" onclick=\"convertToInteractive('df-a26feb80-4260-4364-ba7e-d6f66164855c')\"\n",
              "              title=\"Convert this dataframe to an interactive table.\"\n",
              "              style=\"display:none;\">\n",
              "        \n",
              "  <svg xmlns=\"http://www.w3.org/2000/svg\" height=\"24px\"viewBox=\"0 0 24 24\"\n",
              "       width=\"24px\">\n",
              "    <path d=\"M0 0h24v24H0V0z\" fill=\"none\"/>\n",
              "    <path d=\"M18.56 5.44l.94 2.06.94-2.06 2.06-.94-2.06-.94-.94-2.06-.94 2.06-2.06.94zm-11 1L8.5 8.5l.94-2.06 2.06-.94-2.06-.94L8.5 2.5l-.94 2.06-2.06.94zm10 10l.94 2.06.94-2.06 2.06-.94-2.06-.94-.94-2.06-.94 2.06-2.06.94z\"/><path d=\"M17.41 7.96l-1.37-1.37c-.4-.4-.92-.59-1.43-.59-.52 0-1.04.2-1.43.59L10.3 9.45l-7.72 7.72c-.78.78-.78 2.05 0 2.83L4 21.41c.39.39.9.59 1.41.59.51 0 1.02-.2 1.41-.59l7.78-7.78 2.81-2.81c.8-.78.8-2.07 0-2.86zM5.41 20L4 18.59l7.72-7.72 1.47 1.35L5.41 20z\"/>\n",
              "  </svg>\n",
              "      </button>\n",
              "      \n",
              "  <style>\n",
              "    .colab-df-container {\n",
              "      display:flex;\n",
              "      flex-wrap:wrap;\n",
              "      gap: 12px;\n",
              "    }\n",
              "\n",
              "    .colab-df-convert {\n",
              "      background-color: #E8F0FE;\n",
              "      border: none;\n",
              "      border-radius: 50%;\n",
              "      cursor: pointer;\n",
              "      display: none;\n",
              "      fill: #1967D2;\n",
              "      height: 32px;\n",
              "      padding: 0 0 0 0;\n",
              "      width: 32px;\n",
              "    }\n",
              "\n",
              "    .colab-df-convert:hover {\n",
              "      background-color: #E2EBFA;\n",
              "      box-shadow: 0px 1px 2px rgba(60, 64, 67, 0.3), 0px 1px 3px 1px rgba(60, 64, 67, 0.15);\n",
              "      fill: #174EA6;\n",
              "    }\n",
              "\n",
              "    [theme=dark] .colab-df-convert {\n",
              "      background-color: #3B4455;\n",
              "      fill: #D2E3FC;\n",
              "    }\n",
              "\n",
              "    [theme=dark] .colab-df-convert:hover {\n",
              "      background-color: #434B5C;\n",
              "      box-shadow: 0px 1px 3px 1px rgba(0, 0, 0, 0.15);\n",
              "      filter: drop-shadow(0px 1px 2px rgba(0, 0, 0, 0.3));\n",
              "      fill: #FFFFFF;\n",
              "    }\n",
              "  </style>\n",
              "\n",
              "      <script>\n",
              "        const buttonEl =\n",
              "          document.querySelector('#df-a26feb80-4260-4364-ba7e-d6f66164855c button.colab-df-convert');\n",
              "        buttonEl.style.display =\n",
              "          google.colab.kernel.accessAllowed ? 'block' : 'none';\n",
              "\n",
              "        async function convertToInteractive(key) {\n",
              "          const element = document.querySelector('#df-a26feb80-4260-4364-ba7e-d6f66164855c');\n",
              "          const dataTable =\n",
              "            await google.colab.kernel.invokeFunction('convertToInteractive',\n",
              "                                                     [key], {});\n",
              "          if (!dataTable) return;\n",
              "\n",
              "          const docLinkHtml = 'Like what you see? Visit the ' +\n",
              "            '<a target=\"_blank\" href=https://colab.research.google.com/notebooks/data_table.ipynb>data table notebook</a>'\n",
              "            + ' to learn more about interactive tables.';\n",
              "          element.innerHTML = '';\n",
              "          dataTable['output_type'] = 'display_data';\n",
              "          await google.colab.output.renderOutput(dataTable, element);\n",
              "          const docLink = document.createElement('div');\n",
              "          docLink.innerHTML = docLinkHtml;\n",
              "          element.appendChild(docLink);\n",
              "        }\n",
              "      </script>\n",
              "    </div>\n",
              "  </div>\n",
              "  "
            ]
          },
          "metadata": {},
          "execution_count": 24
        }
      ]
    },
    {
      "cell_type": "markdown",
      "source": [
        "Clean up the headers a bit more by renaming the '[Place' and ' Team]' columns. Python is picky about whitespace. Make sure you include a space after the quotation mark in ' Team]'."
      ],
      "metadata": {
        "id": "OO4zXXGUgoS-"
      }
    },
    {
      "cell_type": "code",
      "source": [
        "df7.rename(columns={'[Place': 'Place'},inplace=True)\n",
        "df7.rename(columns={' Team]': 'Team'},inplace=True)\n",
        "df7.head()\n"
      ],
      "metadata": {
        "colab": {
          "base_uri": "https://localhost:8080/",
          "height": 206
        },
        "id": "1umi4CL6gmQp",
        "outputId": "84cb48c0-dfe0-4209-b751-cf924cd78f9f"
      },
      "execution_count": null,
      "outputs": [
        {
          "output_type": "execute_result",
          "data": {
            "text/plain": [
              "  Place   Bib                                               Name  Gender  \\\n",
              "5     1   814   \\r\\n\\r\\n                    JARED WILSON\\r\\n\\...       M   \n",
              "6     2   573   \\r\\n\\r\\n                    NATHAN A SUSTERSI...       M   \n",
              "7     3   687   \\r\\n\\r\\n                    FRANCISCO MAYA\\r\\...       M   \n",
              "8     4   623   \\r\\n\\r\\n                    PAUL MORROW\\r\\n\\r...       M   \n",
              "9     5   569   \\r\\n\\r\\n                    DEREK G OSBORNE\\r...       M   \n",
              "\n",
              "         City  State    Time  Gun Time  \\\n",
              "5      TIGARD     OR   36:21     36:24   \n",
              "6    PORTLAND     OR   36:42     36:45   \n",
              "7    PORTLAND     OR   37:44     37:48   \n",
              "8   BEAVERTON     OR   38:34     38:37   \n",
              "9   HILLSBORO     OR   39:21     39:24   \n",
              "\n",
              "                                                Team  \n",
              "5                                                  ]  \n",
              "6   \\n\\r\\n                            INTEL TEAM ...  \n",
              "7                                                  ]  \n",
              "8                                                  ]  \n",
              "9   \\n\\r\\n                            INTEL TEAM ...  "
            ],
            "text/html": [
              "\n",
              "  <div id=\"df-88973f77-b14e-4c04-9186-a3c63fe50cc5\">\n",
              "    <div class=\"colab-df-container\">\n",
              "      <div>\n",
              "<style scoped>\n",
              "    .dataframe tbody tr th:only-of-type {\n",
              "        vertical-align: middle;\n",
              "    }\n",
              "\n",
              "    .dataframe tbody tr th {\n",
              "        vertical-align: top;\n",
              "    }\n",
              "\n",
              "    .dataframe thead th {\n",
              "        text-align: right;\n",
              "    }\n",
              "</style>\n",
              "<table border=\"1\" class=\"dataframe\">\n",
              "  <thead>\n",
              "    <tr style=\"text-align: right;\">\n",
              "      <th></th>\n",
              "      <th>Place</th>\n",
              "      <th>Bib</th>\n",
              "      <th>Name</th>\n",
              "      <th>Gender</th>\n",
              "      <th>City</th>\n",
              "      <th>State</th>\n",
              "      <th>Time</th>\n",
              "      <th>Gun Time</th>\n",
              "      <th>Team</th>\n",
              "    </tr>\n",
              "  </thead>\n",
              "  <tbody>\n",
              "    <tr>\n",
              "      <th>5</th>\n",
              "      <td>1</td>\n",
              "      <td>814</td>\n",
              "      <td>\\r\\n\\r\\n                    JARED WILSON\\r\\n\\...</td>\n",
              "      <td>M</td>\n",
              "      <td>TIGARD</td>\n",
              "      <td>OR</td>\n",
              "      <td>36:21</td>\n",
              "      <td>36:24</td>\n",
              "      <td>]</td>\n",
              "    </tr>\n",
              "    <tr>\n",
              "      <th>6</th>\n",
              "      <td>2</td>\n",
              "      <td>573</td>\n",
              "      <td>\\r\\n\\r\\n                    NATHAN A SUSTERSI...</td>\n",
              "      <td>M</td>\n",
              "      <td>PORTLAND</td>\n",
              "      <td>OR</td>\n",
              "      <td>36:42</td>\n",
              "      <td>36:45</td>\n",
              "      <td>\\n\\r\\n                            INTEL TEAM ...</td>\n",
              "    </tr>\n",
              "    <tr>\n",
              "      <th>7</th>\n",
              "      <td>3</td>\n",
              "      <td>687</td>\n",
              "      <td>\\r\\n\\r\\n                    FRANCISCO MAYA\\r\\...</td>\n",
              "      <td>M</td>\n",
              "      <td>PORTLAND</td>\n",
              "      <td>OR</td>\n",
              "      <td>37:44</td>\n",
              "      <td>37:48</td>\n",
              "      <td>]</td>\n",
              "    </tr>\n",
              "    <tr>\n",
              "      <th>8</th>\n",
              "      <td>4</td>\n",
              "      <td>623</td>\n",
              "      <td>\\r\\n\\r\\n                    PAUL MORROW\\r\\n\\r...</td>\n",
              "      <td>M</td>\n",
              "      <td>BEAVERTON</td>\n",
              "      <td>OR</td>\n",
              "      <td>38:34</td>\n",
              "      <td>38:37</td>\n",
              "      <td>]</td>\n",
              "    </tr>\n",
              "    <tr>\n",
              "      <th>9</th>\n",
              "      <td>5</td>\n",
              "      <td>569</td>\n",
              "      <td>\\r\\n\\r\\n                    DEREK G OSBORNE\\r...</td>\n",
              "      <td>M</td>\n",
              "      <td>HILLSBORO</td>\n",
              "      <td>OR</td>\n",
              "      <td>39:21</td>\n",
              "      <td>39:24</td>\n",
              "      <td>\\n\\r\\n                            INTEL TEAM ...</td>\n",
              "    </tr>\n",
              "  </tbody>\n",
              "</table>\n",
              "</div>\n",
              "      <button class=\"colab-df-convert\" onclick=\"convertToInteractive('df-88973f77-b14e-4c04-9186-a3c63fe50cc5')\"\n",
              "              title=\"Convert this dataframe to an interactive table.\"\n",
              "              style=\"display:none;\">\n",
              "        \n",
              "  <svg xmlns=\"http://www.w3.org/2000/svg\" height=\"24px\"viewBox=\"0 0 24 24\"\n",
              "       width=\"24px\">\n",
              "    <path d=\"M0 0h24v24H0V0z\" fill=\"none\"/>\n",
              "    <path d=\"M18.56 5.44l.94 2.06.94-2.06 2.06-.94-2.06-.94-.94-2.06-.94 2.06-2.06.94zm-11 1L8.5 8.5l.94-2.06 2.06-.94-2.06-.94L8.5 2.5l-.94 2.06-2.06.94zm10 10l.94 2.06.94-2.06 2.06-.94-2.06-.94-.94-2.06-.94 2.06-2.06.94z\"/><path d=\"M17.41 7.96l-1.37-1.37c-.4-.4-.92-.59-1.43-.59-.52 0-1.04.2-1.43.59L10.3 9.45l-7.72 7.72c-.78.78-.78 2.05 0 2.83L4 21.41c.39.39.9.59 1.41.59.51 0 1.02-.2 1.41-.59l7.78-7.78 2.81-2.81c.8-.78.8-2.07 0-2.86zM5.41 20L4 18.59l7.72-7.72 1.47 1.35L5.41 20z\"/>\n",
              "  </svg>\n",
              "      </button>\n",
              "      \n",
              "  <style>\n",
              "    .colab-df-container {\n",
              "      display:flex;\n",
              "      flex-wrap:wrap;\n",
              "      gap: 12px;\n",
              "    }\n",
              "\n",
              "    .colab-df-convert {\n",
              "      background-color: #E8F0FE;\n",
              "      border: none;\n",
              "      border-radius: 50%;\n",
              "      cursor: pointer;\n",
              "      display: none;\n",
              "      fill: #1967D2;\n",
              "      height: 32px;\n",
              "      padding: 0 0 0 0;\n",
              "      width: 32px;\n",
              "    }\n",
              "\n",
              "    .colab-df-convert:hover {\n",
              "      background-color: #E2EBFA;\n",
              "      box-shadow: 0px 1px 2px rgba(60, 64, 67, 0.3), 0px 1px 3px 1px rgba(60, 64, 67, 0.15);\n",
              "      fill: #174EA6;\n",
              "    }\n",
              "\n",
              "    [theme=dark] .colab-df-convert {\n",
              "      background-color: #3B4455;\n",
              "      fill: #D2E3FC;\n",
              "    }\n",
              "\n",
              "    [theme=dark] .colab-df-convert:hover {\n",
              "      background-color: #434B5C;\n",
              "      box-shadow: 0px 1px 3px 1px rgba(0, 0, 0, 0.15);\n",
              "      filter: drop-shadow(0px 1px 2px rgba(0, 0, 0, 0.3));\n",
              "      fill: #FFFFFF;\n",
              "    }\n",
              "  </style>\n",
              "\n",
              "      <script>\n",
              "        const buttonEl =\n",
              "          document.querySelector('#df-88973f77-b14e-4c04-9186-a3c63fe50cc5 button.colab-df-convert');\n",
              "        buttonEl.style.display =\n",
              "          google.colab.kernel.accessAllowed ? 'block' : 'none';\n",
              "\n",
              "        async function convertToInteractive(key) {\n",
              "          const element = document.querySelector('#df-88973f77-b14e-4c04-9186-a3c63fe50cc5');\n",
              "          const dataTable =\n",
              "            await google.colab.kernel.invokeFunction('convertToInteractive',\n",
              "                                                     [key], {});\n",
              "          if (!dataTable) return;\n",
              "\n",
              "          const docLinkHtml = 'Like what you see? Visit the ' +\n",
              "            '<a target=\"_blank\" href=https://colab.research.google.com/notebooks/data_table.ipynb>data table notebook</a>'\n",
              "            + ' to learn more about interactive tables.';\n",
              "          element.innerHTML = '';\n",
              "          dataTable['output_type'] = 'display_data';\n",
              "          await google.colab.output.renderOutput(dataTable, element);\n",
              "          const docLink = document.createElement('div');\n",
              "          docLink.innerHTML = docLinkHtml;\n",
              "          element.appendChild(docLink);\n",
              "        }\n",
              "      </script>\n",
              "    </div>\n",
              "  </div>\n",
              "  "
            ]
          },
          "metadata": {},
          "execution_count": 25
        }
      ]
    },
    {
      "cell_type": "markdown",
      "source": [
        "The final data cleaning step involves removing the closing bracket for cells in the \"Team\" column."
      ],
      "metadata": {
        "id": "pH3iFQ3fgrVo"
      }
    },
    {
      "cell_type": "code",
      "source": [
        "\n",
        "df7['Team'] = df7['Team'].str.strip(']')\n",
        "df7.head()"
      ],
      "metadata": {
        "colab": {
          "base_uri": "https://localhost:8080/",
          "height": 206
        },
        "id": "wazq8mE_gpuh",
        "outputId": "fe3a1034-212c-42fa-e172-0042e0012214"
      },
      "execution_count": null,
      "outputs": [
        {
          "output_type": "execute_result",
          "data": {
            "text/plain": [
              "  Place   Bib                                               Name  Gender  \\\n",
              "5     1   814   \\r\\n\\r\\n                    JARED WILSON\\r\\n\\...       M   \n",
              "6     2   573   \\r\\n\\r\\n                    NATHAN A SUSTERSI...       M   \n",
              "7     3   687   \\r\\n\\r\\n                    FRANCISCO MAYA\\r\\...       M   \n",
              "8     4   623   \\r\\n\\r\\n                    PAUL MORROW\\r\\n\\r...       M   \n",
              "9     5   569   \\r\\n\\r\\n                    DEREK G OSBORNE\\r...       M   \n",
              "\n",
              "         City  State    Time  Gun Time  \\\n",
              "5      TIGARD     OR   36:21     36:24   \n",
              "6    PORTLAND     OR   36:42     36:45   \n",
              "7    PORTLAND     OR   37:44     37:48   \n",
              "8   BEAVERTON     OR   38:34     38:37   \n",
              "9   HILLSBORO     OR   39:21     39:24   \n",
              "\n",
              "                                                Team  \n",
              "5                                                     \n",
              "6   \\n\\r\\n                            INTEL TEAM ...  \n",
              "7                                                     \n",
              "8                                                     \n",
              "9   \\n\\r\\n                            INTEL TEAM ...  "
            ],
            "text/html": [
              "\n",
              "  <div id=\"df-1bc440db-1007-4f07-a2e2-71e3518c97d9\">\n",
              "    <div class=\"colab-df-container\">\n",
              "      <div>\n",
              "<style scoped>\n",
              "    .dataframe tbody tr th:only-of-type {\n",
              "        vertical-align: middle;\n",
              "    }\n",
              "\n",
              "    .dataframe tbody tr th {\n",
              "        vertical-align: top;\n",
              "    }\n",
              "\n",
              "    .dataframe thead th {\n",
              "        text-align: right;\n",
              "    }\n",
              "</style>\n",
              "<table border=\"1\" class=\"dataframe\">\n",
              "  <thead>\n",
              "    <tr style=\"text-align: right;\">\n",
              "      <th></th>\n",
              "      <th>Place</th>\n",
              "      <th>Bib</th>\n",
              "      <th>Name</th>\n",
              "      <th>Gender</th>\n",
              "      <th>City</th>\n",
              "      <th>State</th>\n",
              "      <th>Time</th>\n",
              "      <th>Gun Time</th>\n",
              "      <th>Team</th>\n",
              "    </tr>\n",
              "  </thead>\n",
              "  <tbody>\n",
              "    <tr>\n",
              "      <th>5</th>\n",
              "      <td>1</td>\n",
              "      <td>814</td>\n",
              "      <td>\\r\\n\\r\\n                    JARED WILSON\\r\\n\\...</td>\n",
              "      <td>M</td>\n",
              "      <td>TIGARD</td>\n",
              "      <td>OR</td>\n",
              "      <td>36:21</td>\n",
              "      <td>36:24</td>\n",
              "      <td></td>\n",
              "    </tr>\n",
              "    <tr>\n",
              "      <th>6</th>\n",
              "      <td>2</td>\n",
              "      <td>573</td>\n",
              "      <td>\\r\\n\\r\\n                    NATHAN A SUSTERSI...</td>\n",
              "      <td>M</td>\n",
              "      <td>PORTLAND</td>\n",
              "      <td>OR</td>\n",
              "      <td>36:42</td>\n",
              "      <td>36:45</td>\n",
              "      <td>\\n\\r\\n                            INTEL TEAM ...</td>\n",
              "    </tr>\n",
              "    <tr>\n",
              "      <th>7</th>\n",
              "      <td>3</td>\n",
              "      <td>687</td>\n",
              "      <td>\\r\\n\\r\\n                    FRANCISCO MAYA\\r\\...</td>\n",
              "      <td>M</td>\n",
              "      <td>PORTLAND</td>\n",
              "      <td>OR</td>\n",
              "      <td>37:44</td>\n",
              "      <td>37:48</td>\n",
              "      <td></td>\n",
              "    </tr>\n",
              "    <tr>\n",
              "      <th>8</th>\n",
              "      <td>4</td>\n",
              "      <td>623</td>\n",
              "      <td>\\r\\n\\r\\n                    PAUL MORROW\\r\\n\\r...</td>\n",
              "      <td>M</td>\n",
              "      <td>BEAVERTON</td>\n",
              "      <td>OR</td>\n",
              "      <td>38:34</td>\n",
              "      <td>38:37</td>\n",
              "      <td></td>\n",
              "    </tr>\n",
              "    <tr>\n",
              "      <th>9</th>\n",
              "      <td>5</td>\n",
              "      <td>569</td>\n",
              "      <td>\\r\\n\\r\\n                    DEREK G OSBORNE\\r...</td>\n",
              "      <td>M</td>\n",
              "      <td>HILLSBORO</td>\n",
              "      <td>OR</td>\n",
              "      <td>39:21</td>\n",
              "      <td>39:24</td>\n",
              "      <td>\\n\\r\\n                            INTEL TEAM ...</td>\n",
              "    </tr>\n",
              "  </tbody>\n",
              "</table>\n",
              "</div>\n",
              "      <button class=\"colab-df-convert\" onclick=\"convertToInteractive('df-1bc440db-1007-4f07-a2e2-71e3518c97d9')\"\n",
              "              title=\"Convert this dataframe to an interactive table.\"\n",
              "              style=\"display:none;\">\n",
              "        \n",
              "  <svg xmlns=\"http://www.w3.org/2000/svg\" height=\"24px\"viewBox=\"0 0 24 24\"\n",
              "       width=\"24px\">\n",
              "    <path d=\"M0 0h24v24H0V0z\" fill=\"none\"/>\n",
              "    <path d=\"M18.56 5.44l.94 2.06.94-2.06 2.06-.94-2.06-.94-.94-2.06-.94 2.06-2.06.94zm-11 1L8.5 8.5l.94-2.06 2.06-.94-2.06-.94L8.5 2.5l-.94 2.06-2.06.94zm10 10l.94 2.06.94-2.06 2.06-.94-2.06-.94-.94-2.06-.94 2.06-2.06.94z\"/><path d=\"M17.41 7.96l-1.37-1.37c-.4-.4-.92-.59-1.43-.59-.52 0-1.04.2-1.43.59L10.3 9.45l-7.72 7.72c-.78.78-.78 2.05 0 2.83L4 21.41c.39.39.9.59 1.41.59.51 0 1.02-.2 1.41-.59l7.78-7.78 2.81-2.81c.8-.78.8-2.07 0-2.86zM5.41 20L4 18.59l7.72-7.72 1.47 1.35L5.41 20z\"/>\n",
              "  </svg>\n",
              "      </button>\n",
              "      \n",
              "  <style>\n",
              "    .colab-df-container {\n",
              "      display:flex;\n",
              "      flex-wrap:wrap;\n",
              "      gap: 12px;\n",
              "    }\n",
              "\n",
              "    .colab-df-convert {\n",
              "      background-color: #E8F0FE;\n",
              "      border: none;\n",
              "      border-radius: 50%;\n",
              "      cursor: pointer;\n",
              "      display: none;\n",
              "      fill: #1967D2;\n",
              "      height: 32px;\n",
              "      padding: 0 0 0 0;\n",
              "      width: 32px;\n",
              "    }\n",
              "\n",
              "    .colab-df-convert:hover {\n",
              "      background-color: #E2EBFA;\n",
              "      box-shadow: 0px 1px 2px rgba(60, 64, 67, 0.3), 0px 1px 3px 1px rgba(60, 64, 67, 0.15);\n",
              "      fill: #174EA6;\n",
              "    }\n",
              "\n",
              "    [theme=dark] .colab-df-convert {\n",
              "      background-color: #3B4455;\n",
              "      fill: #D2E3FC;\n",
              "    }\n",
              "\n",
              "    [theme=dark] .colab-df-convert:hover {\n",
              "      background-color: #434B5C;\n",
              "      box-shadow: 0px 1px 3px 1px rgba(0, 0, 0, 0.15);\n",
              "      filter: drop-shadow(0px 1px 2px rgba(0, 0, 0, 0.3));\n",
              "      fill: #FFFFFF;\n",
              "    }\n",
              "  </style>\n",
              "\n",
              "      <script>\n",
              "        const buttonEl =\n",
              "          document.querySelector('#df-1bc440db-1007-4f07-a2e2-71e3518c97d9 button.colab-df-convert');\n",
              "        buttonEl.style.display =\n",
              "          google.colab.kernel.accessAllowed ? 'block' : 'none';\n",
              "\n",
              "        async function convertToInteractive(key) {\n",
              "          const element = document.querySelector('#df-1bc440db-1007-4f07-a2e2-71e3518c97d9');\n",
              "          const dataTable =\n",
              "            await google.colab.kernel.invokeFunction('convertToInteractive',\n",
              "                                                     [key], {});\n",
              "          if (!dataTable) return;\n",
              "\n",
              "          const docLinkHtml = 'Like what you see? Visit the ' +\n",
              "            '<a target=\"_blank\" href=https://colab.research.google.com/notebooks/data_table.ipynb>data table notebook</a>'\n",
              "            + ' to learn more about interactive tables.';\n",
              "          element.innerHTML = '';\n",
              "          dataTable['output_type'] = 'display_data';\n",
              "          await google.colab.output.renderOutput(dataTable, element);\n",
              "          const docLink = document.createElement('div');\n",
              "          docLink.innerHTML = docLinkHtml;\n",
              "          element.appendChild(docLink);\n",
              "        }\n",
              "      </script>\n",
              "    </div>\n",
              "  </div>\n",
              "  "
            ]
          },
          "metadata": {},
          "execution_count": 26
        }
      ]
    },
    {
      "cell_type": "markdown",
      "source": [
        "## Clean Up Unwanted Characters"
      ],
      "metadata": {
        "id": "9YxKmg0FkAiz"
      }
    },
    {
      "cell_type": "code",
      "source": [
        "\n",
        "df7 = df7.replace(to_replace=[r\"\\\\r\", r\"\\\\n\", \"\\s+\"], value=[\"\", \"\", \"\"], regex=True)\n",
        "df7.head()"
      ],
      "metadata": {
        "colab": {
          "base_uri": "https://localhost:8080/",
          "height": 206
        },
        "id": "hvSWgGYujZem",
        "outputId": "4e45556a-ed4d-41ce-d04e-6441057dd1f9"
      },
      "execution_count": null,
      "outputs": [
        {
          "output_type": "execute_result",
          "data": {
            "text/plain": [
              "  Place  Bib              Name  Gender       City  State   Time  Gun Time  \\\n",
              "5     1  814       JAREDWILSON       M     TIGARD     OR  36:21     36:24   \n",
              "6     2  573  NATHANASUSTERSIC       M   PORTLAND     OR  36:42     36:45   \n",
              "7     3  687     FRANCISCOMAYA       M   PORTLAND     OR  37:44     37:48   \n",
              "8     4  623        PAULMORROW       M  BEAVERTON     OR  38:34     38:37   \n",
              "9     5  569     DEREKGOSBORNE       M  HILLSBORO     OR  39:21     39:24   \n",
              "\n",
              "         Team  \n",
              "5              \n",
              "6  INTELTEAMF  \n",
              "7              \n",
              "8              \n",
              "9  INTELTEAMF  "
            ],
            "text/html": [
              "\n",
              "  <div id=\"df-0fadb059-e848-4766-98f2-c73ccea616b7\">\n",
              "    <div class=\"colab-df-container\">\n",
              "      <div>\n",
              "<style scoped>\n",
              "    .dataframe tbody tr th:only-of-type {\n",
              "        vertical-align: middle;\n",
              "    }\n",
              "\n",
              "    .dataframe tbody tr th {\n",
              "        vertical-align: top;\n",
              "    }\n",
              "\n",
              "    .dataframe thead th {\n",
              "        text-align: right;\n",
              "    }\n",
              "</style>\n",
              "<table border=\"1\" class=\"dataframe\">\n",
              "  <thead>\n",
              "    <tr style=\"text-align: right;\">\n",
              "      <th></th>\n",
              "      <th>Place</th>\n",
              "      <th>Bib</th>\n",
              "      <th>Name</th>\n",
              "      <th>Gender</th>\n",
              "      <th>City</th>\n",
              "      <th>State</th>\n",
              "      <th>Time</th>\n",
              "      <th>Gun Time</th>\n",
              "      <th>Team</th>\n",
              "    </tr>\n",
              "  </thead>\n",
              "  <tbody>\n",
              "    <tr>\n",
              "      <th>5</th>\n",
              "      <td>1</td>\n",
              "      <td>814</td>\n",
              "      <td>JAREDWILSON</td>\n",
              "      <td>M</td>\n",
              "      <td>TIGARD</td>\n",
              "      <td>OR</td>\n",
              "      <td>36:21</td>\n",
              "      <td>36:24</td>\n",
              "      <td></td>\n",
              "    </tr>\n",
              "    <tr>\n",
              "      <th>6</th>\n",
              "      <td>2</td>\n",
              "      <td>573</td>\n",
              "      <td>NATHANASUSTERSIC</td>\n",
              "      <td>M</td>\n",
              "      <td>PORTLAND</td>\n",
              "      <td>OR</td>\n",
              "      <td>36:42</td>\n",
              "      <td>36:45</td>\n",
              "      <td>INTELTEAMF</td>\n",
              "    </tr>\n",
              "    <tr>\n",
              "      <th>7</th>\n",
              "      <td>3</td>\n",
              "      <td>687</td>\n",
              "      <td>FRANCISCOMAYA</td>\n",
              "      <td>M</td>\n",
              "      <td>PORTLAND</td>\n",
              "      <td>OR</td>\n",
              "      <td>37:44</td>\n",
              "      <td>37:48</td>\n",
              "      <td></td>\n",
              "    </tr>\n",
              "    <tr>\n",
              "      <th>8</th>\n",
              "      <td>4</td>\n",
              "      <td>623</td>\n",
              "      <td>PAULMORROW</td>\n",
              "      <td>M</td>\n",
              "      <td>BEAVERTON</td>\n",
              "      <td>OR</td>\n",
              "      <td>38:34</td>\n",
              "      <td>38:37</td>\n",
              "      <td></td>\n",
              "    </tr>\n",
              "    <tr>\n",
              "      <th>9</th>\n",
              "      <td>5</td>\n",
              "      <td>569</td>\n",
              "      <td>DEREKGOSBORNE</td>\n",
              "      <td>M</td>\n",
              "      <td>HILLSBORO</td>\n",
              "      <td>OR</td>\n",
              "      <td>39:21</td>\n",
              "      <td>39:24</td>\n",
              "      <td>INTELTEAMF</td>\n",
              "    </tr>\n",
              "  </tbody>\n",
              "</table>\n",
              "</div>\n",
              "      <button class=\"colab-df-convert\" onclick=\"convertToInteractive('df-0fadb059-e848-4766-98f2-c73ccea616b7')\"\n",
              "              title=\"Convert this dataframe to an interactive table.\"\n",
              "              style=\"display:none;\">\n",
              "        \n",
              "  <svg xmlns=\"http://www.w3.org/2000/svg\" height=\"24px\"viewBox=\"0 0 24 24\"\n",
              "       width=\"24px\">\n",
              "    <path d=\"M0 0h24v24H0V0z\" fill=\"none\"/>\n",
              "    <path d=\"M18.56 5.44l.94 2.06.94-2.06 2.06-.94-2.06-.94-.94-2.06-.94 2.06-2.06.94zm-11 1L8.5 8.5l.94-2.06 2.06-.94-2.06-.94L8.5 2.5l-.94 2.06-2.06.94zm10 10l.94 2.06.94-2.06 2.06-.94-2.06-.94-.94-2.06-.94 2.06-2.06.94z\"/><path d=\"M17.41 7.96l-1.37-1.37c-.4-.4-.92-.59-1.43-.59-.52 0-1.04.2-1.43.59L10.3 9.45l-7.72 7.72c-.78.78-.78 2.05 0 2.83L4 21.41c.39.39.9.59 1.41.59.51 0 1.02-.2 1.41-.59l7.78-7.78 2.81-2.81c.8-.78.8-2.07 0-2.86zM5.41 20L4 18.59l7.72-7.72 1.47 1.35L5.41 20z\"/>\n",
              "  </svg>\n",
              "      </button>\n",
              "      \n",
              "  <style>\n",
              "    .colab-df-container {\n",
              "      display:flex;\n",
              "      flex-wrap:wrap;\n",
              "      gap: 12px;\n",
              "    }\n",
              "\n",
              "    .colab-df-convert {\n",
              "      background-color: #E8F0FE;\n",
              "      border: none;\n",
              "      border-radius: 50%;\n",
              "      cursor: pointer;\n",
              "      display: none;\n",
              "      fill: #1967D2;\n",
              "      height: 32px;\n",
              "      padding: 0 0 0 0;\n",
              "      width: 32px;\n",
              "    }\n",
              "\n",
              "    .colab-df-convert:hover {\n",
              "      background-color: #E2EBFA;\n",
              "      box-shadow: 0px 1px 2px rgba(60, 64, 67, 0.3), 0px 1px 3px 1px rgba(60, 64, 67, 0.15);\n",
              "      fill: #174EA6;\n",
              "    }\n",
              "\n",
              "    [theme=dark] .colab-df-convert {\n",
              "      background-color: #3B4455;\n",
              "      fill: #D2E3FC;\n",
              "    }\n",
              "\n",
              "    [theme=dark] .colab-df-convert:hover {\n",
              "      background-color: #434B5C;\n",
              "      box-shadow: 0px 1px 3px 1px rgba(0, 0, 0, 0.15);\n",
              "      filter: drop-shadow(0px 1px 2px rgba(0, 0, 0, 0.3));\n",
              "      fill: #FFFFFF;\n",
              "    }\n",
              "  </style>\n",
              "\n",
              "      <script>\n",
              "        const buttonEl =\n",
              "          document.querySelector('#df-0fadb059-e848-4766-98f2-c73ccea616b7 button.colab-df-convert');\n",
              "        buttonEl.style.display =\n",
              "          google.colab.kernel.accessAllowed ? 'block' : 'none';\n",
              "\n",
              "        async function convertToInteractive(key) {\n",
              "          const element = document.querySelector('#df-0fadb059-e848-4766-98f2-c73ccea616b7');\n",
              "          const dataTable =\n",
              "            await google.colab.kernel.invokeFunction('convertToInteractive',\n",
              "                                                     [key], {});\n",
              "          if (!dataTable) return;\n",
              "\n",
              "          const docLinkHtml = 'Like what you see? Visit the ' +\n",
              "            '<a target=\"_blank\" href=https://colab.research.google.com/notebooks/data_table.ipynb>data table notebook</a>'\n",
              "            + ' to learn more about interactive tables.';\n",
              "          element.innerHTML = '';\n",
              "          dataTable['output_type'] = 'display_data';\n",
              "          await google.colab.output.renderOutput(dataTable, element);\n",
              "          const docLink = document.createElement('div');\n",
              "          docLink.innerHTML = docLinkHtml;\n",
              "          element.appendChild(docLink);\n",
              "        }\n",
              "      </script>\n",
              "    </div>\n",
              "  </div>\n",
              "  "
            ]
          },
          "metadata": {},
          "execution_count": 36
        }
      ]
    },
    {
      "cell_type": "markdown",
      "source": [
        "The dataframe is now  in the desired format. One thing you could do at this point is to further transform the data by eliminating redundancies and unneeded information. For example, some of the columns appear to be redundant and potentially could be dropped.\n",
        "\n",
        "Next move on to the Data Science part, including computation of summary statistics and plotting of results.\n"
      ],
      "metadata": {
        "id": "3gEVhStOgw9X"
      }
    },
    {
      "cell_type": "markdown",
      "source": [
        "# Data Analysis and Visualization\n"
      ],
      "metadata": {
        "id": "dgEj6I8Qgy9r"
      }
    },
    {
      "cell_type": "markdown",
      "source": [
        "The first question to answer is, what was the average finish time (in minutes) for the runners? Unfortunately, the “Chip Time” field gives the finish time in hh:mm:ss , so you need to transform that column into just minutes. One way to do this is to convert the column to a list first for manipulation."
      ],
      "metadata": {
        "id": "fgD-g11eg2i5"
      }
    },
    {
      "cell_type": "markdown",
      "source": [
        "Seems like the name of the column was updated to ` Gun Time`."
      ],
      "metadata": {
        "id": "B7SEPS5ikTLB"
      }
    },
    {
      "cell_type": "code",
      "source": [
        "df7.columns"
      ],
      "metadata": {
        "colab": {
          "base_uri": "https://localhost:8080/"
        },
        "id": "NyzlESJikIuP",
        "outputId": "ce0a3026-8fef-45c8-b45d-ef1ad06a0689"
      },
      "execution_count": null,
      "outputs": [
        {
          "output_type": "execute_result",
          "data": {
            "text/plain": [
              "Index(['Place', ' Bib', ' Name', ' Gender', ' City', ' State', ' Time',\n",
              "       ' Gun Time', 'Team'],\n",
              "      dtype='object')"
            ]
          },
          "metadata": {},
          "execution_count": 35
        }
      ]
    },
    {
      "cell_type": "code",
      "source": [
        "\n",
        "time_list = df7[' Gun Time'].tolist()"
      ],
      "metadata": {
        "id": "lWmx70pOgtmF"
      },
      "execution_count": null,
      "outputs": []
    },
    {
      "cell_type": "code",
      "source": [
        "\n",
        "# You can use a for loop to convert 'Chip Time' to minutes\n",
        "padded_times = []\n",
        "for time in time_list:\n",
        "    time_parts = time.split(':')\n",
        "    if len(time_parts) == 2:\n",
        "        # Add leading zero to the hours section\n",
        "        time_parts.insert(0, '00')\n",
        "    # Pad minutes and seconds with leading zeros\n",
        "    time_parts[1:] = [part.zfill(2) for part in time_parts[1:]]\n",
        "    padded_time = ':'.join(time_parts)\n",
        "    padded_times.append(padded_time)\n",
        "\n",
        "print(padded_times)"
      ],
      "metadata": {
        "colab": {
          "base_uri": "https://localhost:8080/"
        },
        "id": "yl8NzCPYg4Ul",
        "outputId": "cbd1028a-0206-4166-f07a-374c6f44f758"
      },
      "execution_count": null,
      "outputs": [
        {
          "output_type": "stream",
          "name": "stdout",
          "text": [
            "['00:36:24', '00:36:45', '00:37:48', '00:38:37', '00:39:24', '00:39:55', '00:40:17', '00:40:09', '00:40:24', '00:40:25', '00:40:40', '00:40:42', '00:40:50', '00:41:13', '00:41:24', '00:41:49', '00:42:02', '00:42:28', '00:42:34', '00:42:48', '00:42:52', '00:42:58', '00:43:04', '00:43:36', '00:43:30', '00:43:43', '00:44:01', '00:43:52', '00:43:51', '00:43:53', '00:43:52', '00:43:52', '00:44:10', '00:44:12', '00:44:18', '00:44:17', '00:44:29', '00:45:09', '00:45:10', '00:44:46', '00:45:01', '00:45:46', '00:45:09', '00:45:22', '00:45:30', '00:45:18', '00:45:35', '00:45:32', '00:45:26', '00:45:24', '00:45:53', '00:45:34', '00:45:42', '00:46:31', '00:46:17', '00:45:59', '00:46:02', '00:45:57', '00:46:05', '00:46:07', '00:46:16', '00:46:39', '00:46:28', '00:46:33', '00:46:58', '00:48:01', '00:47:02', '00:46:53', '00:46:57', '00:47:06', '00:47:00', '00:47:49', '00:46:56', '00:47:09', '00:48:54', '00:47:32', '00:47:21', '00:47:10', '00:47:37', '00:47:13', '00:47:41', '00:47:30', '00:48:28', '00:47:45', '00:47:36', '00:47:59', '00:47:55', '00:48:12', '00:48:01', '00:48:03', '00:48:09', '00:48:09', '00:48:09', '00:48:06', '00:49:03', '00:48:20', '00:48:27', '00:49:06', '00:48:56', '00:48:40', '00:48:58', '00:49:03', '00:48:38', '00:49:36', '00:48:54', '00:48:56', '00:49:14', '00:49:12', '00:49:15', '00:49:05', '00:48:53', '00:49:54', '00:49:22', '00:50:01', '00:49:37', '00:49:26', '00:49:29', '00:49:43', '00:50:03', '00:49:52', '00:50:33', '00:49:57', '00:49:45', '00:50:04', '00:50:50', '00:50:34', '00:51:22', '00:51:29', '00:51:05', '00:51:29', '00:50:45', '00:50:45', '00:50:43', '00:50:29', '00:50:39', '00:50:45', '00:51:01', '00:51:27', '00:52:50', '00:50:57', '00:51:17', '00:50:58', '00:50:57', '00:50:58', '00:51:41', '00:51:25', '00:51:22', '00:52:06', '00:51:18', '00:51:15', '00:51:44', '00:51:28', '00:52:19', '00:51:52', '00:51:53', '00:52:06', '00:51:41', '00:52:14', '00:52:00', '00:52:31', '00:52:10', '00:52:10', '00:52:10', '00:52:11', '00:52:45', '00:52:41', '00:53:33', '00:52:34', '00:53:18', '00:52:54', '00:52:42', '00:53:09', '00:53:01', '00:52:55', '00:53:08', '00:53:04', '00:52:51', '00:52:52', '00:53:02', '00:53:22', '00:53:24', '00:53:51', '00:53:30', '00:53:18', '00:54:11', '00:53:44', '00:54:11', '00:54:07', '00:53:54', '00:53:53', '00:54:00', '00:53:52', '00:53:52', '00:54:04', '00:54:15', '00:54:45', '00:53:58', '00:54:18', '00:54:52', '00:54:15', '00:54:23', '00:54:09', '00:54:55', '00:55:11', '00:54:25', '00:54:25', '00:54:52', '00:55:04', '00:55:06', '00:55:41', '00:54:55', '00:55:29', '00:55:11', '00:56:05', '00:56:29', '00:55:22', '00:55:17', '00:54:58', '00:55:08', '00:56:05', '00:55:51', '00:55:11', '00:56:02', '00:55:22', '00:55:46', '00:55:43', '00:55:36', '00:55:43', '00:55:26', '00:55:43', '00:56:04', '00:56:23', '00:56:34', '00:55:57', '00:56:49', '00:56:31', '00:56:04', '00:56:16', '00:56:28', '00:57:15', '00:56:28', '00:57:28', '00:57:04', '00:57:10', '00:57:03', '00:57:12', '00:57:14', '00:57:34', '00:57:29', '00:57:13', '00:58:03', '00:58:04', '00:58:16', '00:57:12', '00:57:46', '00:57:32', '00:58:25', '00:57:50', '00:58:01', '00:58:04', '00:58:12', '00:58:07', '00:57:56', '00:58:52', '00:58:03', '00:58:39', '00:57:58', '00:58:41', '00:57:56', '00:59:03', '00:58:34', '00:58:31', '00:58:46', '00:58:37', '00:58:47', '00:58:47', '00:59:34', '00:58:46', '00:58:44', '00:59:49', '00:59:11', '00:59:09', '1:00:15', '00:59:13', '00:59:15', '00:59:19', '1:00:28', '1:00:27', '00:59:37', '00:59:25', '1:00:08', '00:59:46', '1:00:21', '1:00:36', '1:00:12', '1:00:38', '1:00:15', '1:00:06', '1:00:12', '00:59:54', '1:00:21', '1:00:40', '1:00:07', '1:00:07', '1:00:43', '1:00:09', '1:01:07', '1:01:17', '1:00:41', '1:00:49', '1:01:08', '1:00:51', '1:01:11', '1:00:29', '1:01:31', '1:01:01', '1:01:19', '1:01:15', '1:01:32', '1:01:47', '1:01:51', '1:01:13', '1:01:37', '1:01:16', '1:01:24', '1:02:13', '1:01:30', '1:02:21', '1:01:27', '1:01:47', '1:02:06', '1:02:11', '1:01:41', '1:02:22', '1:02:24', '1:02:04', '1:02:03', '1:02:46', '1:02:41', '1:03:33', '1:02:41', '1:02:20', '1:02:19', '1:02:46', '1:02:46', '1:02:29', '1:02:26', '1:02:32', '1:02:33', '1:03:45', '1:03:05', '1:02:43', '1:03:37', '1:03:42', '1:03:42', '1:03:31', '1:03:54', '1:03:51', '1:03:18', '1:03:56', '1:03:35', '1:03:20', '1:04:02', '1:03:59', '1:04:05', '1:04:22', '1:03:45', '1:04:23', '1:04:23', '1:04:08', '1:04:03', '1:03:52', '1:04:56', '1:04:20', '1:04:34', '1:04:38', '1:04:50', '1:04:26', '1:05:11', '1:05:11', '1:05:20', '1:04:59', '1:05:15', '1:04:51', '1:04:31', '1:04:39', '1:05:35', '1:05:25', '1:04:45', '1:05:22', '1:05:12', '1:05:09', '1:05:04', '1:05:24', '1:05:21', '1:05:40', '1:05:41', '1:05:43', '1:05:26', '1:05:37', '1:06:02', '1:05:55', '1:05:46', '1:06:30', '1:06:15', '1:05:40', '1:05:39', '1:06:44', '1:05:55', '1:06:27', '1:06:21', '1:07:05', '1:06:16', '1:07:03', '1:07:20', '1:07:36', '1:07:51', '1:07:10', '1:07:24', '1:07:14', '1:07:34', '1:07:57', '1:08:00', '1:07:22', '1:07:19', '1:08:02', '1:07:29', '1:07:27', '1:07:30', '1:07:39', '1:07:40', '1:08:16', '1:07:40', '1:07:54', '1:08:12', '1:08:12', '1:07:28', '1:08:15', '1:08:19', '1:08:28', '1:08:26', '1:08:22', '1:08:26', '1:08:49', '1:08:47', '1:08:17', '1:08:34', '1:08:53', '1:08:46', '1:09:20', '1:08:47', '1:09:29', '1:09:42', '1:09:37', '1:08:51', '1:09:31', '1:09:22', '1:09:24', '1:09:01', '1:09:57', '1:09:22', '1:10:15', '1:10:18', '1:09:38', '1:10:15', '1:09:58', '1:09:27', '1:09:38', '1:09:45', '1:09:34', '1:10:06', '1:10:07', '1:10:27', '1:10:46', '1:10:12', '1:11:13', '1:10:28', '1:10:29', '1:10:50', '1:11:17', '1:11:16', '1:11:48', '1:11:51', '1:11:06', '1:12:13', '1:11:47', '1:11:21', '1:11:56', '1:11:54', '1:11:29', '1:12:03', '1:12:15', '1:11:57', '1:11:59', '1:11:58', '1:11:56', '1:12:08', '1:13:06', '1:13:10', '1:13:10', '1:12:30', '1:13:04', '1:13:04', '1:12:58', '1:12:53', '1:12:53', '1:13:03', '1:13:20', '1:13:45', '1:13:53', '1:13:43', '1:13:53', '1:14:35', '1:13:59', '1:14:14', '1:15:06', '1:14:52', '1:14:59', '1:15:10', '1:15:07', '1:15:49', '1:15:42', '1:15:09', '1:15:51', '1:16:08', '1:15:29', '1:16:02', '1:16:22', '1:16:58', '1:17:01', '1:16:21', '1:16:05', '1:17:13', '1:17:20', '1:17:30', '1:17:42', '1:17:06', '1:17:36', '1:17:54', '1:18:56', '1:18:56', '1:19:57', '1:21:42', '1:24:13', '1:24:13', '1:23:21', '1:23:24', '1:24:10', '1:23:40', '1:24:22', '1:24:51', '1:24:54', '1:24:28', '1:25:50', '1:26:51', '1:26:54', '1:26:42', '1:27:52', '1:28:49', '1:28:59', '1:29:59', '1:29:59', '1:31:54', '1:32:42', '1:33:53', '1:33:51', '1:33:05', '1:33:01', '1:33:54', '1:34:53', '1:35:27', '1:38:33', '1:38:34', '1:40:32', '1:40:34', '1:42:01', '1:42:10']\n"
          ]
        }
      ]
    },
    {
      "cell_type": "code",
      "source": [
        "\n",
        "\n",
        "# You can use a for loop to convert 'Chip Time' to minutes\n",
        "\n",
        "time_mins = []\n",
        "for i in padded_times:\n",
        "    h, m, s = i.split(':')\n",
        "    math = (int(h) * 3600 + int(m) * 60 + int(s))/60\n",
        "    time_mins.append(math)\n",
        "print(time_mins)"
      ],
      "metadata": {
        "colab": {
          "base_uri": "https://localhost:8080/"
        },
        "id": "NtwIRIQYm1qx",
        "outputId": "129f844a-8c1e-4e6a-f499-6c7ae93fcc4b"
      },
      "execution_count": null,
      "outputs": [
        {
          "output_type": "stream",
          "name": "stdout",
          "text": [
            "[36.4, 36.75, 37.8, 38.61666666666667, 39.4, 39.916666666666664, 40.28333333333333, 40.15, 40.4, 40.416666666666664, 40.666666666666664, 40.7, 40.833333333333336, 41.21666666666667, 41.4, 41.81666666666667, 42.03333333333333, 42.46666666666667, 42.56666666666667, 42.8, 42.86666666666667, 42.96666666666667, 43.06666666666667, 43.6, 43.5, 43.71666666666667, 44.016666666666666, 43.86666666666667, 43.85, 43.88333333333333, 43.86666666666667, 43.86666666666667, 44.166666666666664, 44.2, 44.3, 44.28333333333333, 44.483333333333334, 45.15, 45.166666666666664, 44.766666666666666, 45.016666666666666, 45.766666666666666, 45.15, 45.36666666666667, 45.5, 45.3, 45.583333333333336, 45.53333333333333, 45.43333333333333, 45.4, 45.88333333333333, 45.56666666666667, 45.7, 46.516666666666666, 46.28333333333333, 45.983333333333334, 46.03333333333333, 45.95, 46.083333333333336, 46.11666666666667, 46.266666666666666, 46.65, 46.46666666666667, 46.55, 46.96666666666667, 48.016666666666666, 47.03333333333333, 46.88333333333333, 46.95, 47.1, 47.0, 47.81666666666667, 46.93333333333333, 47.15, 48.9, 47.53333333333333, 47.35, 47.166666666666664, 47.61666666666667, 47.21666666666667, 47.68333333333333, 47.5, 48.46666666666667, 47.75, 47.6, 47.983333333333334, 47.916666666666664, 48.2, 48.016666666666666, 48.05, 48.15, 48.15, 48.15, 48.1, 49.05, 48.333333333333336, 48.45, 49.1, 48.93333333333333, 48.666666666666664, 48.96666666666667, 49.05, 48.63333333333333, 49.6, 48.9, 48.93333333333333, 49.233333333333334, 49.2, 49.25, 49.083333333333336, 48.88333333333333, 49.9, 49.36666666666667, 50.016666666666666, 49.61666666666667, 49.43333333333333, 49.483333333333334, 49.71666666666667, 50.05, 49.86666666666667, 50.55, 49.95, 49.75, 50.06666666666667, 50.833333333333336, 50.56666666666667, 51.36666666666667, 51.483333333333334, 51.083333333333336, 51.483333333333334, 50.75, 50.75, 50.71666666666667, 50.483333333333334, 50.65, 50.75, 51.016666666666666, 51.45, 52.833333333333336, 50.95, 51.28333333333333, 50.96666666666667, 50.95, 50.96666666666667, 51.68333333333333, 51.416666666666664, 51.36666666666667, 52.1, 51.3, 51.25, 51.733333333333334, 51.46666666666667, 52.31666666666667, 51.86666666666667, 51.88333333333333, 52.1, 51.68333333333333, 52.233333333333334, 52.0, 52.516666666666666, 52.166666666666664, 52.166666666666664, 52.166666666666664, 52.18333333333333, 52.75, 52.68333333333333, 53.55, 52.56666666666667, 53.3, 52.9, 52.7, 53.15, 53.016666666666666, 52.916666666666664, 53.13333333333333, 53.06666666666667, 52.85, 52.86666666666667, 53.03333333333333, 53.36666666666667, 53.4, 53.85, 53.5, 53.3, 54.18333333333333, 53.733333333333334, 54.18333333333333, 54.11666666666667, 53.9, 53.88333333333333, 54.0, 53.86666666666667, 53.86666666666667, 54.06666666666667, 54.25, 54.75, 53.96666666666667, 54.3, 54.86666666666667, 54.25, 54.38333333333333, 54.15, 54.916666666666664, 55.18333333333333, 54.416666666666664, 54.416666666666664, 54.86666666666667, 55.06666666666667, 55.1, 55.68333333333333, 54.916666666666664, 55.483333333333334, 55.18333333333333, 56.083333333333336, 56.483333333333334, 55.36666666666667, 55.28333333333333, 54.96666666666667, 55.13333333333333, 56.083333333333336, 55.85, 55.18333333333333, 56.03333333333333, 55.36666666666667, 55.766666666666666, 55.71666666666667, 55.6, 55.71666666666667, 55.43333333333333, 55.71666666666667, 56.06666666666667, 56.38333333333333, 56.56666666666667, 55.95, 56.81666666666667, 56.516666666666666, 56.06666666666667, 56.266666666666666, 56.46666666666667, 57.25, 56.46666666666667, 57.46666666666667, 57.06666666666667, 57.166666666666664, 57.05, 57.2, 57.233333333333334, 57.56666666666667, 57.483333333333334, 57.21666666666667, 58.05, 58.06666666666667, 58.266666666666666, 57.2, 57.766666666666666, 57.53333333333333, 58.416666666666664, 57.833333333333336, 58.016666666666666, 58.06666666666667, 58.2, 58.11666666666667, 57.93333333333333, 58.86666666666667, 58.05, 58.65, 57.96666666666667, 58.68333333333333, 57.93333333333333, 59.05, 58.56666666666667, 58.516666666666666, 58.766666666666666, 58.61666666666667, 58.78333333333333, 58.78333333333333, 59.56666666666667, 58.766666666666666, 58.733333333333334, 59.81666666666667, 59.18333333333333, 59.15, 60.25, 59.21666666666667, 59.25, 59.31666666666667, 60.46666666666667, 60.45, 59.61666666666667, 59.416666666666664, 60.13333333333333, 59.766666666666666, 60.35, 60.6, 60.2, 60.63333333333333, 60.25, 60.1, 60.2, 59.9, 60.35, 60.666666666666664, 60.11666666666667, 60.11666666666667, 60.71666666666667, 60.15, 61.11666666666667, 61.28333333333333, 60.68333333333333, 60.81666666666667, 61.13333333333333, 60.85, 61.18333333333333, 60.483333333333334, 61.516666666666666, 61.016666666666666, 61.31666666666667, 61.25, 61.53333333333333, 61.78333333333333, 61.85, 61.21666666666667, 61.61666666666667, 61.266666666666666, 61.4, 62.21666666666667, 61.5, 62.35, 61.45, 61.78333333333333, 62.1, 62.18333333333333, 61.68333333333333, 62.36666666666667, 62.4, 62.06666666666667, 62.05, 62.766666666666666, 62.68333333333333, 63.55, 62.68333333333333, 62.333333333333336, 62.31666666666667, 62.766666666666666, 62.766666666666666, 62.483333333333334, 62.43333333333333, 62.53333333333333, 62.55, 63.75, 63.083333333333336, 62.71666666666667, 63.61666666666667, 63.7, 63.7, 63.516666666666666, 63.9, 63.85, 63.3, 63.93333333333333, 63.583333333333336, 63.333333333333336, 64.03333333333333, 63.983333333333334, 64.08333333333333, 64.36666666666666, 63.75, 64.38333333333334, 64.38333333333334, 64.13333333333334, 64.05, 63.86666666666667, 64.93333333333334, 64.33333333333333, 64.56666666666666, 64.63333333333334, 64.83333333333333, 64.43333333333334, 65.18333333333334, 65.18333333333334, 65.33333333333333, 64.98333333333333, 65.25, 64.85, 64.51666666666667, 64.65, 65.58333333333333, 65.41666666666667, 64.75, 65.36666666666666, 65.2, 65.15, 65.06666666666666, 65.4, 65.35, 65.66666666666667, 65.68333333333334, 65.71666666666667, 65.43333333333334, 65.61666666666666, 66.03333333333333, 65.91666666666667, 65.76666666666667, 66.5, 66.25, 65.66666666666667, 65.65, 66.73333333333333, 65.91666666666667, 66.45, 66.35, 67.08333333333333, 66.26666666666667, 67.05, 67.33333333333333, 67.6, 67.85, 67.16666666666667, 67.4, 67.23333333333333, 67.56666666666666, 67.95, 68.0, 67.36666666666666, 67.31666666666666, 68.03333333333333, 67.48333333333333, 67.45, 67.5, 67.65, 67.66666666666667, 68.26666666666667, 67.66666666666667, 67.9, 68.2, 68.2, 67.46666666666667, 68.25, 68.31666666666666, 68.46666666666667, 68.43333333333334, 68.36666666666666, 68.43333333333334, 68.81666666666666, 68.78333333333333, 68.28333333333333, 68.56666666666666, 68.88333333333334, 68.76666666666667, 69.33333333333333, 68.78333333333333, 69.48333333333333, 69.7, 69.61666666666666, 68.85, 69.51666666666667, 69.36666666666666, 69.4, 69.01666666666667, 69.95, 69.36666666666666, 70.25, 70.3, 69.63333333333334, 70.25, 69.96666666666667, 69.45, 69.63333333333334, 69.75, 69.56666666666666, 70.1, 70.11666666666666, 70.45, 70.76666666666667, 70.2, 71.21666666666667, 70.46666666666667, 70.48333333333333, 70.83333333333333, 71.28333333333333, 71.26666666666667, 71.8, 71.85, 71.1, 72.21666666666667, 71.78333333333333, 71.35, 71.93333333333334, 71.9, 71.48333333333333, 72.05, 72.25, 71.95, 71.98333333333333, 71.96666666666667, 71.93333333333334, 72.13333333333334, 73.1, 73.16666666666667, 73.16666666666667, 72.5, 73.06666666666666, 73.06666666666666, 72.96666666666667, 72.88333333333334, 72.88333333333334, 73.05, 73.33333333333333, 73.75, 73.88333333333334, 73.71666666666667, 73.88333333333334, 74.58333333333333, 73.98333333333333, 74.23333333333333, 75.1, 74.86666666666666, 74.98333333333333, 75.16666666666667, 75.11666666666666, 75.81666666666666, 75.7, 75.15, 75.85, 76.13333333333334, 75.48333333333333, 76.03333333333333, 76.36666666666666, 76.96666666666667, 77.01666666666667, 76.35, 76.08333333333333, 77.21666666666667, 77.33333333333333, 77.5, 77.7, 77.1, 77.6, 77.9, 78.93333333333334, 78.93333333333334, 79.95, 81.7, 84.21666666666667, 84.21666666666667, 83.35, 83.4, 84.16666666666667, 83.66666666666667, 84.36666666666666, 84.85, 84.9, 84.46666666666667, 85.83333333333333, 86.85, 86.9, 86.7, 87.86666666666666, 88.81666666666666, 88.98333333333333, 89.98333333333333, 89.98333333333333, 91.9, 92.7, 93.88333333333334, 93.85, 93.08333333333333, 93.01666666666667, 93.9, 94.88333333333334, 95.45, 98.55, 98.56666666666666, 100.53333333333333, 100.56666666666666, 102.01666666666667, 102.16666666666667]\n"
          ]
        }
      ]
    },
    {
      "cell_type": "markdown",
      "source": [
        "Next, convert the list back into a dataframe and create a new column (\"Runner_mins\") for runner chip times expressed in just minutes. "
      ],
      "metadata": {
        "id": "65_OUVZdkzSv"
      }
    },
    {
      "cell_type": "code",
      "source": [
        "\n",
        "\n",
        "df7['Runner_mins'] = time_mins\n",
        "df7.head()"
      ],
      "metadata": {
        "colab": {
          "base_uri": "https://localhost:8080/",
          "height": 206
        },
        "id": "QkAekOF6kadz",
        "outputId": "242d572b-8711-4b40-8869-5d354b2f4e62"
      },
      "execution_count": null,
      "outputs": [
        {
          "output_type": "execute_result",
          "data": {
            "text/plain": [
              "  Place  Bib              Name  Gender       City  State   Time  Gun Time  \\\n",
              "5     1  814       JAREDWILSON       M     TIGARD     OR  36:21     36:24   \n",
              "6     2  573  NATHANASUSTERSIC       M   PORTLAND     OR  36:42     36:45   \n",
              "7     3  687     FRANCISCOMAYA       M   PORTLAND     OR  37:44     37:48   \n",
              "8     4  623        PAULMORROW       M  BEAVERTON     OR  38:34     38:37   \n",
              "9     5  569     DEREKGOSBORNE       M  HILLSBORO     OR  39:21     39:24   \n",
              "\n",
              "         Team  Runner_mins  \n",
              "5                36.400000  \n",
              "6  INTELTEAMF    36.750000  \n",
              "7                37.800000  \n",
              "8                38.616667  \n",
              "9  INTELTEAMF    39.400000  "
            ],
            "text/html": [
              "\n",
              "  <div id=\"df-bec79f58-e473-4b98-a1f4-88fcbdf4ff63\">\n",
              "    <div class=\"colab-df-container\">\n",
              "      <div>\n",
              "<style scoped>\n",
              "    .dataframe tbody tr th:only-of-type {\n",
              "        vertical-align: middle;\n",
              "    }\n",
              "\n",
              "    .dataframe tbody tr th {\n",
              "        vertical-align: top;\n",
              "    }\n",
              "\n",
              "    .dataframe thead th {\n",
              "        text-align: right;\n",
              "    }\n",
              "</style>\n",
              "<table border=\"1\" class=\"dataframe\">\n",
              "  <thead>\n",
              "    <tr style=\"text-align: right;\">\n",
              "      <th></th>\n",
              "      <th>Place</th>\n",
              "      <th>Bib</th>\n",
              "      <th>Name</th>\n",
              "      <th>Gender</th>\n",
              "      <th>City</th>\n",
              "      <th>State</th>\n",
              "      <th>Time</th>\n",
              "      <th>Gun Time</th>\n",
              "      <th>Team</th>\n",
              "      <th>Runner_mins</th>\n",
              "    </tr>\n",
              "  </thead>\n",
              "  <tbody>\n",
              "    <tr>\n",
              "      <th>5</th>\n",
              "      <td>1</td>\n",
              "      <td>814</td>\n",
              "      <td>JAREDWILSON</td>\n",
              "      <td>M</td>\n",
              "      <td>TIGARD</td>\n",
              "      <td>OR</td>\n",
              "      <td>36:21</td>\n",
              "      <td>36:24</td>\n",
              "      <td></td>\n",
              "      <td>36.400000</td>\n",
              "    </tr>\n",
              "    <tr>\n",
              "      <th>6</th>\n",
              "      <td>2</td>\n",
              "      <td>573</td>\n",
              "      <td>NATHANASUSTERSIC</td>\n",
              "      <td>M</td>\n",
              "      <td>PORTLAND</td>\n",
              "      <td>OR</td>\n",
              "      <td>36:42</td>\n",
              "      <td>36:45</td>\n",
              "      <td>INTELTEAMF</td>\n",
              "      <td>36.750000</td>\n",
              "    </tr>\n",
              "    <tr>\n",
              "      <th>7</th>\n",
              "      <td>3</td>\n",
              "      <td>687</td>\n",
              "      <td>FRANCISCOMAYA</td>\n",
              "      <td>M</td>\n",
              "      <td>PORTLAND</td>\n",
              "      <td>OR</td>\n",
              "      <td>37:44</td>\n",
              "      <td>37:48</td>\n",
              "      <td></td>\n",
              "      <td>37.800000</td>\n",
              "    </tr>\n",
              "    <tr>\n",
              "      <th>8</th>\n",
              "      <td>4</td>\n",
              "      <td>623</td>\n",
              "      <td>PAULMORROW</td>\n",
              "      <td>M</td>\n",
              "      <td>BEAVERTON</td>\n",
              "      <td>OR</td>\n",
              "      <td>38:34</td>\n",
              "      <td>38:37</td>\n",
              "      <td></td>\n",
              "      <td>38.616667</td>\n",
              "    </tr>\n",
              "    <tr>\n",
              "      <th>9</th>\n",
              "      <td>5</td>\n",
              "      <td>569</td>\n",
              "      <td>DEREKGOSBORNE</td>\n",
              "      <td>M</td>\n",
              "      <td>HILLSBORO</td>\n",
              "      <td>OR</td>\n",
              "      <td>39:21</td>\n",
              "      <td>39:24</td>\n",
              "      <td>INTELTEAMF</td>\n",
              "      <td>39.400000</td>\n",
              "    </tr>\n",
              "  </tbody>\n",
              "</table>\n",
              "</div>\n",
              "      <button class=\"colab-df-convert\" onclick=\"convertToInteractive('df-bec79f58-e473-4b98-a1f4-88fcbdf4ff63')\"\n",
              "              title=\"Convert this dataframe to an interactive table.\"\n",
              "              style=\"display:none;\">\n",
              "        \n",
              "  <svg xmlns=\"http://www.w3.org/2000/svg\" height=\"24px\"viewBox=\"0 0 24 24\"\n",
              "       width=\"24px\">\n",
              "    <path d=\"M0 0h24v24H0V0z\" fill=\"none\"/>\n",
              "    <path d=\"M18.56 5.44l.94 2.06.94-2.06 2.06-.94-2.06-.94-.94-2.06-.94 2.06-2.06.94zm-11 1L8.5 8.5l.94-2.06 2.06-.94-2.06-.94L8.5 2.5l-.94 2.06-2.06.94zm10 10l.94 2.06.94-2.06 2.06-.94-2.06-.94-.94-2.06-.94 2.06-2.06.94z\"/><path d=\"M17.41 7.96l-1.37-1.37c-.4-.4-.92-.59-1.43-.59-.52 0-1.04.2-1.43.59L10.3 9.45l-7.72 7.72c-.78.78-.78 2.05 0 2.83L4 21.41c.39.39.9.59 1.41.59.51 0 1.02-.2 1.41-.59l7.78-7.78 2.81-2.81c.8-.78.8-2.07 0-2.86zM5.41 20L4 18.59l7.72-7.72 1.47 1.35L5.41 20z\"/>\n",
              "  </svg>\n",
              "      </button>\n",
              "      \n",
              "  <style>\n",
              "    .colab-df-container {\n",
              "      display:flex;\n",
              "      flex-wrap:wrap;\n",
              "      gap: 12px;\n",
              "    }\n",
              "\n",
              "    .colab-df-convert {\n",
              "      background-color: #E8F0FE;\n",
              "      border: none;\n",
              "      border-radius: 50%;\n",
              "      cursor: pointer;\n",
              "      display: none;\n",
              "      fill: #1967D2;\n",
              "      height: 32px;\n",
              "      padding: 0 0 0 0;\n",
              "      width: 32px;\n",
              "    }\n",
              "\n",
              "    .colab-df-convert:hover {\n",
              "      background-color: #E2EBFA;\n",
              "      box-shadow: 0px 1px 2px rgba(60, 64, 67, 0.3), 0px 1px 3px 1px rgba(60, 64, 67, 0.15);\n",
              "      fill: #174EA6;\n",
              "    }\n",
              "\n",
              "    [theme=dark] .colab-df-convert {\n",
              "      background-color: #3B4455;\n",
              "      fill: #D2E3FC;\n",
              "    }\n",
              "\n",
              "    [theme=dark] .colab-df-convert:hover {\n",
              "      background-color: #434B5C;\n",
              "      box-shadow: 0px 1px 3px 1px rgba(0, 0, 0, 0.15);\n",
              "      filter: drop-shadow(0px 1px 2px rgba(0, 0, 0, 0.3));\n",
              "      fill: #FFFFFF;\n",
              "    }\n",
              "  </style>\n",
              "\n",
              "      <script>\n",
              "        const buttonEl =\n",
              "          document.querySelector('#df-bec79f58-e473-4b98-a1f4-88fcbdf4ff63 button.colab-df-convert');\n",
              "        buttonEl.style.display =\n",
              "          google.colab.kernel.accessAllowed ? 'block' : 'none';\n",
              "\n",
              "        async function convertToInteractive(key) {\n",
              "          const element = document.querySelector('#df-bec79f58-e473-4b98-a1f4-88fcbdf4ff63');\n",
              "          const dataTable =\n",
              "            await google.colab.kernel.invokeFunction('convertToInteractive',\n",
              "                                                     [key], {});\n",
              "          if (!dataTable) return;\n",
              "\n",
              "          const docLinkHtml = 'Like what you see? Visit the ' +\n",
              "            '<a target=\"_blank\" href=https://colab.research.google.com/notebooks/data_table.ipynb>data table notebook</a>'\n",
              "            + ' to learn more about interactive tables.';\n",
              "          element.innerHTML = '';\n",
              "          dataTable['output_type'] = 'display_data';\n",
              "          await google.colab.output.renderOutput(dataTable, element);\n",
              "          const docLink = document.createElement('div');\n",
              "          docLink.innerHTML = docLinkHtml;\n",
              "          element.appendChild(docLink);\n",
              "        }\n",
              "      </script>\n",
              "    </div>\n",
              "  </div>\n",
              "  "
            ]
          },
          "metadata": {},
          "execution_count": 48
        }
      ]
    },
    {
      "cell_type": "markdown",
      "source": [
        "Finally, time for analysis! Pandas provides a handy “describe” method that computes a generous list of explanatory statistics for the dataframe."
      ],
      "metadata": {
        "id": "rIUmxKbJnDEM"
      }
    },
    {
      "cell_type": "code",
      "source": [
        "df7.describe(include=[np.number])"
      ],
      "metadata": {
        "colab": {
          "base_uri": "https://localhost:8080/",
          "height": 300
        },
        "id": "Yw13OYaAm-X9",
        "outputId": "5ce7edf4-17af-40a5-911e-cc76b35af212"
      },
      "execution_count": null,
      "outputs": [
        {
          "output_type": "execute_result",
          "data": {
            "text/plain": [
              "       Runner_mins\n",
              "count   577.000000\n",
              "mean     60.631340\n",
              "std      12.110846\n",
              "min      36.400000\n",
              "25%      51.450000\n",
              "50%      59.900000\n",
              "75%      68.000000\n",
              "max     102.166667"
            ],
            "text/html": [
              "\n",
              "  <div id=\"df-5da154dc-11a3-4eac-8467-4258bd49ece7\">\n",
              "    <div class=\"colab-df-container\">\n",
              "      <div>\n",
              "<style scoped>\n",
              "    .dataframe tbody tr th:only-of-type {\n",
              "        vertical-align: middle;\n",
              "    }\n",
              "\n",
              "    .dataframe tbody tr th {\n",
              "        vertical-align: top;\n",
              "    }\n",
              "\n",
              "    .dataframe thead th {\n",
              "        text-align: right;\n",
              "    }\n",
              "</style>\n",
              "<table border=\"1\" class=\"dataframe\">\n",
              "  <thead>\n",
              "    <tr style=\"text-align: right;\">\n",
              "      <th></th>\n",
              "      <th>Runner_mins</th>\n",
              "    </tr>\n",
              "  </thead>\n",
              "  <tbody>\n",
              "    <tr>\n",
              "      <th>count</th>\n",
              "      <td>577.000000</td>\n",
              "    </tr>\n",
              "    <tr>\n",
              "      <th>mean</th>\n",
              "      <td>60.631340</td>\n",
              "    </tr>\n",
              "    <tr>\n",
              "      <th>std</th>\n",
              "      <td>12.110846</td>\n",
              "    </tr>\n",
              "    <tr>\n",
              "      <th>min</th>\n",
              "      <td>36.400000</td>\n",
              "    </tr>\n",
              "    <tr>\n",
              "      <th>25%</th>\n",
              "      <td>51.450000</td>\n",
              "    </tr>\n",
              "    <tr>\n",
              "      <th>50%</th>\n",
              "      <td>59.900000</td>\n",
              "    </tr>\n",
              "    <tr>\n",
              "      <th>75%</th>\n",
              "      <td>68.000000</td>\n",
              "    </tr>\n",
              "    <tr>\n",
              "      <th>max</th>\n",
              "      <td>102.166667</td>\n",
              "    </tr>\n",
              "  </tbody>\n",
              "</table>\n",
              "</div>\n",
              "      <button class=\"colab-df-convert\" onclick=\"convertToInteractive('df-5da154dc-11a3-4eac-8467-4258bd49ece7')\"\n",
              "              title=\"Convert this dataframe to an interactive table.\"\n",
              "              style=\"display:none;\">\n",
              "        \n",
              "  <svg xmlns=\"http://www.w3.org/2000/svg\" height=\"24px\"viewBox=\"0 0 24 24\"\n",
              "       width=\"24px\">\n",
              "    <path d=\"M0 0h24v24H0V0z\" fill=\"none\"/>\n",
              "    <path d=\"M18.56 5.44l.94 2.06.94-2.06 2.06-.94-2.06-.94-.94-2.06-.94 2.06-2.06.94zm-11 1L8.5 8.5l.94-2.06 2.06-.94-2.06-.94L8.5 2.5l-.94 2.06-2.06.94zm10 10l.94 2.06.94-2.06 2.06-.94-2.06-.94-.94-2.06-.94 2.06-2.06.94z\"/><path d=\"M17.41 7.96l-1.37-1.37c-.4-.4-.92-.59-1.43-.59-.52 0-1.04.2-1.43.59L10.3 9.45l-7.72 7.72c-.78.78-.78 2.05 0 2.83L4 21.41c.39.39.9.59 1.41.59.51 0 1.02-.2 1.41-.59l7.78-7.78 2.81-2.81c.8-.78.8-2.07 0-2.86zM5.41 20L4 18.59l7.72-7.72 1.47 1.35L5.41 20z\"/>\n",
              "  </svg>\n",
              "      </button>\n",
              "      \n",
              "  <style>\n",
              "    .colab-df-container {\n",
              "      display:flex;\n",
              "      flex-wrap:wrap;\n",
              "      gap: 12px;\n",
              "    }\n",
              "\n",
              "    .colab-df-convert {\n",
              "      background-color: #E8F0FE;\n",
              "      border: none;\n",
              "      border-radius: 50%;\n",
              "      cursor: pointer;\n",
              "      display: none;\n",
              "      fill: #1967D2;\n",
              "      height: 32px;\n",
              "      padding: 0 0 0 0;\n",
              "      width: 32px;\n",
              "    }\n",
              "\n",
              "    .colab-df-convert:hover {\n",
              "      background-color: #E2EBFA;\n",
              "      box-shadow: 0px 1px 2px rgba(60, 64, 67, 0.3), 0px 1px 3px 1px rgba(60, 64, 67, 0.15);\n",
              "      fill: #174EA6;\n",
              "    }\n",
              "\n",
              "    [theme=dark] .colab-df-convert {\n",
              "      background-color: #3B4455;\n",
              "      fill: #D2E3FC;\n",
              "    }\n",
              "\n",
              "    [theme=dark] .colab-df-convert:hover {\n",
              "      background-color: #434B5C;\n",
              "      box-shadow: 0px 1px 3px 1px rgba(0, 0, 0, 0.15);\n",
              "      filter: drop-shadow(0px 1px 2px rgba(0, 0, 0, 0.3));\n",
              "      fill: #FFFFFF;\n",
              "    }\n",
              "  </style>\n",
              "\n",
              "      <script>\n",
              "        const buttonEl =\n",
              "          document.querySelector('#df-5da154dc-11a3-4eac-8467-4258bd49ece7 button.colab-df-convert');\n",
              "        buttonEl.style.display =\n",
              "          google.colab.kernel.accessAllowed ? 'block' : 'none';\n",
              "\n",
              "        async function convertToInteractive(key) {\n",
              "          const element = document.querySelector('#df-5da154dc-11a3-4eac-8467-4258bd49ece7');\n",
              "          const dataTable =\n",
              "            await google.colab.kernel.invokeFunction('convertToInteractive',\n",
              "                                                     [key], {});\n",
              "          if (!dataTable) return;\n",
              "\n",
              "          const docLinkHtml = 'Like what you see? Visit the ' +\n",
              "            '<a target=\"_blank\" href=https://colab.research.google.com/notebooks/data_table.ipynb>data table notebook</a>'\n",
              "            + ' to learn more about interactive tables.';\n",
              "          element.innerHTML = '';\n",
              "          dataTable['output_type'] = 'display_data';\n",
              "          await google.colab.output.renderOutput(dataTable, element);\n",
              "          const docLink = document.createElement('div');\n",
              "          docLink.innerHTML = docLinkHtml;\n",
              "          element.appendChild(docLink);\n",
              "        }\n",
              "      </script>\n",
              "    </div>\n",
              "  </div>\n",
              "  "
            ]
          },
          "metadata": {},
          "execution_count": 49
        }
      ]
    },
    {
      "cell_type": "markdown",
      "source": [
        "Interestingly, the average chip time for all runners was ~60 mins. The fastest 10K runner finished in 36.35 mins, and the slowest runner finished in 101.30 minutes.\n",
        "\n",
        "Boxplots can help to visualize summary statistics (maximum, minimum, medium, first quartile, third quartile, including outliers) for a given column. Below are data summary statistics for the runners shown in a boxplot. For data visualization, it is convenient to first import parameters from the pylab module that comes with matplotlib and set the same size for all figures to avoid doing it for each figure.\n"
      ],
      "metadata": {
        "id": "PqSXOdlTnHf_"
      }
    },
    {
      "cell_type": "code",
      "source": [
        "from pylab import rcParams\n",
        "rcParams['figure.figsize'] = 15, 5\n",
        "\n",
        "\n",
        "df7.boxplot(column='Runner_mins')\n",
        "plt.grid(True, axis='y')\n",
        "plt.ylabel('Gun Time')\n",
        "plt.xticks([1], ['Runners'])"
      ],
      "metadata": {
        "colab": {
          "base_uri": "https://localhost:8080/",
          "height": 386
        },
        "id": "o2Sr5riNnE-H",
        "outputId": "5a6787cf-98d1-4e7e-f722-e78fc7b28ea4"
      },
      "execution_count": null,
      "outputs": [
        {
          "output_type": "execute_result",
          "data": {
            "text/plain": [
              "([<matplotlib.axis.XTick at 0x7f4c142cb340>], [Text(1, 0, 'Runners')])"
            ]
          },
          "metadata": {},
          "execution_count": 50
        },
        {
          "output_type": "display_data",
          "data": {
            "text/plain": [
              "<Figure size 1500x500 with 1 Axes>"
            ],
            "image/png": "[encoded data removed]"
          },
          "metadata": {}
        }
      ]
    },
    {
      "cell_type": "markdown",
      "source": [
        "## Question 2"
      ],
      "metadata": {
        "id": "j2M0rwx9naTB"
      }
    },
    {
      "cell_type": "markdown",
      "source": [
        "The boxplot visualization clearly shows that most runners finished between low 50s and upper 60s (minutes) with a few outliers far up above 90 minutes.\n",
        "\n",
        "Our second question: Did the runners' finish times follow a normal distribution?\n",
        "To study the shape of the distribution, plot the runners’ chip times using the seaborn python plotting library. Seaborn provides a wealth of useful, compelling, visualization tools. The distribution looks almost normal. “Looks almost normal” of course is not sufficient, and at this point a good statistician would use various tests and methods to properly classify this distribution.\n",
        "\n",
        "One thing to note here is the large number of outliers on the high end of the race times. If we ignored those, then the normal distribution might be an even better model of the data. But if we include those outliers, then we might favor a more sophisticated distribution to model the data properly.\n"
      ],
      "metadata": {
        "id": "xlbbrGHlnN4k"
      }
    },
    {
      "cell_type": "code",
      "source": [
        "x = df7['Runner_mins']\n",
        "ax = sns.distplot(x, hist=True, kde=True, rug=False, color='m', bins=25, hist_kws={'edgecolor':'black'})\n",
        "plt.show()\n"
      ],
      "metadata": {
        "colab": {
          "base_uri": "https://localhost:8080/",
          "height": 578
        },
        "id": "MWnTtT_xnK0C",
        "outputId": "c2e6e095-993b-468f-b764-fca2728e4377"
      },
      "execution_count": null,
      "outputs": [
        {
          "output_type": "stream",
          "name": "stderr",
          "text": [
            "<ipython-input-51-69d9daa153b8>:2: UserWarning: \n",
            "\n",
            "`distplot` is a deprecated function and will be removed in seaborn v0.14.0.\n",
            "\n",
            "Please adapt your code to use either `displot` (a figure-level function with\n",
            "similar flexibility) or `histplot` (an axes-level function for histograms).\n",
            "\n",
            "For a guide to updating your code to use the new functions, please see\n",
            "https://gist.github.com/mwaskom/de44147ed2974457ad6372750bbe5751\n",
            "\n",
            "  ax = sns.distplot(x, hist=True, kde=True, rug=False, color='m', bins=25, hist_kws={'edgecolor':'black'})\n"
          ]
        },
        {
          "output_type": "display_data",
          "data": {
            "text/plain": [
              "<Figure size 1500x500 with 1 Axes>"
            ],
            "image/png": "[encoded data removed]"
          },
          "metadata": {}
        }
      ]
    },
    {
      "cell_type": "markdown",
      "source": [
        "## Question 3"
      ],
      "metadata": {
        "id": "p9yKhV9lnUED"
      }
    },
    {
      "cell_type": "markdown",
      "source": [
        "Question 3: Were there any performance differences between males and females of various age groups? To explore this question, plot separate distributions of chip times for males and females."
      ],
      "metadata": {
        "id": "EnRQbtg9nSMy"
      }
    },
    {
      "cell_type": "code",
      "source": [
        "import seaborn as sns\n",
        "import matplotlib.pyplot as plt\n",
        "\n",
        "f_fuko = df7.loc[df7[' Gender']=='F']['Runner_mins']\n",
        "m_fuko = df7.loc[df7[' Gender']=='M']['Runner_mins']\n",
        "\n",
        "sns.displot(data=df7, x='Runner_mins', hue=' Gender', kind='kde', fill=True)\n",
        "\n",
        "plt.show()"
      ],
      "metadata": {
        "colab": {
          "base_uri": "https://localhost:8080/",
          "height": 506
        },
        "id": "144zeryfnPiF",
        "outputId": "c9fb3696-b010-459b-d5be-340c3c76aca7"
      },
      "execution_count": null,
      "outputs": [
        {
          "output_type": "display_data",
          "data": {
            "text/plain": [
              "<Figure size 566.611x500 with 1 Axes>"
            ],
            "image/png": "[encoded data removed]"
          },
          "metadata": {}
        }
      ]
    },
    {
      "cell_type": "markdown",
      "source": [
        "The distribution indicates that females were slower than males on average. If you prefer summary, descriptive statistics to the visual plot, then use the pandas groupby() method to compute summary statistics for males and females separately."
      ],
      "metadata": {
        "id": "b_IWNp7Bp4x2"
      }
    },
    {
      "cell_type": "code",
      "source": [
        "g_stats = df7.groupby(\" Gender\", as_index=True).describe()\n",
        "print(g_stats)\n"
      ],
      "metadata": {
        "colab": {
          "base_uri": "https://localhost:8080/"
        },
        "id": "xohPJH5SpYU-",
        "outputId": "5ecb24f5-1b37-4418-88e7-03fa1a1783ca"
      },
      "execution_count": null,
      "outputs": [
        {
          "output_type": "stream",
          "name": "stdout",
          "text": [
            "        Runner_mins                                                      \\\n",
            "              count       mean        std        min        25%     50%   \n",
            " Gender                                                                   \n",
            "F             163.0  66.743252  12.287397  43.866667  59.283333  65.200   \n",
            "M             414.0  58.224960  11.170953  36.400000  49.787500  56.475   \n",
            "\n",
            "                                \n",
            "               75%         max  \n",
            " Gender                         \n",
            "F        72.358333  102.166667  \n",
            "M        65.429167  100.533333  \n"
          ]
        }
      ]
    },
    {
      "cell_type": "markdown",
      "source": [
        "The average chip time for all females and males was ~66 mins and ~58 mins, respectively. Next, display a side-by-side boxplot comparison of male and female finish times."
      ],
      "metadata": {
        "id": "f31ytBSKrcap"
      }
    },
    {
      "cell_type": "code",
      "source": [
        "df7.boxplot(column='Runner_mins', by=' Gender')\n",
        "plt.ylabel('Gun Time')\n",
        "plt.suptitle(\"\")"
      ],
      "metadata": {
        "colab": {
          "base_uri": "https://localhost:8080/",
          "height": 402
        },
        "id": "EvVYME_xraEq",
        "outputId": "be409ea4-acab-4b8b-dab3-ec05513e3d24"
      },
      "execution_count": null,
      "outputs": [
        {
          "output_type": "execute_result",
          "data": {
            "text/plain": [
              "Text(0.5, 0.98, '')"
            ]
          },
          "metadata": {},
          "execution_count": 67
        },
        {
          "output_type": "display_data",
          "data": {
            "text/plain": [
              "<Figure size 1500x500 with 1 Axes>"
            ],
            "image/png": "[encoded data removed]"
          },
          "metadata": {}
        }
      ]
    },
    {
      "cell_type": "markdown",
      "source": [
        "Looks like both males and females had significant numbers of outliers in the > 90m range. \n",
        "\n",
        "One question a Data Engineer should always ask is whether some of the data is somehow artificial, incorrect or invalid. For example, what happens if a runner drops out of the race? Would the race officials drop them from the data? Or would they give them some sort of artificial, long finish time? Or would they map that time to an agreed “maximum” time? Such decisions can greatly affect automated analysis of the data, and the Data Engineer needs to understand and account for such cases when providing high-quality data.\n"
      ],
      "metadata": {
        "id": "pBRIanrdrjMK"
      }
    },
    {
      "cell_type": "markdown",
      "source": [
        "# Is Your Code Robust?"
      ],
      "metadata": {
        "id": "5UQhKA7DrmAB"
      }
    },
    {
      "cell_type": "markdown",
      "source": [
        "A good Data Engineer should always develop robust code that works in multiple situations and does not need to be adjusted for each new set of input data. Of course, we generally achieve robustness through testing. So try your code with a new/different road race:\n",
        "\n",
        "https://www.hubertiming.com/results/2023WyEasterLong\n",
        "\n",
        "Does your code succeed with this data as well? How do the results compare with the older, 2017 race?\n"
      ],
      "metadata": {
        "id": "2D6zaVDCrpM1"
      }
    },
    {
      "cell_type": "markdown",
      "source": [
        "## Trying a New URL"
      ],
      "metadata": {
        "id": "zs_pZTcvsN9B"
      }
    },
    {
      "cell_type": "code",
      "source": [
        "url = \"https://www.hubertiming.com/results/2023WyEasterLong\"\n",
        "html = urlopen(url)\n",
        "soup = BeautifulSoup(html, 'lxml')\n",
        "\n",
        "rows = soup.find_all('tr')\n",
        "for row in rows:\n",
        "    row_td = row.find_all('td')\n",
        "str_cells = str(row_td)\n",
        "cleantext = BeautifulSoup(str_cells, \"lxml\").get_text()\n",
        "\n",
        "list_rows = []\n",
        "for row in rows:\n",
        "    cells = row.find_all('td')\n",
        "    str_cells = str(cells)\n",
        "    clean = re.compile('<.*?>')\n",
        "    clean2 = (re.sub(clean, '',str_cells))\n",
        "    list_rows.append(clean2)\n",
        "\n",
        "df = pd.DataFrame(list_rows)\n",
        "df1 = df[0].str.split(',', expand=True)\n",
        "df1[0] = df1[0].str.strip('[')\n",
        "\n",
        "col_labels = soup.find_all('th')\n",
        "\n",
        "all_header = []\n",
        "col_str = str(col_labels)\n",
        "cleantext2 = BeautifulSoup(col_str, \"lxml\").get_text()\n",
        "all_header.append(cleantext2)\n",
        "\n",
        "df2 = pd.DataFrame(all_header)\n",
        "\n",
        "df3 = df2[0].str.split(',', expand=True)\n",
        "\n",
        "frames = [df3, df1]\n",
        "\n",
        "df4 = pd.concat(frames)\n",
        "\n",
        "df5 = df4.rename(columns=df4.iloc[0])\n",
        "df6 = df5.dropna(axis=0, how='any')\n",
        "df7 = df6.drop(df6.index[0])\n",
        "df7 = df7.replace(to_replace=[r\"\\\\r\", r\"\\\\n\", \"\\s+\"], value=[\"\", \"\", \"\"], regex=True)\n",
        "df7.rename(columns={'[Place': 'Place'},inplace=True)\n",
        "df7 = df7.drop([' Gender Place', ' Age Group', ' Age Group Place]'], axis=1)\n",
        "df7.head()"
      ],
      "metadata": {
        "colab": {
          "base_uri": "https://localhost:8080/",
          "height": 206
        },
        "id": "vcRu8xqCsBz9",
        "outputId": "503bd55d-c8d7-46f8-c484-35163335787d"
      },
      "execution_count": null,
      "outputs": [
        {
          "output_type": "execute_result",
          "data": {
            "text/plain": [
              "   Place  Bib               Name  Gender  Age      City  State     Time\n",
              "6      1  345        ZACHVIOLETT       M   40      BEND     OR  1:33:19\n",
              "7      2  335          KYLEEROOD       O   34      BEND     OR  1:42:56\n",
              "8      3  323  ZEBEDIAHMILLSLAGL       M   25      BEND     OR  1:52:07\n",
              "9      4  308       DAVIDGRIFFIN       M   35   SEATTLE     WA  1:53:10\n",
              "10     5  326         ADAMNILSEN       M   30  PORTLAND     OR  1:54:57"
            ],
            "text/html": [
              "\n",
              "  <div id=\"df-5d4ddd2b-c127-4196-b157-a567ec88706b\">\n",
              "    <div class=\"colab-df-container\">\n",
              "      <div>\n",
              "<style scoped>\n",
              "    .dataframe tbody tr th:only-of-type {\n",
              "        vertical-align: middle;\n",
              "    }\n",
              "\n",
              "    .dataframe tbody tr th {\n",
              "        vertical-align: top;\n",
              "    }\n",
              "\n",
              "    .dataframe thead th {\n",
              "        text-align: right;\n",
              "    }\n",
              "</style>\n",
              "<table border=\"1\" class=\"dataframe\">\n",
              "  <thead>\n",
              "    <tr style=\"text-align: right;\">\n",
              "      <th></th>\n",
              "      <th>Place</th>\n",
              "      <th>Bib</th>\n",
              "      <th>Name</th>\n",
              "      <th>Gender</th>\n",
              "      <th>Age</th>\n",
              "      <th>City</th>\n",
              "      <th>State</th>\n",
              "      <th>Time</th>\n",
              "    </tr>\n",
              "  </thead>\n",
              "  <tbody>\n",
              "    <tr>\n",
              "      <th>6</th>\n",
              "      <td>1</td>\n",
              "      <td>345</td>\n",
              "      <td>ZACHVIOLETT</td>\n",
              "      <td>M</td>\n",
              "      <td>40</td>\n",
              "      <td>BEND</td>\n",
              "      <td>OR</td>\n",
              "      <td>1:33:19</td>\n",
              "    </tr>\n",
              "    <tr>\n",
              "      <th>7</th>\n",
              "      <td>2</td>\n",
              "      <td>335</td>\n",
              "      <td>KYLEEROOD</td>\n",
              "      <td>O</td>\n",
              "      <td>34</td>\n",
              "      <td>BEND</td>\n",
              "      <td>OR</td>\n",
              "      <td>1:42:56</td>\n",
              "    </tr>\n",
              "    <tr>\n",
              "      <th>8</th>\n",
              "      <td>3</td>\n",
              "      <td>323</td>\n",
              "      <td>ZEBEDIAHMILLSLAGL</td>\n",
              "      <td>M</td>\n",
              "      <td>25</td>\n",
              "      <td>BEND</td>\n",
              "      <td>OR</td>\n",
              "      <td>1:52:07</td>\n",
              "    </tr>\n",
              "    <tr>\n",
              "      <th>9</th>\n",
              "      <td>4</td>\n",
              "      <td>308</td>\n",
              "      <td>DAVIDGRIFFIN</td>\n",
              "      <td>M</td>\n",
              "      <td>35</td>\n",
              "      <td>SEATTLE</td>\n",
              "      <td>WA</td>\n",
              "      <td>1:53:10</td>\n",
              "    </tr>\n",
              "    <tr>\n",
              "      <th>10</th>\n",
              "      <td>5</td>\n",
              "      <td>326</td>\n",
              "      <td>ADAMNILSEN</td>\n",
              "      <td>M</td>\n",
              "      <td>30</td>\n",
              "      <td>PORTLAND</td>\n",
              "      <td>OR</td>\n",
              "      <td>1:54:57</td>\n",
              "    </tr>\n",
              "  </tbody>\n",
              "</table>\n",
              "</div>\n",
              "      <button class=\"colab-df-convert\" onclick=\"convertToInteractive('df-5d4ddd2b-c127-4196-b157-a567ec88706b')\"\n",
              "              title=\"Convert this dataframe to an interactive table.\"\n",
              "              style=\"display:none;\">\n",
              "        \n",
              "  <svg xmlns=\"http://www.w3.org/2000/svg\" height=\"24px\"viewBox=\"0 0 24 24\"\n",
              "       width=\"24px\">\n",
              "    <path d=\"M0 0h24v24H0V0z\" fill=\"none\"/>\n",
              "    <path d=\"M18.56 5.44l.94 2.06.94-2.06 2.06-.94-2.06-.94-.94-2.06-.94 2.06-2.06.94zm-11 1L8.5 8.5l.94-2.06 2.06-.94-2.06-.94L8.5 2.5l-.94 2.06-2.06.94zm10 10l.94 2.06.94-2.06 2.06-.94-2.06-.94-.94-2.06-.94 2.06-2.06.94z\"/><path d=\"M17.41 7.96l-1.37-1.37c-.4-.4-.92-.59-1.43-.59-.52 0-1.04.2-1.43.59L10.3 9.45l-7.72 7.72c-.78.78-.78 2.05 0 2.83L4 21.41c.39.39.9.59 1.41.59.51 0 1.02-.2 1.41-.59l7.78-7.78 2.81-2.81c.8-.78.8-2.07 0-2.86zM5.41 20L4 18.59l7.72-7.72 1.47 1.35L5.41 20z\"/>\n",
              "  </svg>\n",
              "      </button>\n",
              "      \n",
              "  <style>\n",
              "    .colab-df-container {\n",
              "      display:flex;\n",
              "      flex-wrap:wrap;\n",
              "      gap: 12px;\n",
              "    }\n",
              "\n",
              "    .colab-df-convert {\n",
              "      background-color: #E8F0FE;\n",
              "      border: none;\n",
              "      border-radius: 50%;\n",
              "      cursor: pointer;\n",
              "      display: none;\n",
              "      fill: #1967D2;\n",
              "      height: 32px;\n",
              "      padding: 0 0 0 0;\n",
              "      width: 32px;\n",
              "    }\n",
              "\n",
              "    .colab-df-convert:hover {\n",
              "      background-color: #E2EBFA;\n",
              "      box-shadow: 0px 1px 2px rgba(60, 64, 67, 0.3), 0px 1px 3px 1px rgba(60, 64, 67, 0.15);\n",
              "      fill: #174EA6;\n",
              "    }\n",
              "\n",
              "    [theme=dark] .colab-df-convert {\n",
              "      background-color: #3B4455;\n",
              "      fill: #D2E3FC;\n",
              "    }\n",
              "\n",
              "    [theme=dark] .colab-df-convert:hover {\n",
              "      background-color: #434B5C;\n",
              "      box-shadow: 0px 1px 3px 1px rgba(0, 0, 0, 0.15);\n",
              "      filter: drop-shadow(0px 1px 2px rgba(0, 0, 0, 0.3));\n",
              "      fill: #FFFFFF;\n",
              "    }\n",
              "  </style>\n",
              "\n",
              "      <script>\n",
              "        const buttonEl =\n",
              "          document.querySelector('#df-5d4ddd2b-c127-4196-b157-a567ec88706b button.colab-df-convert');\n",
              "        buttonEl.style.display =\n",
              "          google.colab.kernel.accessAllowed ? 'block' : 'none';\n",
              "\n",
              "        async function convertToInteractive(key) {\n",
              "          const element = document.querySelector('#df-5d4ddd2b-c127-4196-b157-a567ec88706b');\n",
              "          const dataTable =\n",
              "            await google.colab.kernel.invokeFunction('convertToInteractive',\n",
              "                                                     [key], {});\n",
              "          if (!dataTable) return;\n",
              "\n",
              "          const docLinkHtml = 'Like what you see? Visit the ' +\n",
              "            '<a target=\"_blank\" href=https://colab.research.google.com/notebooks/data_table.ipynb>data table notebook</a>'\n",
              "            + ' to learn more about interactive tables.';\n",
              "          element.innerHTML = '';\n",
              "          dataTable['output_type'] = 'display_data';\n",
              "          await google.colab.output.renderOutput(dataTable, element);\n",
              "          const docLink = document.createElement('div');\n",
              "          docLink.innerHTML = docLinkHtml;\n",
              "          element.appendChild(docLink);\n",
              "        }\n",
              "      </script>\n",
              "    </div>\n",
              "  </div>\n",
              "  "
            ]
          },
          "metadata": {},
          "execution_count": 84
        }
      ]
    },
    {
      "cell_type": "markdown",
      "source": [
        "As you can see, the new link didn't quite work. Some of the columns had to be manually dropped through the line\n",
        "\n",
        "```\n",
        "df7 = df7.drop([' Gender Place', ' Age Group', ' Age Group Place]'], axis=1)\n",
        "```"
      ],
      "metadata": {
        "id": "eKWCoHjIwpVb"
      }
    },
    {
      "cell_type": "markdown",
      "source": [
        "# Conclusion"
      ],
      "metadata": {
        "id": "AcyDCq4RrtuW"
      }
    },
    {
      "cell_type": "markdown",
      "source": [
        "In this lab activity, you explored data gathering, transformation, validation and analysis  using Python, BeautifulSoup, pandas, matplotlib, Seaborn, etc. You should now have a bit more understanding and appreciation of the various types of operations common to data engineering. Plus a little bit of Data Science at the end to show the value of all of your DataEng efforts. Well done!\n",
        "\n",
        "BeautifulSoup and Pandas are two examples of software libraries that enable clean, efficient, understandable code that saves time and effort when solving real world data engineering problems.\n"
      ],
      "metadata": {
        "id": "QjT9PRQFrsHE"
      }
    },
    {
      "cell_type": "code",
      "source": [],
      "metadata": {
        "id": "FZjk_d1NrgOb"
      },
      "execution_count": null,
      "outputs": []
    }
  ]
}