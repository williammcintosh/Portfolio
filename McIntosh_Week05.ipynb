{
  "nbformat": 4,
  "nbformat_minor": 0,
  "metadata": {
    "colab": {
      "provenance": [],
      "toc_visible": true,
      "include_colab_link": true
    },
    "kernelspec": {
      "name": "python3",
      "display_name": "Python 3"
    },
    "language_info": {
      "name": "python"
    }
  },
  "cells": [
    {
      "cell_type": "markdown",
      "metadata": {
        "id": "view-in-github",
        "colab_type": "text"
      },
      "source": [
        "<a href=\"https://colab.research.google.com/github/williammcintosh/Portfolio/blob/master/McIntosh_Week05.ipynb\" target=\"_parent\"><img src=\"https://colab.research.google.com/assets/colab-badge.svg\" alt=\"Open In Colab\"/></a>"
      ]
    },
    {
      "cell_type": "markdown",
      "source": [
        "# Data Exploration \n",
        "\n",
        "## Will McIntosh\n",
        "\n",
        "[Data Dictionary Link](https://www.oregon.gov/ODOT/Data/documents/CDS_Code_Manual.pdf)"
      ],
      "metadata": {
        "id": "izxMay9sQNyv"
      }
    },
    {
      "cell_type": "code",
      "execution_count": 1,
      "metadata": {
        "colab": {
          "base_uri": "https://localhost:8080/",
          "height": 427
        },
        "id": "vYKdWNEorF-l",
        "outputId": "218e7bff-9b1a-4af0-e528-3d33ec35d5f6"
      },
      "outputs": [
        {
          "output_type": "execute_result",
          "data": {
            "text/plain": [
              "   EVENT_NO_TRIP  EVENT_NO_STOP            OPD_DATE  VEHICLE_ID  METERS  \\\n",
              "0      259172515      259172517  15FEB2023:00:00:00        4223      40   \n",
              "1      259172515      259172517  15FEB2023:00:00:00        4223      48   \n",
              "2      259172515      259172517  15FEB2023:00:00:00        4223      57   \n",
              "3      259172515      259172517  15FEB2023:00:00:00        4223      73   \n",
              "4      259172515      259172517  15FEB2023:00:00:00        4223     112   \n",
              "5      259172515      259172517  15FEB2023:00:00:00        4223     159   \n",
              "6      259172515      259172517  15FEB2023:00:00:00        4223     215   \n",
              "7      259172515      259172517  15FEB2023:00:00:00        4223     272   \n",
              "8      259172515      259172517  15FEB2023:00:00:00        4223     330   \n",
              "9      259172515      259172517  15FEB2023:00:00:00        4223     391   \n",
              "\n",
              "   ACT_TIME  GPS_LONGITUDE  GPS_LATITUDE  GPS_SATELLITES  GPS_HDOP  \n",
              "0     20469    -122.648137     45.493082              12       0.7  \n",
              "1     20474    -122.648240     45.493070              12       0.8  \n",
              "2     20479    -122.648352     45.493123              12       0.8  \n",
              "3     20484    -122.648385     45.493262              12       0.7  \n",
              "4     20489    -122.648347     45.493582              12       0.8  \n",
              "5     20494    -122.648357     45.494003              11       0.8  \n",
              "6     20499    -122.648383     45.494510              12       0.7  \n",
              "7     20504    -122.648375     45.495023              12       0.7  \n",
              "8     20509    -122.648330     45.495555              12       0.7  \n",
              "9     20514    -122.648213     45.496103              12       0.7  "
            ],
            "text/html": [
              "\n",
              "  <div id=\"df-a7986699-e670-4240-b92e-558385042e50\">\n",
              "    <div class=\"colab-df-container\">\n",
              "      <div>\n",
              "<style scoped>\n",
              "    .dataframe tbody tr th:only-of-type {\n",
              "        vertical-align: middle;\n",
              "    }\n",
              "\n",
              "    .dataframe tbody tr th {\n",
              "        vertical-align: top;\n",
              "    }\n",
              "\n",
              "    .dataframe thead th {\n",
              "        text-align: right;\n",
              "    }\n",
              "</style>\n",
              "<table border=\"1\" class=\"dataframe\">\n",
              "  <thead>\n",
              "    <tr style=\"text-align: right;\">\n",
              "      <th></th>\n",
              "      <th>EVENT_NO_TRIP</th>\n",
              "      <th>EVENT_NO_STOP</th>\n",
              "      <th>OPD_DATE</th>\n",
              "      <th>VEHICLE_ID</th>\n",
              "      <th>METERS</th>\n",
              "      <th>ACT_TIME</th>\n",
              "      <th>GPS_LONGITUDE</th>\n",
              "      <th>GPS_LATITUDE</th>\n",
              "      <th>GPS_SATELLITES</th>\n",
              "      <th>GPS_HDOP</th>\n",
              "    </tr>\n",
              "  </thead>\n",
              "  <tbody>\n",
              "    <tr>\n",
              "      <th>0</th>\n",
              "      <td>259172515</td>\n",
              "      <td>259172517</td>\n",
              "      <td>15FEB2023:00:00:00</td>\n",
              "      <td>4223</td>\n",
              "      <td>40</td>\n",
              "      <td>20469</td>\n",
              "      <td>-122.648137</td>\n",
              "      <td>45.493082</td>\n",
              "      <td>12</td>\n",
              "      <td>0.7</td>\n",
              "    </tr>\n",
              "    <tr>\n",
              "      <th>1</th>\n",
              "      <td>259172515</td>\n",
              "      <td>259172517</td>\n",
              "      <td>15FEB2023:00:00:00</td>\n",
              "      <td>4223</td>\n",
              "      <td>48</td>\n",
              "      <td>20474</td>\n",
              "      <td>-122.648240</td>\n",
              "      <td>45.493070</td>\n",
              "      <td>12</td>\n",
              "      <td>0.8</td>\n",
              "    </tr>\n",
              "    <tr>\n",
              "      <th>2</th>\n",
              "      <td>259172515</td>\n",
              "      <td>259172517</td>\n",
              "      <td>15FEB2023:00:00:00</td>\n",
              "      <td>4223</td>\n",
              "      <td>57</td>\n",
              "      <td>20479</td>\n",
              "      <td>-122.648352</td>\n",
              "      <td>45.493123</td>\n",
              "      <td>12</td>\n",
              "      <td>0.8</td>\n",
              "    </tr>\n",
              "    <tr>\n",
              "      <th>3</th>\n",
              "      <td>259172515</td>\n",
              "      <td>259172517</td>\n",
              "      <td>15FEB2023:00:00:00</td>\n",
              "      <td>4223</td>\n",
              "      <td>73</td>\n",
              "      <td>20484</td>\n",
              "      <td>-122.648385</td>\n",
              "      <td>45.493262</td>\n",
              "      <td>12</td>\n",
              "      <td>0.7</td>\n",
              "    </tr>\n",
              "    <tr>\n",
              "      <th>4</th>\n",
              "      <td>259172515</td>\n",
              "      <td>259172517</td>\n",
              "      <td>15FEB2023:00:00:00</td>\n",
              "      <td>4223</td>\n",
              "      <td>112</td>\n",
              "      <td>20489</td>\n",
              "      <td>-122.648347</td>\n",
              "      <td>45.493582</td>\n",
              "      <td>12</td>\n",
              "      <td>0.8</td>\n",
              "    </tr>\n",
              "    <tr>\n",
              "      <th>5</th>\n",
              "      <td>259172515</td>\n",
              "      <td>259172517</td>\n",
              "      <td>15FEB2023:00:00:00</td>\n",
              "      <td>4223</td>\n",
              "      <td>159</td>\n",
              "      <td>20494</td>\n",
              "      <td>-122.648357</td>\n",
              "      <td>45.494003</td>\n",
              "      <td>11</td>\n",
              "      <td>0.8</td>\n",
              "    </tr>\n",
              "    <tr>\n",
              "      <th>6</th>\n",
              "      <td>259172515</td>\n",
              "      <td>259172517</td>\n",
              "      <td>15FEB2023:00:00:00</td>\n",
              "      <td>4223</td>\n",
              "      <td>215</td>\n",
              "      <td>20499</td>\n",
              "      <td>-122.648383</td>\n",
              "      <td>45.494510</td>\n",
              "      <td>12</td>\n",
              "      <td>0.7</td>\n",
              "    </tr>\n",
              "    <tr>\n",
              "      <th>7</th>\n",
              "      <td>259172515</td>\n",
              "      <td>259172517</td>\n",
              "      <td>15FEB2023:00:00:00</td>\n",
              "      <td>4223</td>\n",
              "      <td>272</td>\n",
              "      <td>20504</td>\n",
              "      <td>-122.648375</td>\n",
              "      <td>45.495023</td>\n",
              "      <td>12</td>\n",
              "      <td>0.7</td>\n",
              "    </tr>\n",
              "    <tr>\n",
              "      <th>8</th>\n",
              "      <td>259172515</td>\n",
              "      <td>259172517</td>\n",
              "      <td>15FEB2023:00:00:00</td>\n",
              "      <td>4223</td>\n",
              "      <td>330</td>\n",
              "      <td>20509</td>\n",
              "      <td>-122.648330</td>\n",
              "      <td>45.495555</td>\n",
              "      <td>12</td>\n",
              "      <td>0.7</td>\n",
              "    </tr>\n",
              "    <tr>\n",
              "      <th>9</th>\n",
              "      <td>259172515</td>\n",
              "      <td>259172517</td>\n",
              "      <td>15FEB2023:00:00:00</td>\n",
              "      <td>4223</td>\n",
              "      <td>391</td>\n",
              "      <td>20514</td>\n",
              "      <td>-122.648213</td>\n",
              "      <td>45.496103</td>\n",
              "      <td>12</td>\n",
              "      <td>0.7</td>\n",
              "    </tr>\n",
              "  </tbody>\n",
              "</table>\n",
              "</div>\n",
              "      <button class=\"colab-df-convert\" onclick=\"convertToInteractive('df-a7986699-e670-4240-b92e-558385042e50')\"\n",
              "              title=\"Convert this dataframe to an interactive table.\"\n",
              "              style=\"display:none;\">\n",
              "        \n",
              "  <svg xmlns=\"http://www.w3.org/2000/svg\" height=\"24px\"viewBox=\"0 0 24 24\"\n",
              "       width=\"24px\">\n",
              "    <path d=\"M0 0h24v24H0V0z\" fill=\"none\"/>\n",
              "    <path d=\"M18.56 5.44l.94 2.06.94-2.06 2.06-.94-2.06-.94-.94-2.06-.94 2.06-2.06.94zm-11 1L8.5 8.5l.94-2.06 2.06-.94-2.06-.94L8.5 2.5l-.94 2.06-2.06.94zm10 10l.94 2.06.94-2.06 2.06-.94-2.06-.94-.94-2.06-.94 2.06-2.06.94z\"/><path d=\"M17.41 7.96l-1.37-1.37c-.4-.4-.92-.59-1.43-.59-.52 0-1.04.2-1.43.59L10.3 9.45l-7.72 7.72c-.78.78-.78 2.05 0 2.83L4 21.41c.39.39.9.59 1.41.59.51 0 1.02-.2 1.41-.59l7.78-7.78 2.81-2.81c.8-.78.8-2.07 0-2.86zM5.41 20L4 18.59l7.72-7.72 1.47 1.35L5.41 20z\"/>\n",
              "  </svg>\n",
              "      </button>\n",
              "      \n",
              "  <style>\n",
              "    .colab-df-container {\n",
              "      display:flex;\n",
              "      flex-wrap:wrap;\n",
              "      gap: 12px;\n",
              "    }\n",
              "\n",
              "    .colab-df-convert {\n",
              "      background-color: #E8F0FE;\n",
              "      border: none;\n",
              "      border-radius: 50%;\n",
              "      cursor: pointer;\n",
              "      display: none;\n",
              "      fill: #1967D2;\n",
              "      height: 32px;\n",
              "      padding: 0 0 0 0;\n",
              "      width: 32px;\n",
              "    }\n",
              "\n",
              "    .colab-df-convert:hover {\n",
              "      background-color: #E2EBFA;\n",
              "      box-shadow: 0px 1px 2px rgba(60, 64, 67, 0.3), 0px 1px 3px 1px rgba(60, 64, 67, 0.15);\n",
              "      fill: #174EA6;\n",
              "    }\n",
              "\n",
              "    [theme=dark] .colab-df-convert {\n",
              "      background-color: #3B4455;\n",
              "      fill: #D2E3FC;\n",
              "    }\n",
              "\n",
              "    [theme=dark] .colab-df-convert:hover {\n",
              "      background-color: #434B5C;\n",
              "      box-shadow: 0px 1px 3px 1px rgba(0, 0, 0, 0.15);\n",
              "      filter: drop-shadow(0px 1px 2px rgba(0, 0, 0, 0.3));\n",
              "      fill: #FFFFFF;\n",
              "    }\n",
              "  </style>\n",
              "\n",
              "      <script>\n",
              "        const buttonEl =\n",
              "          document.querySelector('#df-a7986699-e670-4240-b92e-558385042e50 button.colab-df-convert');\n",
              "        buttonEl.style.display =\n",
              "          google.colab.kernel.accessAllowed ? 'block' : 'none';\n",
              "\n",
              "        async function convertToInteractive(key) {\n",
              "          const element = document.querySelector('#df-a7986699-e670-4240-b92e-558385042e50');\n",
              "          const dataTable =\n",
              "            await google.colab.kernel.invokeFunction('convertToInteractive',\n",
              "                                                     [key], {});\n",
              "          if (!dataTable) return;\n",
              "\n",
              "          const docLinkHtml = 'Like what you see? Visit the ' +\n",
              "            '<a target=\"_blank\" href=https://colab.research.google.com/notebooks/data_table.ipynb>data table notebook</a>'\n",
              "            + ' to learn more about interactive tables.';\n",
              "          element.innerHTML = '';\n",
              "          dataTable['output_type'] = 'display_data';\n",
              "          await google.colab.output.renderOutput(dataTable, element);\n",
              "          const docLink = document.createElement('div');\n",
              "          docLink.innerHTML = docLinkHtml;\n",
              "          element.appendChild(docLink);\n",
              "        }\n",
              "      </script>\n",
              "    </div>\n",
              "  </div>\n",
              "  "
            ]
          },
          "metadata": {},
          "execution_count": 1
        }
      ],
      "source": [
        "import pandas as pd\n",
        "import sys, os\n",
        "import matplotlib.pyplot as plt\n",
        "from tqdm.auto import tqdm # For progress bar\n",
        "\n",
        "pd.set_option('display.max_columns', None)\n",
        "pd.set_option('display.max_rows', None)\n",
        "\n",
        "# downloads the .csv file from google drive only if it's not already in directory\n",
        "file_path = \"/content/bc_trip259172515_230215.csv\"\n",
        "if os.path.isfile(file_path) == False:\n",
        "  !gdown 1G4MUbdUFeACgjGcg6dcwykBZn21zg1jO\n",
        "\n",
        "df = pd.read_csv(file_path, low_memory=False)\n",
        "df.head(10)"
      ]
    },
    {
      "cell_type": "markdown",
      "source": [
        "## Helper Functions"
      ],
      "metadata": {
        "id": "XJibQzxtAfuV"
      }
    },
    {
      "cell_type": "code",
      "source": [
        "def missing_data(df):\n",
        "    \"\"\"\n",
        "    Takes an existing dataframe as input and returns a new dataframe with the percentage and count of missing values for each column.\n",
        "    \"\"\"\n",
        "    missing_count = df.isna().sum()  # Get the count of missing values for each column\n",
        "    missing_pct = missing_count / len(df) * 100  # Calculate the percentage of missing values for each column\n",
        "    missing_df = pd.concat([missing_count, missing_pct], axis=1, keys=['missing_count', 'missing_pct'])  # Combine the count and percentage into a new dataframe\n",
        "    missing_df = missing_df[missing_df['missing_count'] > 0]  # Only include columns with missing values\n",
        "    missing_df.index.name = 'column'  # Set the index name to 'column'\n",
        "    missing_df = missing_df.sort_values(by='missing_pct', ascending=True)  # Sort by the percentage of missing values in descending order\n",
        "    return missing_df"
      ],
      "metadata": {
        "id": "iA87QVAdrSLV"
      },
      "execution_count": 2,
      "outputs": []
    },
    {
      "cell_type": "code",
      "source": [
        "def Get_Timestamp(tdf):\n",
        "  df = tdf.copy(deep=True)\n",
        "\n",
        "  # convert 'OPD_DATE' column to pandas datetime object\n",
        "  df['OPD_DATE'] = pd.to_datetime(df['OPD_DATE'], format='%d%b%Y:%H:%M:%S')\n",
        "\n",
        "  # create a new 'TIMESTAMP' column by adding 'ACT_TIME' as a timedelta object\n",
        "  df['TIMESTAMP'] = df['OPD_DATE'] + pd.to_timedelta(df['ACT_TIME'], unit='s')\n",
        "\n",
        "  return df"
      ],
      "metadata": {
        "id": "wmhJDzqZ1AAn"
      },
      "execution_count": 3,
      "outputs": []
    },
    {
      "cell_type": "code",
      "source": [
        "def Get_Speed(tdf):\n",
        "  df = tdf.copy(deep=True)\n",
        "  \n",
        "  # calculate the SPEED column\n",
        "  df['SPEED'] = 0  # set the first SPEED value to zero\n",
        "  for i in range(1, len(df)):\n",
        "      current_meters = df.at[i, 'METERS']\n",
        "      previous_meters = df.at[i-1, 'METERS']\n",
        "      current_timestamp = df.at[i, 'ACT_TIME']\n",
        "      previous_timestamp = df.at[i-1, 'ACT_TIME']\n",
        "      speed = (current_meters - previous_meters) / (current_timestamp - previous_timestamp)\n",
        "      df.at[i, 'SPEED'] = speed\n",
        "\n",
        "  return df"
      ],
      "metadata": {
        "id": "btjkWoTn1Ngi"
      },
      "execution_count": 4,
      "outputs": []
    },
    {
      "cell_type": "code",
      "source": [
        "def Get_Max_Speed_For_ID(tdf, ID):\n",
        "  return tdf[tdf['VEHICLE_ID']==ID]['SPEED'].max()"
      ],
      "metadata": {
        "id": "eAXEhjeB8VtQ"
      },
      "execution_count": 44,
      "outputs": []
    },
    {
      "cell_type": "code",
      "source": [
        "def Get_Speed_Date(tdf, ID, max_speed):\n",
        "  return tdf[(tdf['VEHICLE_ID']==ID) & (tdf['SPEED']==max_speed)]['OPD_DATE']"
      ],
      "metadata": {
        "id": "zZ45dW2b8hSk"
      },
      "execution_count": 45,
      "outputs": []
    },
    {
      "cell_type": "code",
      "source": [
        "def Get_Speed_Loc(tdf, ID, max_speed):\n",
        "  longi = tdf[(tdf['VEHICLE_ID']==ID) & (tdf['SPEED']==max_speed)]['GPS_LONGITUDE'].iloc[0]\n",
        "  lati = tdf[(tdf['VEHICLE_ID']==ID) & (tdf['SPEED']==max_speed)]['GPS_LATITUDE'].iloc[0]\n",
        "  return (longi, lati)"
      ],
      "metadata": {
        "id": "YVVJt1e8Ayxd"
      },
      "execution_count": 55,
      "outputs": []
    },
    {
      "cell_type": "code",
      "source": [
        "def Get_Mean_Speed_For_Date(tdf, date):\n",
        "  return tdf[tdf['OPD_DATE']==date]['SPEED'].mean()"
      ],
      "metadata": {
        "id": "NGlMnI_Z8w9a"
      },
      "execution_count": 47,
      "outputs": []
    },
    {
      "cell_type": "code",
      "source": [
        "missing_data(df)"
      ],
      "metadata": {
        "colab": {
          "base_uri": "https://localhost:8080/",
          "height": 81
        },
        "id": "nAjFEAeauXiQ",
        "outputId": "145c764d-16cb-40eb-f89f-8cb175069968"
      },
      "execution_count": 8,
      "outputs": [
        {
          "output_type": "execute_result",
          "data": {
            "text/plain": [
              "Empty DataFrame\n",
              "Columns: [missing_count, missing_pct]\n",
              "Index: []"
            ],
            "text/html": [
              "\n",
              "  <div id=\"df-a37d4b1a-6d04-44f0-b2b5-eea72cffe678\">\n",
              "    <div class=\"colab-df-container\">\n",
              "      <div>\n",
              "<style scoped>\n",
              "    .dataframe tbody tr th:only-of-type {\n",
              "        vertical-align: middle;\n",
              "    }\n",
              "\n",
              "    .dataframe tbody tr th {\n",
              "        vertical-align: top;\n",
              "    }\n",
              "\n",
              "    .dataframe thead th {\n",
              "        text-align: right;\n",
              "    }\n",
              "</style>\n",
              "<table border=\"1\" class=\"dataframe\">\n",
              "  <thead>\n",
              "    <tr style=\"text-align: right;\">\n",
              "      <th></th>\n",
              "      <th>missing_count</th>\n",
              "      <th>missing_pct</th>\n",
              "    </tr>\n",
              "    <tr>\n",
              "      <th>column</th>\n",
              "      <th></th>\n",
              "      <th></th>\n",
              "    </tr>\n",
              "  </thead>\n",
              "  <tbody>\n",
              "  </tbody>\n",
              "</table>\n",
              "</div>\n",
              "      <button class=\"colab-df-convert\" onclick=\"convertToInteractive('df-a37d4b1a-6d04-44f0-b2b5-eea72cffe678')\"\n",
              "              title=\"Convert this dataframe to an interactive table.\"\n",
              "              style=\"display:none;\">\n",
              "        \n",
              "  <svg xmlns=\"http://www.w3.org/2000/svg\" height=\"24px\"viewBox=\"0 0 24 24\"\n",
              "       width=\"24px\">\n",
              "    <path d=\"M0 0h24v24H0V0z\" fill=\"none\"/>\n",
              "    <path d=\"M18.56 5.44l.94 2.06.94-2.06 2.06-.94-2.06-.94-.94-2.06-.94 2.06-2.06.94zm-11 1L8.5 8.5l.94-2.06 2.06-.94-2.06-.94L8.5 2.5l-.94 2.06-2.06.94zm10 10l.94 2.06.94-2.06 2.06-.94-2.06-.94-.94-2.06-.94 2.06-2.06.94z\"/><path d=\"M17.41 7.96l-1.37-1.37c-.4-.4-.92-.59-1.43-.59-.52 0-1.04.2-1.43.59L10.3 9.45l-7.72 7.72c-.78.78-.78 2.05 0 2.83L4 21.41c.39.39.9.59 1.41.59.51 0 1.02-.2 1.41-.59l7.78-7.78 2.81-2.81c.8-.78.8-2.07 0-2.86zM5.41 20L4 18.59l7.72-7.72 1.47 1.35L5.41 20z\"/>\n",
              "  </svg>\n",
              "      </button>\n",
              "      \n",
              "  <style>\n",
              "    .colab-df-container {\n",
              "      display:flex;\n",
              "      flex-wrap:wrap;\n",
              "      gap: 12px;\n",
              "    }\n",
              "\n",
              "    .colab-df-convert {\n",
              "      background-color: #E8F0FE;\n",
              "      border: none;\n",
              "      border-radius: 50%;\n",
              "      cursor: pointer;\n",
              "      display: none;\n",
              "      fill: #1967D2;\n",
              "      height: 32px;\n",
              "      padding: 0 0 0 0;\n",
              "      width: 32px;\n",
              "    }\n",
              "\n",
              "    .colab-df-convert:hover {\n",
              "      background-color: #E2EBFA;\n",
              "      box-shadow: 0px 1px 2px rgba(60, 64, 67, 0.3), 0px 1px 3px 1px rgba(60, 64, 67, 0.15);\n",
              "      fill: #174EA6;\n",
              "    }\n",
              "\n",
              "    [theme=dark] .colab-df-convert {\n",
              "      background-color: #3B4455;\n",
              "      fill: #D2E3FC;\n",
              "    }\n",
              "\n",
              "    [theme=dark] .colab-df-convert:hover {\n",
              "      background-color: #434B5C;\n",
              "      box-shadow: 0px 1px 3px 1px rgba(0, 0, 0, 0.15);\n",
              "      filter: drop-shadow(0px 1px 2px rgba(0, 0, 0, 0.3));\n",
              "      fill: #FFFFFF;\n",
              "    }\n",
              "  </style>\n",
              "\n",
              "      <script>\n",
              "        const buttonEl =\n",
              "          document.querySelector('#df-a37d4b1a-6d04-44f0-b2b5-eea72cffe678 button.colab-df-convert');\n",
              "        buttonEl.style.display =\n",
              "          google.colab.kernel.accessAllowed ? 'block' : 'none';\n",
              "\n",
              "        async function convertToInteractive(key) {\n",
              "          const element = document.querySelector('#df-a37d4b1a-6d04-44f0-b2b5-eea72cffe678');\n",
              "          const dataTable =\n",
              "            await google.colab.kernel.invokeFunction('convertToInteractive',\n",
              "                                                     [key], {});\n",
              "          if (!dataTable) return;\n",
              "\n",
              "          const docLinkHtml = 'Like what you see? Visit the ' +\n",
              "            '<a target=\"_blank\" href=https://colab.research.google.com/notebooks/data_table.ipynb>data table notebook</a>'\n",
              "            + ' to learn more about interactive tables.';\n",
              "          element.innerHTML = '';\n",
              "          dataTable['output_type'] = 'display_data';\n",
              "          await google.colab.output.renderOutput(dataTable, element);\n",
              "          const docLink = document.createElement('div');\n",
              "          docLink.innerHTML = docLinkHtml;\n",
              "          element.appendChild(docLink);\n",
              "        }\n",
              "      </script>\n",
              "    </div>\n",
              "  </div>\n",
              "  "
            ]
          },
          "metadata": {},
          "execution_count": 8
        }
      ]
    },
    {
      "cell_type": "markdown",
      "source": [
        "# Cleanup"
      ],
      "metadata": {
        "id": "MHNbLmyGCs41"
      }
    },
    {
      "cell_type": "markdown",
      "source": [
        "## Dropping Unneeded Columns"
      ],
      "metadata": {
        "id": "XIc8uGyYnqPA"
      }
    },
    {
      "cell_type": "code",
      "source": [
        "unneeded_cols = ['EVENT_NO_STOP', 'GPS_SATELLITES', 'GPS_HDOP']\n",
        "needed_cols = list(set(df.columns) - set(unneeded_cols))"
      ],
      "metadata": {
        "id": "cNF9G3pvn8dp"
      },
      "execution_count": 9,
      "outputs": []
    },
    {
      "cell_type": "code",
      "source": [
        "needed_cols"
      ],
      "metadata": {
        "colab": {
          "base_uri": "https://localhost:8080/"
        },
        "id": "9dTmt-k7pfYL",
        "outputId": "559bb024-a1ce-430a-a225-77448773d49e"
      },
      "execution_count": 10,
      "outputs": [
        {
          "output_type": "execute_result",
          "data": {
            "text/plain": [
              "['EVENT_NO_TRIP',\n",
              " 'METERS',\n",
              " 'ACT_TIME',\n",
              " 'GPS_LONGITUDE',\n",
              " 'VEHICLE_ID',\n",
              " 'GPS_LATITUDE',\n",
              " 'OPD_DATE']"
            ]
          },
          "metadata": {},
          "execution_count": 10
        }
      ]
    },
    {
      "cell_type": "code",
      "source": [
        "df = df.drop(unneeded_cols, axis=1)"
      ],
      "metadata": {
        "id": "xgBnS4ADnZFe"
      },
      "execution_count": 11,
      "outputs": []
    },
    {
      "cell_type": "code",
      "source": [
        "df.head(2)"
      ],
      "metadata": {
        "colab": {
          "base_uri": "https://localhost:8080/",
          "height": 112
        },
        "id": "g3-3R4FfnZ9t",
        "outputId": "43d186d7-92c8-4bbe-bd71-ba714c200da3"
      },
      "execution_count": 12,
      "outputs": [
        {
          "output_type": "execute_result",
          "data": {
            "text/plain": [
              "   EVENT_NO_TRIP            OPD_DATE  VEHICLE_ID  METERS  ACT_TIME  \\\n",
              "0      259172515  15FEB2023:00:00:00        4223      40     20469   \n",
              "1      259172515  15FEB2023:00:00:00        4223      48     20474   \n",
              "\n",
              "   GPS_LONGITUDE  GPS_LATITUDE  \n",
              "0    -122.648137     45.493082  \n",
              "1    -122.648240     45.493070  "
            ],
            "text/html": [
              "\n",
              "  <div id=\"df-601c6c95-95ae-4497-88cf-29e074cf310f\">\n",
              "    <div class=\"colab-df-container\">\n",
              "      <div>\n",
              "<style scoped>\n",
              "    .dataframe tbody tr th:only-of-type {\n",
              "        vertical-align: middle;\n",
              "    }\n",
              "\n",
              "    .dataframe tbody tr th {\n",
              "        vertical-align: top;\n",
              "    }\n",
              "\n",
              "    .dataframe thead th {\n",
              "        text-align: right;\n",
              "    }\n",
              "</style>\n",
              "<table border=\"1\" class=\"dataframe\">\n",
              "  <thead>\n",
              "    <tr style=\"text-align: right;\">\n",
              "      <th></th>\n",
              "      <th>EVENT_NO_TRIP</th>\n",
              "      <th>OPD_DATE</th>\n",
              "      <th>VEHICLE_ID</th>\n",
              "      <th>METERS</th>\n",
              "      <th>ACT_TIME</th>\n",
              "      <th>GPS_LONGITUDE</th>\n",
              "      <th>GPS_LATITUDE</th>\n",
              "    </tr>\n",
              "  </thead>\n",
              "  <tbody>\n",
              "    <tr>\n",
              "      <th>0</th>\n",
              "      <td>259172515</td>\n",
              "      <td>15FEB2023:00:00:00</td>\n",
              "      <td>4223</td>\n",
              "      <td>40</td>\n",
              "      <td>20469</td>\n",
              "      <td>-122.648137</td>\n",
              "      <td>45.493082</td>\n",
              "    </tr>\n",
              "    <tr>\n",
              "      <th>1</th>\n",
              "      <td>259172515</td>\n",
              "      <td>15FEB2023:00:00:00</td>\n",
              "      <td>4223</td>\n",
              "      <td>48</td>\n",
              "      <td>20474</td>\n",
              "      <td>-122.648240</td>\n",
              "      <td>45.493070</td>\n",
              "    </tr>\n",
              "  </tbody>\n",
              "</table>\n",
              "</div>\n",
              "      <button class=\"colab-df-convert\" onclick=\"convertToInteractive('df-601c6c95-95ae-4497-88cf-29e074cf310f')\"\n",
              "              title=\"Convert this dataframe to an interactive table.\"\n",
              "              style=\"display:none;\">\n",
              "        \n",
              "  <svg xmlns=\"http://www.w3.org/2000/svg\" height=\"24px\"viewBox=\"0 0 24 24\"\n",
              "       width=\"24px\">\n",
              "    <path d=\"M0 0h24v24H0V0z\" fill=\"none\"/>\n",
              "    <path d=\"M18.56 5.44l.94 2.06.94-2.06 2.06-.94-2.06-.94-.94-2.06-.94 2.06-2.06.94zm-11 1L8.5 8.5l.94-2.06 2.06-.94-2.06-.94L8.5 2.5l-.94 2.06-2.06.94zm10 10l.94 2.06.94-2.06 2.06-.94-2.06-.94-.94-2.06-.94 2.06-2.06.94z\"/><path d=\"M17.41 7.96l-1.37-1.37c-.4-.4-.92-.59-1.43-.59-.52 0-1.04.2-1.43.59L10.3 9.45l-7.72 7.72c-.78.78-.78 2.05 0 2.83L4 21.41c.39.39.9.59 1.41.59.51 0 1.02-.2 1.41-.59l7.78-7.78 2.81-2.81c.8-.78.8-2.07 0-2.86zM5.41 20L4 18.59l7.72-7.72 1.47 1.35L5.41 20z\"/>\n",
              "  </svg>\n",
              "      </button>\n",
              "      \n",
              "  <style>\n",
              "    .colab-df-container {\n",
              "      display:flex;\n",
              "      flex-wrap:wrap;\n",
              "      gap: 12px;\n",
              "    }\n",
              "\n",
              "    .colab-df-convert {\n",
              "      background-color: #E8F0FE;\n",
              "      border: none;\n",
              "      border-radius: 50%;\n",
              "      cursor: pointer;\n",
              "      display: none;\n",
              "      fill: #1967D2;\n",
              "      height: 32px;\n",
              "      padding: 0 0 0 0;\n",
              "      width: 32px;\n",
              "    }\n",
              "\n",
              "    .colab-df-convert:hover {\n",
              "      background-color: #E2EBFA;\n",
              "      box-shadow: 0px 1px 2px rgba(60, 64, 67, 0.3), 0px 1px 3px 1px rgba(60, 64, 67, 0.15);\n",
              "      fill: #174EA6;\n",
              "    }\n",
              "\n",
              "    [theme=dark] .colab-df-convert {\n",
              "      background-color: #3B4455;\n",
              "      fill: #D2E3FC;\n",
              "    }\n",
              "\n",
              "    [theme=dark] .colab-df-convert:hover {\n",
              "      background-color: #434B5C;\n",
              "      box-shadow: 0px 1px 3px 1px rgba(0, 0, 0, 0.15);\n",
              "      filter: drop-shadow(0px 1px 2px rgba(0, 0, 0, 0.3));\n",
              "      fill: #FFFFFF;\n",
              "    }\n",
              "  </style>\n",
              "\n",
              "      <script>\n",
              "        const buttonEl =\n",
              "          document.querySelector('#df-601c6c95-95ae-4497-88cf-29e074cf310f button.colab-df-convert');\n",
              "        buttonEl.style.display =\n",
              "          google.colab.kernel.accessAllowed ? 'block' : 'none';\n",
              "\n",
              "        async function convertToInteractive(key) {\n",
              "          const element = document.querySelector('#df-601c6c95-95ae-4497-88cf-29e074cf310f');\n",
              "          const dataTable =\n",
              "            await google.colab.kernel.invokeFunction('convertToInteractive',\n",
              "                                                     [key], {});\n",
              "          if (!dataTable) return;\n",
              "\n",
              "          const docLinkHtml = 'Like what you see? Visit the ' +\n",
              "            '<a target=\"_blank\" href=https://colab.research.google.com/notebooks/data_table.ipynb>data table notebook</a>'\n",
              "            + ' to learn more about interactive tables.';\n",
              "          element.innerHTML = '';\n",
              "          dataTable['output_type'] = 'display_data';\n",
              "          await google.colab.output.renderOutput(dataTable, element);\n",
              "          const docLink = document.createElement('div');\n",
              "          docLink.innerHTML = docLinkHtml;\n",
              "          element.appendChild(docLink);\n",
              "        }\n",
              "      </script>\n",
              "    </div>\n",
              "  </div>\n",
              "  "
            ]
          },
          "metadata": {},
          "execution_count": 12
        }
      ]
    },
    {
      "cell_type": "markdown",
      "source": [
        "## Read In Only Needed Columns"
      ],
      "metadata": {
        "id": "7-Hiofisnuvw"
      }
    },
    {
      "cell_type": "code",
      "source": [
        "df = pd.read_csv(file_path, usecols=needed_cols, low_memory=False)"
      ],
      "metadata": {
        "id": "2M5RGku6nuGE"
      },
      "execution_count": 13,
      "outputs": []
    },
    {
      "cell_type": "markdown",
      "source": [
        "## Create the Timestamp Column"
      ],
      "metadata": {
        "id": "JYOUrGECwbgB"
      }
    },
    {
      "cell_type": "code",
      "source": [
        "df = Get_Timestamp(df)"
      ],
      "metadata": {
        "id": "jhiEjXbt08LL"
      },
      "execution_count": 14,
      "outputs": []
    },
    {
      "cell_type": "markdown",
      "source": [
        "## Create the Speed Column"
      ],
      "metadata": {
        "id": "e40e4pVgxQj1"
      }
    },
    {
      "cell_type": "code",
      "source": [
        "df = Get_Speed(df)"
      ],
      "metadata": {
        "id": "WGfSrxHpuLez"
      },
      "execution_count": 15,
      "outputs": []
    },
    {
      "cell_type": "code",
      "source": [
        "df.head(10)"
      ],
      "metadata": {
        "colab": {
          "base_uri": "https://localhost:8080/",
          "height": 363
        },
        "id": "Exxnczehxb9M",
        "outputId": "cab68742-b257-48a3-e06c-c8d5f36d22cc"
      },
      "execution_count": 16,
      "outputs": [
        {
          "output_type": "execute_result",
          "data": {
            "text/plain": [
              "   EVENT_NO_TRIP   OPD_DATE  VEHICLE_ID  METERS  ACT_TIME  GPS_LONGITUDE  \\\n",
              "0      259172515 2023-02-15        4223      40     20469    -122.648137   \n",
              "1      259172515 2023-02-15        4223      48     20474    -122.648240   \n",
              "2      259172515 2023-02-15        4223      57     20479    -122.648352   \n",
              "3      259172515 2023-02-15        4223      73     20484    -122.648385   \n",
              "4      259172515 2023-02-15        4223     112     20489    -122.648347   \n",
              "5      259172515 2023-02-15        4223     159     20494    -122.648357   \n",
              "6      259172515 2023-02-15        4223     215     20499    -122.648383   \n",
              "7      259172515 2023-02-15        4223     272     20504    -122.648375   \n",
              "8      259172515 2023-02-15        4223     330     20509    -122.648330   \n",
              "9      259172515 2023-02-15        4223     391     20514    -122.648213   \n",
              "\n",
              "   GPS_LATITUDE           TIMESTAMP  SPEED  \n",
              "0     45.493082 2023-02-15 05:41:09    0.0  \n",
              "1     45.493070 2023-02-15 05:41:14    1.6  \n",
              "2     45.493123 2023-02-15 05:41:19    1.8  \n",
              "3     45.493262 2023-02-15 05:41:24    3.2  \n",
              "4     45.493582 2023-02-15 05:41:29    7.8  \n",
              "5     45.494003 2023-02-15 05:41:34    9.4  \n",
              "6     45.494510 2023-02-15 05:41:39   11.2  \n",
              "7     45.495023 2023-02-15 05:41:44   11.4  \n",
              "8     45.495555 2023-02-15 05:41:49   11.6  \n",
              "9     45.496103 2023-02-15 05:41:54   12.2  "
            ],
            "text/html": [
              "\n",
              "  <div id=\"df-643d845f-6473-459c-98b4-6f57951ffd64\">\n",
              "    <div class=\"colab-df-container\">\n",
              "      <div>\n",
              "<style scoped>\n",
              "    .dataframe tbody tr th:only-of-type {\n",
              "        vertical-align: middle;\n",
              "    }\n",
              "\n",
              "    .dataframe tbody tr th {\n",
              "        vertical-align: top;\n",
              "    }\n",
              "\n",
              "    .dataframe thead th {\n",
              "        text-align: right;\n",
              "    }\n",
              "</style>\n",
              "<table border=\"1\" class=\"dataframe\">\n",
              "  <thead>\n",
              "    <tr style=\"text-align: right;\">\n",
              "      <th></th>\n",
              "      <th>EVENT_NO_TRIP</th>\n",
              "      <th>OPD_DATE</th>\n",
              "      <th>VEHICLE_ID</th>\n",
              "      <th>METERS</th>\n",
              "      <th>ACT_TIME</th>\n",
              "      <th>GPS_LONGITUDE</th>\n",
              "      <th>GPS_LATITUDE</th>\n",
              "      <th>TIMESTAMP</th>\n",
              "      <th>SPEED</th>\n",
              "    </tr>\n",
              "  </thead>\n",
              "  <tbody>\n",
              "    <tr>\n",
              "      <th>0</th>\n",
              "      <td>259172515</td>\n",
              "      <td>2023-02-15</td>\n",
              "      <td>4223</td>\n",
              "      <td>40</td>\n",
              "      <td>20469</td>\n",
              "      <td>-122.648137</td>\n",
              "      <td>45.493082</td>\n",
              "      <td>2023-02-15 05:41:09</td>\n",
              "      <td>0.0</td>\n",
              "    </tr>\n",
              "    <tr>\n",
              "      <th>1</th>\n",
              "      <td>259172515</td>\n",
              "      <td>2023-02-15</td>\n",
              "      <td>4223</td>\n",
              "      <td>48</td>\n",
              "      <td>20474</td>\n",
              "      <td>-122.648240</td>\n",
              "      <td>45.493070</td>\n",
              "      <td>2023-02-15 05:41:14</td>\n",
              "      <td>1.6</td>\n",
              "    </tr>\n",
              "    <tr>\n",
              "      <th>2</th>\n",
              "      <td>259172515</td>\n",
              "      <td>2023-02-15</td>\n",
              "      <td>4223</td>\n",
              "      <td>57</td>\n",
              "      <td>20479</td>\n",
              "      <td>-122.648352</td>\n",
              "      <td>45.493123</td>\n",
              "      <td>2023-02-15 05:41:19</td>\n",
              "      <td>1.8</td>\n",
              "    </tr>\n",
              "    <tr>\n",
              "      <th>3</th>\n",
              "      <td>259172515</td>\n",
              "      <td>2023-02-15</td>\n",
              "      <td>4223</td>\n",
              "      <td>73</td>\n",
              "      <td>20484</td>\n",
              "      <td>-122.648385</td>\n",
              "      <td>45.493262</td>\n",
              "      <td>2023-02-15 05:41:24</td>\n",
              "      <td>3.2</td>\n",
              "    </tr>\n",
              "    <tr>\n",
              "      <th>4</th>\n",
              "      <td>259172515</td>\n",
              "      <td>2023-02-15</td>\n",
              "      <td>4223</td>\n",
              "      <td>112</td>\n",
              "      <td>20489</td>\n",
              "      <td>-122.648347</td>\n",
              "      <td>45.493582</td>\n",
              "      <td>2023-02-15 05:41:29</td>\n",
              "      <td>7.8</td>\n",
              "    </tr>\n",
              "    <tr>\n",
              "      <th>5</th>\n",
              "      <td>259172515</td>\n",
              "      <td>2023-02-15</td>\n",
              "      <td>4223</td>\n",
              "      <td>159</td>\n",
              "      <td>20494</td>\n",
              "      <td>-122.648357</td>\n",
              "      <td>45.494003</td>\n",
              "      <td>2023-02-15 05:41:34</td>\n",
              "      <td>9.4</td>\n",
              "    </tr>\n",
              "    <tr>\n",
              "      <th>6</th>\n",
              "      <td>259172515</td>\n",
              "      <td>2023-02-15</td>\n",
              "      <td>4223</td>\n",
              "      <td>215</td>\n",
              "      <td>20499</td>\n",
              "      <td>-122.648383</td>\n",
              "      <td>45.494510</td>\n",
              "      <td>2023-02-15 05:41:39</td>\n",
              "      <td>11.2</td>\n",
              "    </tr>\n",
              "    <tr>\n",
              "      <th>7</th>\n",
              "      <td>259172515</td>\n",
              "      <td>2023-02-15</td>\n",
              "      <td>4223</td>\n",
              "      <td>272</td>\n",
              "      <td>20504</td>\n",
              "      <td>-122.648375</td>\n",
              "      <td>45.495023</td>\n",
              "      <td>2023-02-15 05:41:44</td>\n",
              "      <td>11.4</td>\n",
              "    </tr>\n",
              "    <tr>\n",
              "      <th>8</th>\n",
              "      <td>259172515</td>\n",
              "      <td>2023-02-15</td>\n",
              "      <td>4223</td>\n",
              "      <td>330</td>\n",
              "      <td>20509</td>\n",
              "      <td>-122.648330</td>\n",
              "      <td>45.495555</td>\n",
              "      <td>2023-02-15 05:41:49</td>\n",
              "      <td>11.6</td>\n",
              "    </tr>\n",
              "    <tr>\n",
              "      <th>9</th>\n",
              "      <td>259172515</td>\n",
              "      <td>2023-02-15</td>\n",
              "      <td>4223</td>\n",
              "      <td>391</td>\n",
              "      <td>20514</td>\n",
              "      <td>-122.648213</td>\n",
              "      <td>45.496103</td>\n",
              "      <td>2023-02-15 05:41:54</td>\n",
              "      <td>12.2</td>\n",
              "    </tr>\n",
              "  </tbody>\n",
              "</table>\n",
              "</div>\n",
              "      <button class=\"colab-df-convert\" onclick=\"convertToInteractive('df-643d845f-6473-459c-98b4-6f57951ffd64')\"\n",
              "              title=\"Convert this dataframe to an interactive table.\"\n",
              "              style=\"display:none;\">\n",
              "        \n",
              "  <svg xmlns=\"http://www.w3.org/2000/svg\" height=\"24px\"viewBox=\"0 0 24 24\"\n",
              "       width=\"24px\">\n",
              "    <path d=\"M0 0h24v24H0V0z\" fill=\"none\"/>\n",
              "    <path d=\"M18.56 5.44l.94 2.06.94-2.06 2.06-.94-2.06-.94-.94-2.06-.94 2.06-2.06.94zm-11 1L8.5 8.5l.94-2.06 2.06-.94-2.06-.94L8.5 2.5l-.94 2.06-2.06.94zm10 10l.94 2.06.94-2.06 2.06-.94-2.06-.94-.94-2.06-.94 2.06-2.06.94z\"/><path d=\"M17.41 7.96l-1.37-1.37c-.4-.4-.92-.59-1.43-.59-.52 0-1.04.2-1.43.59L10.3 9.45l-7.72 7.72c-.78.78-.78 2.05 0 2.83L4 21.41c.39.39.9.59 1.41.59.51 0 1.02-.2 1.41-.59l7.78-7.78 2.81-2.81c.8-.78.8-2.07 0-2.86zM5.41 20L4 18.59l7.72-7.72 1.47 1.35L5.41 20z\"/>\n",
              "  </svg>\n",
              "      </button>\n",
              "      \n",
              "  <style>\n",
              "    .colab-df-container {\n",
              "      display:flex;\n",
              "      flex-wrap:wrap;\n",
              "      gap: 12px;\n",
              "    }\n",
              "\n",
              "    .colab-df-convert {\n",
              "      background-color: #E8F0FE;\n",
              "      border: none;\n",
              "      border-radius: 50%;\n",
              "      cursor: pointer;\n",
              "      display: none;\n",
              "      fill: #1967D2;\n",
              "      height: 32px;\n",
              "      padding: 0 0 0 0;\n",
              "      width: 32px;\n",
              "    }\n",
              "\n",
              "    .colab-df-convert:hover {\n",
              "      background-color: #E2EBFA;\n",
              "      box-shadow: 0px 1px 2px rgba(60, 64, 67, 0.3), 0px 1px 3px 1px rgba(60, 64, 67, 0.15);\n",
              "      fill: #174EA6;\n",
              "    }\n",
              "\n",
              "    [theme=dark] .colab-df-convert {\n",
              "      background-color: #3B4455;\n",
              "      fill: #D2E3FC;\n",
              "    }\n",
              "\n",
              "    [theme=dark] .colab-df-convert:hover {\n",
              "      background-color: #434B5C;\n",
              "      box-shadow: 0px 1px 3px 1px rgba(0, 0, 0, 0.15);\n",
              "      filter: drop-shadow(0px 1px 2px rgba(0, 0, 0, 0.3));\n",
              "      fill: #FFFFFF;\n",
              "    }\n",
              "  </style>\n",
              "\n",
              "      <script>\n",
              "        const buttonEl =\n",
              "          document.querySelector('#df-643d845f-6473-459c-98b4-6f57951ffd64 button.colab-df-convert');\n",
              "        buttonEl.style.display =\n",
              "          google.colab.kernel.accessAllowed ? 'block' : 'none';\n",
              "\n",
              "        async function convertToInteractive(key) {\n",
              "          const element = document.querySelector('#df-643d845f-6473-459c-98b4-6f57951ffd64');\n",
              "          const dataTable =\n",
              "            await google.colab.kernel.invokeFunction('convertToInteractive',\n",
              "                                                     [key], {});\n",
              "          if (!dataTable) return;\n",
              "\n",
              "          const docLinkHtml = 'Like what you see? Visit the ' +\n",
              "            '<a target=\"_blank\" href=https://colab.research.google.com/notebooks/data_table.ipynb>data table notebook</a>'\n",
              "            + ' to learn more about interactive tables.';\n",
              "          element.innerHTML = '';\n",
              "          dataTable['output_type'] = 'display_data';\n",
              "          await google.colab.output.renderOutput(dataTable, element);\n",
              "          const docLink = document.createElement('div');\n",
              "          docLink.innerHTML = docLinkHtml;\n",
              "          element.appendChild(docLink);\n",
              "        }\n",
              "      </script>\n",
              "    </div>\n",
              "  </div>\n",
              "  "
            ]
          },
          "metadata": {},
          "execution_count": 16
        }
      ]
    },
    {
      "cell_type": "code",
      "source": [
        "# plot the SPEED column against the ACT_TIME (timestamp) column\n",
        "plt.plot(df['TIMESTAMP'], df['SPEED'])\n",
        "plt.xlabel('Timestamp')\n",
        "plt.ylabel('Speed (m/s)')\n",
        "plt.title('Speed vs Time')\n",
        "plt.show()"
      ],
      "metadata": {
        "colab": {
          "base_uri": "https://localhost:8080/",
          "height": 472
        },
        "id": "pfKkYHmwxzgh",
        "outputId": "5fe38a22-1cc8-48ef-b677-4af9eecfeb47"
      },
      "execution_count": 17,
      "outputs": [
        {
          "output_type": "display_data",
          "data": {
            "text/plain": [
              "<Figure size 640x480 with 1 Axes>"
            ],
            "image/png": "[encoded data removed]"
          },
          "metadata": {}
        }
      ]
    },
    {
      "cell_type": "markdown",
      "source": [
        "## Get Max, Min, and Avg Speed"
      ],
      "metadata": {
        "id": "4AqWHVul0GV5"
      }
    },
    {
      "cell_type": "code",
      "source": [
        "df.describe()"
      ],
      "metadata": {
        "colab": {
          "base_uri": "https://localhost:8080/",
          "height": 300
        },
        "id": "Aikw4RyW0Iki",
        "outputId": "2ded0782-8ec8-44a9-f6b0-1e7dea015281"
      },
      "execution_count": 18,
      "outputs": [
        {
          "output_type": "execute_result",
          "data": {
            "text/plain": [
              "       EVENT_NO_TRIP  VEHICLE_ID       METERS      ACT_TIME  GPS_LONGITUDE  \\\n",
              "count          161.0       161.0   161.000000    161.000000     161.000000   \n",
              "mean     259172515.0      4223.0  3589.186335  20901.670807    -122.666642   \n",
              "std              0.0         0.0  1810.681478    276.646724       0.010093   \n",
              "min      259172515.0      4223.0    40.000000  20469.000000    -122.677585   \n",
              "25%      259172515.0      4223.0  1933.000000  20674.000000    -122.675990   \n",
              "50%      259172515.0      4223.0  4165.000000  20874.000000    -122.669730   \n",
              "75%      259172515.0      4223.0  5208.000000  21094.000000    -122.660792   \n",
              "max      259172515.0      4223.0  5918.000000  21439.000000    -122.647997   \n",
              "\n",
              "       GPS_LATITUDE       SPEED  \n",
              "count    161.000000  161.000000  \n",
              "mean      45.514643    7.182316  \n",
              "std        0.010566    4.443425  \n",
              "min       45.493070    0.000000  \n",
              "25%       45.503155    3.800000  \n",
              "50%       45.517902    6.400000  \n",
              "75%       45.523190   10.800000  \n",
              "max       45.528065   17.400000  "
            ],
            "text/html": [
              "\n",
              "  <div id=\"df-5576b034-fdc0-448b-ac56-69fabc5d7cfb\">\n",
              "    <div class=\"colab-df-container\">\n",
              "      <div>\n",
              "<style scoped>\n",
              "    .dataframe tbody tr th:only-of-type {\n",
              "        vertical-align: middle;\n",
              "    }\n",
              "\n",
              "    .dataframe tbody tr th {\n",
              "        vertical-align: top;\n",
              "    }\n",
              "\n",
              "    .dataframe thead th {\n",
              "        text-align: right;\n",
              "    }\n",
              "</style>\n",
              "<table border=\"1\" class=\"dataframe\">\n",
              "  <thead>\n",
              "    <tr style=\"text-align: right;\">\n",
              "      <th></th>\n",
              "      <th>EVENT_NO_TRIP</th>\n",
              "      <th>VEHICLE_ID</th>\n",
              "      <th>METERS</th>\n",
              "      <th>ACT_TIME</th>\n",
              "      <th>GPS_LONGITUDE</th>\n",
              "      <th>GPS_LATITUDE</th>\n",
              "      <th>SPEED</th>\n",
              "    </tr>\n",
              "  </thead>\n",
              "  <tbody>\n",
              "    <tr>\n",
              "      <th>count</th>\n",
              "      <td>161.0</td>\n",
              "      <td>161.0</td>\n",
              "      <td>161.000000</td>\n",
              "      <td>161.000000</td>\n",
              "      <td>161.000000</td>\n",
              "      <td>161.000000</td>\n",
              "      <td>161.000000</td>\n",
              "    </tr>\n",
              "    <tr>\n",
              "      <th>mean</th>\n",
              "      <td>259172515.0</td>\n",
              "      <td>4223.0</td>\n",
              "      <td>3589.186335</td>\n",
              "      <td>20901.670807</td>\n",
              "      <td>-122.666642</td>\n",
              "      <td>45.514643</td>\n",
              "      <td>7.182316</td>\n",
              "    </tr>\n",
              "    <tr>\n",
              "      <th>std</th>\n",
              "      <td>0.0</td>\n",
              "      <td>0.0</td>\n",
              "      <td>1810.681478</td>\n",
              "      <td>276.646724</td>\n",
              "      <td>0.010093</td>\n",
              "      <td>0.010566</td>\n",
              "      <td>4.443425</td>\n",
              "    </tr>\n",
              "    <tr>\n",
              "      <th>min</th>\n",
              "      <td>259172515.0</td>\n",
              "      <td>4223.0</td>\n",
              "      <td>40.000000</td>\n",
              "      <td>20469.000000</td>\n",
              "      <td>-122.677585</td>\n",
              "      <td>45.493070</td>\n",
              "      <td>0.000000</td>\n",
              "    </tr>\n",
              "    <tr>\n",
              "      <th>25%</th>\n",
              "      <td>259172515.0</td>\n",
              "      <td>4223.0</td>\n",
              "      <td>1933.000000</td>\n",
              "      <td>20674.000000</td>\n",
              "      <td>-122.675990</td>\n",
              "      <td>45.503155</td>\n",
              "      <td>3.800000</td>\n",
              "    </tr>\n",
              "    <tr>\n",
              "      <th>50%</th>\n",
              "      <td>259172515.0</td>\n",
              "      <td>4223.0</td>\n",
              "      <td>4165.000000</td>\n",
              "      <td>20874.000000</td>\n",
              "      <td>-122.669730</td>\n",
              "      <td>45.517902</td>\n",
              "      <td>6.400000</td>\n",
              "    </tr>\n",
              "    <tr>\n",
              "      <th>75%</th>\n",
              "      <td>259172515.0</td>\n",
              "      <td>4223.0</td>\n",
              "      <td>5208.000000</td>\n",
              "      <td>21094.000000</td>\n",
              "      <td>-122.660792</td>\n",
              "      <td>45.523190</td>\n",
              "      <td>10.800000</td>\n",
              "    </tr>\n",
              "    <tr>\n",
              "      <th>max</th>\n",
              "      <td>259172515.0</td>\n",
              "      <td>4223.0</td>\n",
              "      <td>5918.000000</td>\n",
              "      <td>21439.000000</td>\n",
              "      <td>-122.647997</td>\n",
              "      <td>45.528065</td>\n",
              "      <td>17.400000</td>\n",
              "    </tr>\n",
              "  </tbody>\n",
              "</table>\n",
              "</div>\n",
              "      <button class=\"colab-df-convert\" onclick=\"convertToInteractive('df-5576b034-fdc0-448b-ac56-69fabc5d7cfb')\"\n",
              "              title=\"Convert this dataframe to an interactive table.\"\n",
              "              style=\"display:none;\">\n",
              "        \n",
              "  <svg xmlns=\"http://www.w3.org/2000/svg\" height=\"24px\"viewBox=\"0 0 24 24\"\n",
              "       width=\"24px\">\n",
              "    <path d=\"M0 0h24v24H0V0z\" fill=\"none\"/>\n",
              "    <path d=\"M18.56 5.44l.94 2.06.94-2.06 2.06-.94-2.06-.94-.94-2.06-.94 2.06-2.06.94zm-11 1L8.5 8.5l.94-2.06 2.06-.94-2.06-.94L8.5 2.5l-.94 2.06-2.06.94zm10 10l.94 2.06.94-2.06 2.06-.94-2.06-.94-.94-2.06-.94 2.06-2.06.94z\"/><path d=\"M17.41 7.96l-1.37-1.37c-.4-.4-.92-.59-1.43-.59-.52 0-1.04.2-1.43.59L10.3 9.45l-7.72 7.72c-.78.78-.78 2.05 0 2.83L4 21.41c.39.39.9.59 1.41.59.51 0 1.02-.2 1.41-.59l7.78-7.78 2.81-2.81c.8-.78.8-2.07 0-2.86zM5.41 20L4 18.59l7.72-7.72 1.47 1.35L5.41 20z\"/>\n",
              "  </svg>\n",
              "      </button>\n",
              "      \n",
              "  <style>\n",
              "    .colab-df-container {\n",
              "      display:flex;\n",
              "      flex-wrap:wrap;\n",
              "      gap: 12px;\n",
              "    }\n",
              "\n",
              "    .colab-df-convert {\n",
              "      background-color: #E8F0FE;\n",
              "      border: none;\n",
              "      border-radius: 50%;\n",
              "      cursor: pointer;\n",
              "      display: none;\n",
              "      fill: #1967D2;\n",
              "      height: 32px;\n",
              "      padding: 0 0 0 0;\n",
              "      width: 32px;\n",
              "    }\n",
              "\n",
              "    .colab-df-convert:hover {\n",
              "      background-color: #E2EBFA;\n",
              "      box-shadow: 0px 1px 2px rgba(60, 64, 67, 0.3), 0px 1px 3px 1px rgba(60, 64, 67, 0.15);\n",
              "      fill: #174EA6;\n",
              "    }\n",
              "\n",
              "    [theme=dark] .colab-df-convert {\n",
              "      background-color: #3B4455;\n",
              "      fill: #D2E3FC;\n",
              "    }\n",
              "\n",
              "    [theme=dark] .colab-df-convert:hover {\n",
              "      background-color: #434B5C;\n",
              "      box-shadow: 0px 1px 3px 1px rgba(0, 0, 0, 0.15);\n",
              "      filter: drop-shadow(0px 1px 2px rgba(0, 0, 0, 0.3));\n",
              "      fill: #FFFFFF;\n",
              "    }\n",
              "  </style>\n",
              "\n",
              "      <script>\n",
              "        const buttonEl =\n",
              "          document.querySelector('#df-5576b034-fdc0-448b-ac56-69fabc5d7cfb button.colab-df-convert');\n",
              "        buttonEl.style.display =\n",
              "          google.colab.kernel.accessAllowed ? 'block' : 'none';\n",
              "\n",
              "        async function convertToInteractive(key) {\n",
              "          const element = document.querySelector('#df-5576b034-fdc0-448b-ac56-69fabc5d7cfb');\n",
              "          const dataTable =\n",
              "            await google.colab.kernel.invokeFunction('convertToInteractive',\n",
              "                                                     [key], {});\n",
              "          if (!dataTable) return;\n",
              "\n",
              "          const docLinkHtml = 'Like what you see? Visit the ' +\n",
              "            '<a target=\"_blank\" href=https://colab.research.google.com/notebooks/data_table.ipynb>data table notebook</a>'\n",
              "            + ' to learn more about interactive tables.';\n",
              "          element.innerHTML = '';\n",
              "          dataTable['output_type'] = 'display_data';\n",
              "          await google.colab.output.renderOutput(dataTable, element);\n",
              "          const docLink = document.createElement('div');\n",
              "          docLink.innerHTML = docLinkHtml;\n",
              "          element.appendChild(docLink);\n",
              "        }\n",
              "      </script>\n",
              "    </div>\n",
              "  </div>\n",
              "  "
            ]
          },
          "metadata": {},
          "execution_count": 18
        }
      ]
    },
    {
      "cell_type": "code",
      "source": [
        "df = df.drop(['OPD_DATE', 'ACT_TIME'], axis=1)"
      ],
      "metadata": {
        "id": "dltvvVSxyM54"
      },
      "execution_count": 19,
      "outputs": []
    },
    {
      "cell_type": "markdown",
      "source": [
        "# Large Dataset"
      ],
      "metadata": {
        "id": "suRqSrsr0Uwq"
      }
    },
    {
      "cell_type": "code",
      "source": [
        "# downloads the .csv file from google drive only if it's not already in directory\n",
        "file_path = \"/content/bc_veh4223_230215.csv\"\n",
        "if os.path.isfile(file_path) == False:\n",
        "  !gdown 1Q-Ae2d48tGxMOzjeGW2_115UfgPNttc7\n",
        "\n",
        "large_df = pd.read_csv(file_path, usecols=needed_cols, low_memory=False)"
      ],
      "metadata": {
        "id": "0CYJi1Mv0UWK"
      },
      "execution_count": 20,
      "outputs": []
    },
    {
      "cell_type": "code",
      "source": [
        "large_df = Get_Timestamp(large_df)\n",
        "large_df = Get_Speed(large_df)"
      ],
      "metadata": {
        "id": "Vu6NPAAS1Vzp"
      },
      "execution_count": 21,
      "outputs": []
    },
    {
      "cell_type": "code",
      "source": [
        "large_df.head(10)"
      ],
      "metadata": {
        "colab": {
          "base_uri": "https://localhost:8080/",
          "height": 363
        },
        "id": "hb_26AYL0ftE",
        "outputId": "3eb490aa-9346-40ca-e35b-4d044d72fd75"
      },
      "execution_count": 22,
      "outputs": [
        {
          "output_type": "execute_result",
          "data": {
            "text/plain": [
              "   EVENT_NO_TRIP   OPD_DATE  VEHICLE_ID  METERS  ACT_TIME  GPS_LONGITUDE  \\\n",
              "0      259173279 2023-02-15        4223  194493     71279    -122.679572   \n",
              "1      259173279 2023-02-15        4223  194525     71284    -122.679408   \n",
              "2      259173279 2023-02-15        4223  194562     71290    -122.679227   \n",
              "3      259173279 2023-02-15        4223  194598     71295    -122.679048   \n",
              "4      259173279 2023-02-15        4223  194628     71300    -122.678888   \n",
              "5      259173279 2023-02-15        4223  194659     71305    -122.678753   \n",
              "6      259173279 2023-02-15        4223  194683     71309    -122.678687   \n",
              "7      259173279 2023-02-15        4223  194696     71315    -122.678657   \n",
              "8      259173279 2023-02-15        4223  194721     71319    -122.678542   \n",
              "9      259173279 2023-02-15        4223  194750     71324    -122.678370   \n",
              "\n",
              "   GPS_LATITUDE           TIMESTAMP     SPEED  \n",
              "0     45.517122 2023-02-15 19:47:59  0.000000  \n",
              "1     45.517392 2023-02-15 19:48:04  6.400000  \n",
              "2     45.517700 2023-02-15 19:48:10  6.166667  \n",
              "3     45.517998 2023-02-15 19:48:15  7.200000  \n",
              "4     45.518255 2023-02-15 19:48:20  6.000000  \n",
              "5     45.518518 2023-02-15 19:48:25  6.200000  \n",
              "6     45.518737 2023-02-15 19:48:29  6.000000  \n",
              "7     45.518853 2023-02-15 19:48:35  2.166667  \n",
              "8     45.519072 2023-02-15 19:48:39  6.250000  \n",
              "9     45.519307 2023-02-15 19:48:44  5.800000  "
            ],
            "text/html": [
              "\n",
              "  <div id=\"df-a9abf7dd-a2bb-42a3-8360-c844c2b9b43e\">\n",
              "    <div class=\"colab-df-container\">\n",
              "      <div>\n",
              "<style scoped>\n",
              "    .dataframe tbody tr th:only-of-type {\n",
              "        vertical-align: middle;\n",
              "    }\n",
              "\n",
              "    .dataframe tbody tr th {\n",
              "        vertical-align: top;\n",
              "    }\n",
              "\n",
              "    .dataframe thead th {\n",
              "        text-align: right;\n",
              "    }\n",
              "</style>\n",
              "<table border=\"1\" class=\"dataframe\">\n",
              "  <thead>\n",
              "    <tr style=\"text-align: right;\">\n",
              "      <th></th>\n",
              "      <th>EVENT_NO_TRIP</th>\n",
              "      <th>OPD_DATE</th>\n",
              "      <th>VEHICLE_ID</th>\n",
              "      <th>METERS</th>\n",
              "      <th>ACT_TIME</th>\n",
              "      <th>GPS_LONGITUDE</th>\n",
              "      <th>GPS_LATITUDE</th>\n",
              "      <th>TIMESTAMP</th>\n",
              "      <th>SPEED</th>\n",
              "    </tr>\n",
              "  </thead>\n",
              "  <tbody>\n",
              "    <tr>\n",
              "      <th>0</th>\n",
              "      <td>259173279</td>\n",
              "      <td>2023-02-15</td>\n",
              "      <td>4223</td>\n",
              "      <td>194493</td>\n",
              "      <td>71279</td>\n",
              "      <td>-122.679572</td>\n",
              "      <td>45.517122</td>\n",
              "      <td>2023-02-15 19:47:59</td>\n",
              "      <td>0.000000</td>\n",
              "    </tr>\n",
              "    <tr>\n",
              "      <th>1</th>\n",
              "      <td>259173279</td>\n",
              "      <td>2023-02-15</td>\n",
              "      <td>4223</td>\n",
              "      <td>194525</td>\n",
              "      <td>71284</td>\n",
              "      <td>-122.679408</td>\n",
              "      <td>45.517392</td>\n",
              "      <td>2023-02-15 19:48:04</td>\n",
              "      <td>6.400000</td>\n",
              "    </tr>\n",
              "    <tr>\n",
              "      <th>2</th>\n",
              "      <td>259173279</td>\n",
              "      <td>2023-02-15</td>\n",
              "      <td>4223</td>\n",
              "      <td>194562</td>\n",
              "      <td>71290</td>\n",
              "      <td>-122.679227</td>\n",
              "      <td>45.517700</td>\n",
              "      <td>2023-02-15 19:48:10</td>\n",
              "      <td>6.166667</td>\n",
              "    </tr>\n",
              "    <tr>\n",
              "      <th>3</th>\n",
              "      <td>259173279</td>\n",
              "      <td>2023-02-15</td>\n",
              "      <td>4223</td>\n",
              "      <td>194598</td>\n",
              "      <td>71295</td>\n",
              "      <td>-122.679048</td>\n",
              "      <td>45.517998</td>\n",
              "      <td>2023-02-15 19:48:15</td>\n",
              "      <td>7.200000</td>\n",
              "    </tr>\n",
              "    <tr>\n",
              "      <th>4</th>\n",
              "      <td>259173279</td>\n",
              "      <td>2023-02-15</td>\n",
              "      <td>4223</td>\n",
              "      <td>194628</td>\n",
              "      <td>71300</td>\n",
              "      <td>-122.678888</td>\n",
              "      <td>45.518255</td>\n",
              "      <td>2023-02-15 19:48:20</td>\n",
              "      <td>6.000000</td>\n",
              "    </tr>\n",
              "    <tr>\n",
              "      <th>5</th>\n",
              "      <td>259173279</td>\n",
              "      <td>2023-02-15</td>\n",
              "      <td>4223</td>\n",
              "      <td>194659</td>\n",
              "      <td>71305</td>\n",
              "      <td>-122.678753</td>\n",
              "      <td>45.518518</td>\n",
              "      <td>2023-02-15 19:48:25</td>\n",
              "      <td>6.200000</td>\n",
              "    </tr>\n",
              "    <tr>\n",
              "      <th>6</th>\n",
              "      <td>259173279</td>\n",
              "      <td>2023-02-15</td>\n",
              "      <td>4223</td>\n",
              "      <td>194683</td>\n",
              "      <td>71309</td>\n",
              "      <td>-122.678687</td>\n",
              "      <td>45.518737</td>\n",
              "      <td>2023-02-15 19:48:29</td>\n",
              "      <td>6.000000</td>\n",
              "    </tr>\n",
              "    <tr>\n",
              "      <th>7</th>\n",
              "      <td>259173279</td>\n",
              "      <td>2023-02-15</td>\n",
              "      <td>4223</td>\n",
              "      <td>194696</td>\n",
              "      <td>71315</td>\n",
              "      <td>-122.678657</td>\n",
              "      <td>45.518853</td>\n",
              "      <td>2023-02-15 19:48:35</td>\n",
              "      <td>2.166667</td>\n",
              "    </tr>\n",
              "    <tr>\n",
              "      <th>8</th>\n",
              "      <td>259173279</td>\n",
              "      <td>2023-02-15</td>\n",
              "      <td>4223</td>\n",
              "      <td>194721</td>\n",
              "      <td>71319</td>\n",
              "      <td>-122.678542</td>\n",
              "      <td>45.519072</td>\n",
              "      <td>2023-02-15 19:48:39</td>\n",
              "      <td>6.250000</td>\n",
              "    </tr>\n",
              "    <tr>\n",
              "      <th>9</th>\n",
              "      <td>259173279</td>\n",
              "      <td>2023-02-15</td>\n",
              "      <td>4223</td>\n",
              "      <td>194750</td>\n",
              "      <td>71324</td>\n",
              "      <td>-122.678370</td>\n",
              "      <td>45.519307</td>\n",
              "      <td>2023-02-15 19:48:44</td>\n",
              "      <td>5.800000</td>\n",
              "    </tr>\n",
              "  </tbody>\n",
              "</table>\n",
              "</div>\n",
              "      <button class=\"colab-df-convert\" onclick=\"convertToInteractive('df-a9abf7dd-a2bb-42a3-8360-c844c2b9b43e')\"\n",
              "              title=\"Convert this dataframe to an interactive table.\"\n",
              "              style=\"display:none;\">\n",
              "        \n",
              "  <svg xmlns=\"http://www.w3.org/2000/svg\" height=\"24px\"viewBox=\"0 0 24 24\"\n",
              "       width=\"24px\">\n",
              "    <path d=\"M0 0h24v24H0V0z\" fill=\"none\"/>\n",
              "    <path d=\"M18.56 5.44l.94 2.06.94-2.06 2.06-.94-2.06-.94-.94-2.06-.94 2.06-2.06.94zm-11 1L8.5 8.5l.94-2.06 2.06-.94-2.06-.94L8.5 2.5l-.94 2.06-2.06.94zm10 10l.94 2.06.94-2.06 2.06-.94-2.06-.94-.94-2.06-.94 2.06-2.06.94z\"/><path d=\"M17.41 7.96l-1.37-1.37c-.4-.4-.92-.59-1.43-.59-.52 0-1.04.2-1.43.59L10.3 9.45l-7.72 7.72c-.78.78-.78 2.05 0 2.83L4 21.41c.39.39.9.59 1.41.59.51 0 1.02-.2 1.41-.59l7.78-7.78 2.81-2.81c.8-.78.8-2.07 0-2.86zM5.41 20L4 18.59l7.72-7.72 1.47 1.35L5.41 20z\"/>\n",
              "  </svg>\n",
              "      </button>\n",
              "      \n",
              "  <style>\n",
              "    .colab-df-container {\n",
              "      display:flex;\n",
              "      flex-wrap:wrap;\n",
              "      gap: 12px;\n",
              "    }\n",
              "\n",
              "    .colab-df-convert {\n",
              "      background-color: #E8F0FE;\n",
              "      border: none;\n",
              "      border-radius: 50%;\n",
              "      cursor: pointer;\n",
              "      display: none;\n",
              "      fill: #1967D2;\n",
              "      height: 32px;\n",
              "      padding: 0 0 0 0;\n",
              "      width: 32px;\n",
              "    }\n",
              "\n",
              "    .colab-df-convert:hover {\n",
              "      background-color: #E2EBFA;\n",
              "      box-shadow: 0px 1px 2px rgba(60, 64, 67, 0.3), 0px 1px 3px 1px rgba(60, 64, 67, 0.15);\n",
              "      fill: #174EA6;\n",
              "    }\n",
              "\n",
              "    [theme=dark] .colab-df-convert {\n",
              "      background-color: #3B4455;\n",
              "      fill: #D2E3FC;\n",
              "    }\n",
              "\n",
              "    [theme=dark] .colab-df-convert:hover {\n",
              "      background-color: #434B5C;\n",
              "      box-shadow: 0px 1px 3px 1px rgba(0, 0, 0, 0.15);\n",
              "      filter: drop-shadow(0px 1px 2px rgba(0, 0, 0, 0.3));\n",
              "      fill: #FFFFFF;\n",
              "    }\n",
              "  </style>\n",
              "\n",
              "      <script>\n",
              "        const buttonEl =\n",
              "          document.querySelector('#df-a9abf7dd-a2bb-42a3-8360-c844c2b9b43e button.colab-df-convert');\n",
              "        buttonEl.style.display =\n",
              "          google.colab.kernel.accessAllowed ? 'block' : 'none';\n",
              "\n",
              "        async function convertToInteractive(key) {\n",
              "          const element = document.querySelector('#df-a9abf7dd-a2bb-42a3-8360-c844c2b9b43e');\n",
              "          const dataTable =\n",
              "            await google.colab.kernel.invokeFunction('convertToInteractive',\n",
              "                                                     [key], {});\n",
              "          if (!dataTable) return;\n",
              "\n",
              "          const docLinkHtml = 'Like what you see? Visit the ' +\n",
              "            '<a target=\"_blank\" href=https://colab.research.google.com/notebooks/data_table.ipynb>data table notebook</a>'\n",
              "            + ' to learn more about interactive tables.';\n",
              "          element.innerHTML = '';\n",
              "          dataTable['output_type'] = 'display_data';\n",
              "          await google.colab.output.renderOutput(dataTable, element);\n",
              "          const docLink = document.createElement('div');\n",
              "          docLink.innerHTML = docLinkHtml;\n",
              "          element.appendChild(docLink);\n",
              "        }\n",
              "      </script>\n",
              "    </div>\n",
              "  </div>\n",
              "  "
            ]
          },
          "metadata": {},
          "execution_count": 22
        }
      ]
    },
    {
      "cell_type": "markdown",
      "source": [
        "## What is the Max Speed of Vehicle ID 4223?"
      ],
      "metadata": {
        "id": "4A5U5dyU5z7B"
      }
    },
    {
      "cell_type": "code",
      "source": [
        "max_speed = Get_Max_Speed_For_ID(large_df, 4223)\n",
        "max_speed"
      ],
      "metadata": {
        "colab": {
          "base_uri": "https://localhost:8080/"
        },
        "id": "Zvn-N3bJ0r3T",
        "outputId": "f0e1f57d-0a80-4b9d-b5ac-e548d450f79e"
      },
      "execution_count": 23,
      "outputs": [
        {
          "output_type": "execute_result",
          "data": {
            "text/plain": [
              "17.4"
            ]
          },
          "metadata": {},
          "execution_count": 23
        }
      ]
    },
    {
      "cell_type": "markdown",
      "source": [
        "## When Did this Max Speed Happen?"
      ],
      "metadata": {
        "id": "DWrxNjIr6khD"
      }
    },
    {
      "cell_type": "code",
      "source": [
        "speed_dates = Get_Speed_Date(large_df, 4223, max_speed)\n",
        "speed_dates"
      ],
      "metadata": {
        "colab": {
          "base_uri": "https://localhost:8080/"
        },
        "id": "hw_MQHYw5X6t",
        "outputId": "4b5101e0-33b3-4661-e0e6-8388d4d37fd1"
      },
      "execution_count": 24,
      "outputs": [
        {
          "output_type": "execute_result",
          "data": {
            "text/plain": [
              "2356   2023-02-15\n",
              "6573   2023-02-15\n",
              "Name: OPD_DATE, dtype: datetime64[ns]"
            ]
          },
          "metadata": {},
          "execution_count": 24
        }
      ]
    },
    {
      "cell_type": "markdown",
      "source": [
        "## What is The Mean Speed for This Date?"
      ],
      "metadata": {
        "id": "ag5C782a7-qn"
      }
    },
    {
      "cell_type": "code",
      "source": [
        "mean_speed1 = Get_Mean_Speed_For_Date(large_df, speed_dates.iloc[0])\n",
        "mean_speed1"
      ],
      "metadata": {
        "colab": {
          "base_uri": "https://localhost:8080/"
        },
        "id": "HFAKDJoc5_Wz",
        "outputId": "52290add-c535-40c3-9caa-83bfb0d11879"
      },
      "execution_count": 25,
      "outputs": [
        {
          "output_type": "execute_result",
          "data": {
            "text/plain": [
              "7.143026172636277"
            ]
          },
          "metadata": {},
          "execution_count": 25
        }
      ]
    },
    {
      "cell_type": "code",
      "source": [
        "mean_speed2 = Get_Mean_Speed_For_Date(large_df, speed_dates.iloc[1])\n",
        "mean_speed2"
      ],
      "metadata": {
        "colab": {
          "base_uri": "https://localhost:8080/"
        },
        "id": "sBieDOF_89wU",
        "outputId": "ea777270-e5ec-454c-a60b-9ee0bbcc0820"
      },
      "execution_count": 26,
      "outputs": [
        {
          "output_type": "execute_result",
          "data": {
            "text/plain": [
              "7.143026172636277"
            ]
          },
          "metadata": {},
          "execution_count": 26
        }
      ]
    },
    {
      "cell_type": "markdown",
      "source": [
        "# Full Dataset"
      ],
      "metadata": {
        "id": "6YPzW_i58M2Z"
      }
    },
    {
      "cell_type": "code",
      "source": [
        "# downloads the .csv file from google drive only if it's not already in directory\n",
        "file_path = \"/content/bc_230215.csv\"\n",
        "if os.path.isfile(file_path) == False:\n",
        "  !gdown 1pT7Gk24kodlZn7L2UxOT6S4gKTfDNTdP\n",
        "\n",
        "full_df = pd.read_csv(file_path, usecols=needed_cols, low_memory=False)"
      ],
      "metadata": {
        "id": "N2LhmQSi7HUK"
      },
      "execution_count": 27,
      "outputs": []
    },
    {
      "cell_type": "code",
      "source": [
        "full_df = Get_Timestamp(full_df)\n",
        "full_df = Get_Speed(full_df)"
      ],
      "metadata": {
        "id": "1nyO7tm-7eyx"
      },
      "execution_count": 28,
      "outputs": []
    },
    {
      "cell_type": "code",
      "source": [
        "full_df.head(10)"
      ],
      "metadata": {
        "colab": {
          "base_uri": "https://localhost:8080/",
          "height": 363
        },
        "id": "JquAZYLC-hf0",
        "outputId": "3093d5f3-4cab-489b-b128-bb3f0cf5f5e0"
      },
      "execution_count": 29,
      "outputs": [
        {
          "output_type": "execute_result",
          "data": {
            "text/plain": [
              "   EVENT_NO_TRIP   OPD_DATE  VEHICLE_ID  METERS  ACT_TIME  GPS_LONGITUDE  \\\n",
              "0      259173279 2023-02-15        4223  194493     71279    -122.679572   \n",
              "1      259173279 2023-02-15        4223  194525     71284    -122.679408   \n",
              "2      259173279 2023-02-15        4223  194562     71290    -122.679227   \n",
              "3      259173279 2023-02-15        4223  194598     71295    -122.679048   \n",
              "4      259173279 2023-02-15        4223  194628     71300    -122.678888   \n",
              "5      259173279 2023-02-15        4223  194659     71305    -122.678753   \n",
              "6      259173279 2023-02-15        4223  194683     71309    -122.678687   \n",
              "7      259173279 2023-02-15        4223  194696     71315    -122.678657   \n",
              "8      259173279 2023-02-15        4223  194721     71319    -122.678542   \n",
              "9      259173279 2023-02-15        4223  194750     71324    -122.678370   \n",
              "\n",
              "   GPS_LATITUDE           TIMESTAMP     SPEED  \n",
              "0     45.517122 2023-02-15 19:47:59  0.000000  \n",
              "1     45.517392 2023-02-15 19:48:04  6.400000  \n",
              "2     45.517700 2023-02-15 19:48:10  6.166667  \n",
              "3     45.517998 2023-02-15 19:48:15  7.200000  \n",
              "4     45.518255 2023-02-15 19:48:20  6.000000  \n",
              "5     45.518518 2023-02-15 19:48:25  6.200000  \n",
              "6     45.518737 2023-02-15 19:48:29  6.000000  \n",
              "7     45.518853 2023-02-15 19:48:35  2.166667  \n",
              "8     45.519072 2023-02-15 19:48:39  6.250000  \n",
              "9     45.519307 2023-02-15 19:48:44  5.800000  "
            ],
            "text/html": [
              "\n",
              "  <div id=\"df-a719d549-083d-4821-99b9-67500b0526d2\">\n",
              "    <div class=\"colab-df-container\">\n",
              "      <div>\n",
              "<style scoped>\n",
              "    .dataframe tbody tr th:only-of-type {\n",
              "        vertical-align: middle;\n",
              "    }\n",
              "\n",
              "    .dataframe tbody tr th {\n",
              "        vertical-align: top;\n",
              "    }\n",
              "\n",
              "    .dataframe thead th {\n",
              "        text-align: right;\n",
              "    }\n",
              "</style>\n",
              "<table border=\"1\" class=\"dataframe\">\n",
              "  <thead>\n",
              "    <tr style=\"text-align: right;\">\n",
              "      <th></th>\n",
              "      <th>EVENT_NO_TRIP</th>\n",
              "      <th>OPD_DATE</th>\n",
              "      <th>VEHICLE_ID</th>\n",
              "      <th>METERS</th>\n",
              "      <th>ACT_TIME</th>\n",
              "      <th>GPS_LONGITUDE</th>\n",
              "      <th>GPS_LATITUDE</th>\n",
              "      <th>TIMESTAMP</th>\n",
              "      <th>SPEED</th>\n",
              "    </tr>\n",
              "  </thead>\n",
              "  <tbody>\n",
              "    <tr>\n",
              "      <th>0</th>\n",
              "      <td>259173279</td>\n",
              "      <td>2023-02-15</td>\n",
              "      <td>4223</td>\n",
              "      <td>194493</td>\n",
              "      <td>71279</td>\n",
              "      <td>-122.679572</td>\n",
              "      <td>45.517122</td>\n",
              "      <td>2023-02-15 19:47:59</td>\n",
              "      <td>0.000000</td>\n",
              "    </tr>\n",
              "    <tr>\n",
              "      <th>1</th>\n",
              "      <td>259173279</td>\n",
              "      <td>2023-02-15</td>\n",
              "      <td>4223</td>\n",
              "      <td>194525</td>\n",
              "      <td>71284</td>\n",
              "      <td>-122.679408</td>\n",
              "      <td>45.517392</td>\n",
              "      <td>2023-02-15 19:48:04</td>\n",
              "      <td>6.400000</td>\n",
              "    </tr>\n",
              "    <tr>\n",
              "      <th>2</th>\n",
              "      <td>259173279</td>\n",
              "      <td>2023-02-15</td>\n",
              "      <td>4223</td>\n",
              "      <td>194562</td>\n",
              "      <td>71290</td>\n",
              "      <td>-122.679227</td>\n",
              "      <td>45.517700</td>\n",
              "      <td>2023-02-15 19:48:10</td>\n",
              "      <td>6.166667</td>\n",
              "    </tr>\n",
              "    <tr>\n",
              "      <th>3</th>\n",
              "      <td>259173279</td>\n",
              "      <td>2023-02-15</td>\n",
              "      <td>4223</td>\n",
              "      <td>194598</td>\n",
              "      <td>71295</td>\n",
              "      <td>-122.679048</td>\n",
              "      <td>45.517998</td>\n",
              "      <td>2023-02-15 19:48:15</td>\n",
              "      <td>7.200000</td>\n",
              "    </tr>\n",
              "    <tr>\n",
              "      <th>4</th>\n",
              "      <td>259173279</td>\n",
              "      <td>2023-02-15</td>\n",
              "      <td>4223</td>\n",
              "      <td>194628</td>\n",
              "      <td>71300</td>\n",
              "      <td>-122.678888</td>\n",
              "      <td>45.518255</td>\n",
              "      <td>2023-02-15 19:48:20</td>\n",
              "      <td>6.000000</td>\n",
              "    </tr>\n",
              "    <tr>\n",
              "      <th>5</th>\n",
              "      <td>259173279</td>\n",
              "      <td>2023-02-15</td>\n",
              "      <td>4223</td>\n",
              "      <td>194659</td>\n",
              "      <td>71305</td>\n",
              "      <td>-122.678753</td>\n",
              "      <td>45.518518</td>\n",
              "      <td>2023-02-15 19:48:25</td>\n",
              "      <td>6.200000</td>\n",
              "    </tr>\n",
              "    <tr>\n",
              "      <th>6</th>\n",
              "      <td>259173279</td>\n",
              "      <td>2023-02-15</td>\n",
              "      <td>4223</td>\n",
              "      <td>194683</td>\n",
              "      <td>71309</td>\n",
              "      <td>-122.678687</td>\n",
              "      <td>45.518737</td>\n",
              "      <td>2023-02-15 19:48:29</td>\n",
              "      <td>6.000000</td>\n",
              "    </tr>\n",
              "    <tr>\n",
              "      <th>7</th>\n",
              "      <td>259173279</td>\n",
              "      <td>2023-02-15</td>\n",
              "      <td>4223</td>\n",
              "      <td>194696</td>\n",
              "      <td>71315</td>\n",
              "      <td>-122.678657</td>\n",
              "      <td>45.518853</td>\n",
              "      <td>2023-02-15 19:48:35</td>\n",
              "      <td>2.166667</td>\n",
              "    </tr>\n",
              "    <tr>\n",
              "      <th>8</th>\n",
              "      <td>259173279</td>\n",
              "      <td>2023-02-15</td>\n",
              "      <td>4223</td>\n",
              "      <td>194721</td>\n",
              "      <td>71319</td>\n",
              "      <td>-122.678542</td>\n",
              "      <td>45.519072</td>\n",
              "      <td>2023-02-15 19:48:39</td>\n",
              "      <td>6.250000</td>\n",
              "    </tr>\n",
              "    <tr>\n",
              "      <th>9</th>\n",
              "      <td>259173279</td>\n",
              "      <td>2023-02-15</td>\n",
              "      <td>4223</td>\n",
              "      <td>194750</td>\n",
              "      <td>71324</td>\n",
              "      <td>-122.678370</td>\n",
              "      <td>45.519307</td>\n",
              "      <td>2023-02-15 19:48:44</td>\n",
              "      <td>5.800000</td>\n",
              "    </tr>\n",
              "  </tbody>\n",
              "</table>\n",
              "</div>\n",
              "      <button class=\"colab-df-convert\" onclick=\"convertToInteractive('df-a719d549-083d-4821-99b9-67500b0526d2')\"\n",
              "              title=\"Convert this dataframe to an interactive table.\"\n",
              "              style=\"display:none;\">\n",
              "        \n",
              "  <svg xmlns=\"http://www.w3.org/2000/svg\" height=\"24px\"viewBox=\"0 0 24 24\"\n",
              "       width=\"24px\">\n",
              "    <path d=\"M0 0h24v24H0V0z\" fill=\"none\"/>\n",
              "    <path d=\"M18.56 5.44l.94 2.06.94-2.06 2.06-.94-2.06-.94-.94-2.06-.94 2.06-2.06.94zm-11 1L8.5 8.5l.94-2.06 2.06-.94-2.06-.94L8.5 2.5l-.94 2.06-2.06.94zm10 10l.94 2.06.94-2.06 2.06-.94-2.06-.94-.94-2.06-.94 2.06-2.06.94z\"/><path d=\"M17.41 7.96l-1.37-1.37c-.4-.4-.92-.59-1.43-.59-.52 0-1.04.2-1.43.59L10.3 9.45l-7.72 7.72c-.78.78-.78 2.05 0 2.83L4 21.41c.39.39.9.59 1.41.59.51 0 1.02-.2 1.41-.59l7.78-7.78 2.81-2.81c.8-.78.8-2.07 0-2.86zM5.41 20L4 18.59l7.72-7.72 1.47 1.35L5.41 20z\"/>\n",
              "  </svg>\n",
              "      </button>\n",
              "      \n",
              "  <style>\n",
              "    .colab-df-container {\n",
              "      display:flex;\n",
              "      flex-wrap:wrap;\n",
              "      gap: 12px;\n",
              "    }\n",
              "\n",
              "    .colab-df-convert {\n",
              "      background-color: #E8F0FE;\n",
              "      border: none;\n",
              "      border-radius: 50%;\n",
              "      cursor: pointer;\n",
              "      display: none;\n",
              "      fill: #1967D2;\n",
              "      height: 32px;\n",
              "      padding: 0 0 0 0;\n",
              "      width: 32px;\n",
              "    }\n",
              "\n",
              "    .colab-df-convert:hover {\n",
              "      background-color: #E2EBFA;\n",
              "      box-shadow: 0px 1px 2px rgba(60, 64, 67, 0.3), 0px 1px 3px 1px rgba(60, 64, 67, 0.15);\n",
              "      fill: #174EA6;\n",
              "    }\n",
              "\n",
              "    [theme=dark] .colab-df-convert {\n",
              "      background-color: #3B4455;\n",
              "      fill: #D2E3FC;\n",
              "    }\n",
              "\n",
              "    [theme=dark] .colab-df-convert:hover {\n",
              "      background-color: #434B5C;\n",
              "      box-shadow: 0px 1px 3px 1px rgba(0, 0, 0, 0.15);\n",
              "      filter: drop-shadow(0px 1px 2px rgba(0, 0, 0, 0.3));\n",
              "      fill: #FFFFFF;\n",
              "    }\n",
              "  </style>\n",
              "\n",
              "      <script>\n",
              "        const buttonEl =\n",
              "          document.querySelector('#df-a719d549-083d-4821-99b9-67500b0526d2 button.colab-df-convert');\n",
              "        buttonEl.style.display =\n",
              "          google.colab.kernel.accessAllowed ? 'block' : 'none';\n",
              "\n",
              "        async function convertToInteractive(key) {\n",
              "          const element = document.querySelector('#df-a719d549-083d-4821-99b9-67500b0526d2');\n",
              "          const dataTable =\n",
              "            await google.colab.kernel.invokeFunction('convertToInteractive',\n",
              "                                                     [key], {});\n",
              "          if (!dataTable) return;\n",
              "\n",
              "          const docLinkHtml = 'Like what you see? Visit the ' +\n",
              "            '<a target=\"_blank\" href=https://colab.research.google.com/notebooks/data_table.ipynb>data table notebook</a>'\n",
              "            + ' to learn more about interactive tables.';\n",
              "          element.innerHTML = '';\n",
              "          dataTable['output_type'] = 'display_data';\n",
              "          await google.colab.output.renderOutput(dataTable, element);\n",
              "          const docLink = document.createElement('div');\n",
              "          docLink.innerHTML = docLinkHtml;\n",
              "          element.appendChild(docLink);\n",
              "        }\n",
              "      </script>\n",
              "    </div>\n",
              "  </div>\n",
              "  "
            ]
          },
          "metadata": {},
          "execution_count": 29
        }
      ]
    },
    {
      "cell_type": "markdown",
      "source": [
        "## Get Max Speed ID"
      ],
      "metadata": {
        "id": "0lKR_y1p99_a"
      }
    },
    {
      "cell_type": "code",
      "source": [
        "max_speed_row = full_df[full_df['SPEED']==full_df['SPEED'].max()]\n",
        "max_speed_row"
      ],
      "metadata": {
        "colab": {
          "base_uri": "https://localhost:8080/",
          "height": 81
        },
        "id": "xDh1ikgR-u7c",
        "outputId": "7143a5c8-7cd7-4c3e-f5b9-2af47d1aea27"
      },
      "execution_count": 30,
      "outputs": [
        {
          "output_type": "execute_result",
          "data": {
            "text/plain": [
              "       EVENT_NO_TRIP   OPD_DATE  VEHICLE_ID  METERS  ACT_TIME  GPS_LONGITUDE  \\\n",
              "63774      259159619 2023-02-15        2940  157243     64451    -122.792802   \n",
              "\n",
              "       GPS_LATITUDE           TIMESTAMP        SPEED  \n",
              "63774     45.483517 2023-02-15 17:54:11  1568.346154  "
            ],
            "text/html": [
              "\n",
              "  <div id=\"df-2d82046a-a777-467e-aaba-72f4c0cab6e3\">\n",
              "    <div class=\"colab-df-container\">\n",
              "      <div>\n",
              "<style scoped>\n",
              "    .dataframe tbody tr th:only-of-type {\n",
              "        vertical-align: middle;\n",
              "    }\n",
              "\n",
              "    .dataframe tbody tr th {\n",
              "        vertical-align: top;\n",
              "    }\n",
              "\n",
              "    .dataframe thead th {\n",
              "        text-align: right;\n",
              "    }\n",
              "</style>\n",
              "<table border=\"1\" class=\"dataframe\">\n",
              "  <thead>\n",
              "    <tr style=\"text-align: right;\">\n",
              "      <th></th>\n",
              "      <th>EVENT_NO_TRIP</th>\n",
              "      <th>OPD_DATE</th>\n",
              "      <th>VEHICLE_ID</th>\n",
              "      <th>METERS</th>\n",
              "      <th>ACT_TIME</th>\n",
              "      <th>GPS_LONGITUDE</th>\n",
              "      <th>GPS_LATITUDE</th>\n",
              "      <th>TIMESTAMP</th>\n",
              "      <th>SPEED</th>\n",
              "    </tr>\n",
              "  </thead>\n",
              "  <tbody>\n",
              "    <tr>\n",
              "      <th>63774</th>\n",
              "      <td>259159619</td>\n",
              "      <td>2023-02-15</td>\n",
              "      <td>2940</td>\n",
              "      <td>157243</td>\n",
              "      <td>64451</td>\n",
              "      <td>-122.792802</td>\n",
              "      <td>45.483517</td>\n",
              "      <td>2023-02-15 17:54:11</td>\n",
              "      <td>1568.346154</td>\n",
              "    </tr>\n",
              "  </tbody>\n",
              "</table>\n",
              "</div>\n",
              "      <button class=\"colab-df-convert\" onclick=\"convertToInteractive('df-2d82046a-a777-467e-aaba-72f4c0cab6e3')\"\n",
              "              title=\"Convert this dataframe to an interactive table.\"\n",
              "              style=\"display:none;\">\n",
              "        \n",
              "  <svg xmlns=\"http://www.w3.org/2000/svg\" height=\"24px\"viewBox=\"0 0 24 24\"\n",
              "       width=\"24px\">\n",
              "    <path d=\"M0 0h24v24H0V0z\" fill=\"none\"/>\n",
              "    <path d=\"M18.56 5.44l.94 2.06.94-2.06 2.06-.94-2.06-.94-.94-2.06-.94 2.06-2.06.94zm-11 1L8.5 8.5l.94-2.06 2.06-.94-2.06-.94L8.5 2.5l-.94 2.06-2.06.94zm10 10l.94 2.06.94-2.06 2.06-.94-2.06-.94-.94-2.06-.94 2.06-2.06.94z\"/><path d=\"M17.41 7.96l-1.37-1.37c-.4-.4-.92-.59-1.43-.59-.52 0-1.04.2-1.43.59L10.3 9.45l-7.72 7.72c-.78.78-.78 2.05 0 2.83L4 21.41c.39.39.9.59 1.41.59.51 0 1.02-.2 1.41-.59l7.78-7.78 2.81-2.81c.8-.78.8-2.07 0-2.86zM5.41 20L4 18.59l7.72-7.72 1.47 1.35L5.41 20z\"/>\n",
              "  </svg>\n",
              "      </button>\n",
              "      \n",
              "  <style>\n",
              "    .colab-df-container {\n",
              "      display:flex;\n",
              "      flex-wrap:wrap;\n",
              "      gap: 12px;\n",
              "    }\n",
              "\n",
              "    .colab-df-convert {\n",
              "      background-color: #E8F0FE;\n",
              "      border: none;\n",
              "      border-radius: 50%;\n",
              "      cursor: pointer;\n",
              "      display: none;\n",
              "      fill: #1967D2;\n",
              "      height: 32px;\n",
              "      padding: 0 0 0 0;\n",
              "      width: 32px;\n",
              "    }\n",
              "\n",
              "    .colab-df-convert:hover {\n",
              "      background-color: #E2EBFA;\n",
              "      box-shadow: 0px 1px 2px rgba(60, 64, 67, 0.3), 0px 1px 3px 1px rgba(60, 64, 67, 0.15);\n",
              "      fill: #174EA6;\n",
              "    }\n",
              "\n",
              "    [theme=dark] .colab-df-convert {\n",
              "      background-color: #3B4455;\n",
              "      fill: #D2E3FC;\n",
              "    }\n",
              "\n",
              "    [theme=dark] .colab-df-convert:hover {\n",
              "      background-color: #434B5C;\n",
              "      box-shadow: 0px 1px 3px 1px rgba(0, 0, 0, 0.15);\n",
              "      filter: drop-shadow(0px 1px 2px rgba(0, 0, 0, 0.3));\n",
              "      fill: #FFFFFF;\n",
              "    }\n",
              "  </style>\n",
              "\n",
              "      <script>\n",
              "        const buttonEl =\n",
              "          document.querySelector('#df-2d82046a-a777-467e-aaba-72f4c0cab6e3 button.colab-df-convert');\n",
              "        buttonEl.style.display =\n",
              "          google.colab.kernel.accessAllowed ? 'block' : 'none';\n",
              "\n",
              "        async function convertToInteractive(key) {\n",
              "          const element = document.querySelector('#df-2d82046a-a777-467e-aaba-72f4c0cab6e3');\n",
              "          const dataTable =\n",
              "            await google.colab.kernel.invokeFunction('convertToInteractive',\n",
              "                                                     [key], {});\n",
              "          if (!dataTable) return;\n",
              "\n",
              "          const docLinkHtml = 'Like what you see? Visit the ' +\n",
              "            '<a target=\"_blank\" href=https://colab.research.google.com/notebooks/data_table.ipynb>data table notebook</a>'\n",
              "            + ' to learn more about interactive tables.';\n",
              "          element.innerHTML = '';\n",
              "          dataTable['output_type'] = 'display_data';\n",
              "          await google.colab.output.renderOutput(dataTable, element);\n",
              "          const docLink = document.createElement('div');\n",
              "          docLink.innerHTML = docLinkHtml;\n",
              "          element.appendChild(docLink);\n",
              "        }\n",
              "      </script>\n",
              "    </div>\n",
              "  </div>\n",
              "  "
            ]
          },
          "metadata": {},
          "execution_count": 30
        }
      ]
    },
    {
      "cell_type": "code",
      "source": [
        "max_speed_ID = max_speed_row['VEHICLE_ID'].iloc[0]\n",
        "max_speed_ID"
      ],
      "metadata": {
        "colab": {
          "base_uri": "https://localhost:8080/"
        },
        "id": "TYo_n1vn_nk3",
        "outputId": "fd8a2fec-0063-4e4c-b45e-e8df8b4c943b"
      },
      "execution_count": 31,
      "outputs": [
        {
          "output_type": "execute_result",
          "data": {
            "text/plain": [
              "2940"
            ]
          },
          "metadata": {},
          "execution_count": 31
        }
      ]
    },
    {
      "cell_type": "code",
      "source": [
        "max_speed = Get_Max_Speed_For_ID(full_df, max_speed_ID)\n",
        "max_speed"
      ],
      "metadata": {
        "colab": {
          "base_uri": "https://localhost:8080/"
        },
        "id": "7ycOySCN7uVK",
        "outputId": "57eb51b8-e3b2-43db-b1ba-c5f29b2ed729"
      },
      "execution_count": 48,
      "outputs": [
        {
          "output_type": "execute_result",
          "data": {
            "text/plain": [
              "1568.3461538461538"
            ]
          },
          "metadata": {},
          "execution_count": 48
        }
      ]
    },
    {
      "cell_type": "markdown",
      "source": [
        "## Where and When Did This Max Speed Occur?"
      ],
      "metadata": {
        "id": "zC_pjr1u_uwt"
      }
    },
    {
      "cell_type": "code",
      "source": [
        "speed_dates = Get_Speed_Date(full_df, max_speed_ID, max_speed)\n",
        "speed_dates"
      ],
      "metadata": {
        "colab": {
          "base_uri": "https://localhost:8080/"
        },
        "id": "75eatFU39ogD",
        "outputId": "331ef646-8c48-421a-e38a-481f6fa516df"
      },
      "execution_count": 49,
      "outputs": [
        {
          "output_type": "execute_result",
          "data": {
            "text/plain": [
              "63774   2023-02-15\n",
              "Name: OPD_DATE, dtype: datetime64[ns]"
            ]
          },
          "metadata": {},
          "execution_count": 49
        }
      ]
    },
    {
      "cell_type": "code",
      "source": [
        "speed_loc = Get_Speed_Loc(full_df, max_speed_ID, max_speed)\n",
        "speed_loc"
      ],
      "metadata": {
        "colab": {
          "base_uri": "https://localhost:8080/"
        },
        "id": "tjB_xLfuAocK",
        "outputId": "e1e3e462-f313-43b9-e01d-25465e447f2b"
      },
      "execution_count": 56,
      "outputs": [
        {
          "output_type": "execute_result",
          "data": {
            "text/plain": [
              "(-122.792802, 45.483517)"
            ]
          },
          "metadata": {},
          "execution_count": 56
        }
      ]
    },
    {
      "cell_type": "markdown",
      "source": [
        "## Which vehicle had the fastest mean speed for any single trip on this day?"
      ],
      "metadata": {
        "id": "oOHLWimoCW4R"
      }
    },
    {
      "cell_type": "code",
      "source": [
        "max_speed_ID"
      ],
      "metadata": {
        "colab": {
          "base_uri": "https://localhost:8080/"
        },
        "id": "50GjgsP69qSD",
        "outputId": "daccd532-5db6-41c2-f06d-f910ffbb4413"
      },
      "execution_count": 57,
      "outputs": [
        {
          "output_type": "execute_result",
          "data": {
            "text/plain": [
              "2940"
            ]
          },
          "metadata": {},
          "execution_count": 57
        }
      ]
    },
    {
      "cell_type": "markdown",
      "source": [
        "## Which vehicle and which trip achieved this fastest average speed?"
      ],
      "metadata": {
        "id": "tSR91DPaCYei"
      }
    },
    {
      "cell_type": "code",
      "source": [
        "max_speed_row = full_df[full_df['SPEED']==full_df['SPEED'].max()]\n",
        "max_speed_row"
      ],
      "metadata": {
        "id": "j8CS3R1x9rh5"
      },
      "execution_count": null,
      "outputs": []
    }
  ]
}